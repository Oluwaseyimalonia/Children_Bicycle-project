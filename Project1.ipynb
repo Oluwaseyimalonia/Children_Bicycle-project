{
 "cells": [
  {
   "cell_type": "markdown",
   "metadata": {},
   "source": [
    "## IMPROVING CHILDREN'S  BIKE SALES"
   ]
  },
  {
   "cell_type": "markdown",
   "metadata": {},
   "source": [
    "   Recently in United Kingdom, a comapany  that produces children's bicycle identify changes in their sales, which have affected their production. Clients from cities, even local places have stopped calling in for a maximum supply of their product. What could have happened?, what has gone wrong? These are the questions the stakeholders in the company where asking themselves.\n",
    "   \n",
    " Inorder for them to figure-out this unknown problem, different reseach was carried out. One of reseach that was carried out helped the company to gather sensors datas to solve this problem.\n",
    " \n",
    "As a data sciencist, I was ask to look into this datas and figure-out the cause of this problem. \n",
    "    \n",
    "\n",
    "\n",
    "\n",
    "\n",
    "\n"
   ]
  },
  {
   "cell_type": "markdown",
   "metadata": {},
   "source": [
    "## Method Used"
   ]
  },
  {
   "cell_type": "markdown",
   "metadata": {},
   "source": [
    " A sensor camera was used to collect the datas. Two children(boy and girl) of age 7 of different parents was used to carried out this assignment in their local community followed by their parents. It was attached on their helmet a sensor camera which could sense all the activities of these two children when they are riding their bicycle.\n",
    " \n",
    "Inside this camera is a panel which consist accelerator and Gyroscope sensors which are good for studying  displacement and orientations.\n",
    " \n",
    "In details, whenever a bicycle is moving, we excepted it to move on a straight line but whenever there is a slide change in the movement, bicycle might change it normal linear position. What courses the position of the bicycle to change is due to the force that was appllied to it's linear position. \n",
    "\n",
    "Accelerometer and Gyroscope sensors measure are in three orthogonal directions i.e X, Y, Z axes. Once a force is applied on a bike,there would be an huge or slide displacement, accelerometer  helps us to recongnise the activities of  the displacement. The work of the gyroscope is to identify and record the orientation(angular velocity) that took place once a force is applied on the object(bike). \n",
    "\n",
    "After some minutes cycling of these two children, their cameras recorded different results, but dataset of one of them was presented to me to visualize. "
   ]
  },
  {
   "cell_type": "markdown",
   "metadata": {},
   "source": [
    "## Aim"
   ]
  },
  {
   "cell_type": "markdown",
   "metadata": {},
   "source": [
    "1.The aim of this project is to give a proper insight into different activities that took place while riding the bicycle if it has been a problem that is affecting the company sales or not."
   ]
  },
  {
   "cell_type": "markdown",
   "metadata": {},
   "source": [
    "## Objective"
   ]
  },
  {
   "cell_type": "markdown",
   "metadata": {},
   "source": [
    "Bring about solutions that would have a positive impart on the company's sales."
   ]
  },
  {
   "cell_type": "markdown",
   "metadata": {},
   "source": [
    "## Import Project Libraries"
   ]
  },
  {
   "cell_type": "markdown",
   "metadata": {},
   "source": [
    "Our first assignment in this project is to import some libraries we will use through out the project.\n",
    "\n",
    "I imported numpy and pandas for the arrays and the dataset and represent them with Aliases np and pd respectively. From sklearn, I imported K-Means Clutering to identify different activities that took place on the bicycle. Many more libraries would also be imported when moving on in our project.\n",
    "\n",
    "Lastly %matplotlib inline help all our graph to be included in the Notebook."
   ]
  },
  {
   "cell_type": "code",
   "execution_count": 1,
   "metadata": {},
   "outputs": [
    {
     "data": {
      "text/html": [
       "        <script type=\"text/javascript\">\n",
       "        window.PlotlyConfig = {MathJaxConfig: 'local'};\n",
       "        if (window.MathJax) {MathJax.Hub.Config({SVG: {font: \"STIX-Web\"}});}\n",
       "        if (typeof require !== 'undefined') {\n",
       "        require.undef(\"plotly\");\n",
       "        requirejs.config({\n",
       "            paths: {\n",
       "                'plotly': ['https://cdn.plot.ly/plotly-latest.min']\n",
       "            }\n",
       "        });\n",
       "        require(['plotly'], function(Plotly) {\n",
       "            window._Plotly = Plotly;\n",
       "        });\n",
       "        }\n",
       "        </script>\n",
       "        "
      ]
     },
     "metadata": {},
     "output_type": "display_data"
    },
    {
     "data": {
      "text/html": [
       "        <script type=\"text/javascript\">\n",
       "        window.PlotlyConfig = {MathJaxConfig: 'local'};\n",
       "        if (window.MathJax) {MathJax.Hub.Config({SVG: {font: \"STIX-Web\"}});}\n",
       "        if (typeof require !== 'undefined') {\n",
       "        require.undef(\"plotly\");\n",
       "        requirejs.config({\n",
       "            paths: {\n",
       "                'plotly': ['https://cdn.plot.ly/plotly-latest.min']\n",
       "            }\n",
       "        });\n",
       "        require(['plotly'], function(Plotly) {\n",
       "            window._Plotly = Plotly;\n",
       "        });\n",
       "        }\n",
       "        </script>\n",
       "        "
      ]
     },
     "metadata": {},
     "output_type": "display_data"
    }
   ],
   "source": [
    "#Import numpy for an array operations\n",
    "import numpy as np\n",
    "#Import pandas for Dataframe\n",
    "import pandas as pd\n",
    "\n",
    "#import matplotlibs for visaulization\n",
    "import matplotlib.pyplot as plt\n",
    "import matplotlib.cm as cm\n",
    "import seaborn as sns\n",
    "from matplotlib import cm # color mapfier\n",
    "%matplotlib inline\n",
    "\n",
    "#Import KMeans for the clustering\n",
    "from sklearn.cluster import KMeans\n",
    "\n",
    "#Scale the dataset for optimal accuracy\n",
    "from sklearn.preprocessing import scale \n",
    "\n",
    "#Plotly and Cufflinks for 3d visualization\n",
    "from plotly import __version__\n",
    "import cufflinks as cf\n",
    "from plotly.offline import download_plotlyjs,init_notebook_mode,plot, iplot\n",
    "init_notebook_mode(connected=True)\n",
    "cf.go_offline()\n",
    "\n"
   ]
  },
  {
   "cell_type": "markdown",
   "metadata": {},
   "source": [
    "## Dataset"
   ]
  },
  {
   "cell_type": "code",
   "execution_count": 2,
   "metadata": {},
   "outputs": [],
   "source": [
    "# We imported the dataset using pandas library. Read \n",
    "data= pd.read_csv('C:\\\\Users\\\\ajibo\\\\Desktop\\\\SENSORS ACTIVITY\\\\project1.csv')"
   ]
  },
  {
   "cell_type": "code",
   "execution_count": 3,
   "metadata": {
    "scrolled": true
   },
   "outputs": [
    {
     "data": {
      "text/html": [
       "<div>\n",
       "<style scoped>\n",
       "    .dataframe tbody tr th:only-of-type {\n",
       "        vertical-align: middle;\n",
       "    }\n",
       "\n",
       "    .dataframe tbody tr th {\n",
       "        vertical-align: top;\n",
       "    }\n",
       "\n",
       "    .dataframe thead th {\n",
       "        text-align: right;\n",
       "    }\n",
       "</style>\n",
       "<table border=\"1\" class=\"dataframe\">\n",
       "  <thead>\n",
       "    <tr style=\"text-align: right;\">\n",
       "      <th></th>\n",
       "      <th>cts</th>\n",
       "      <th>date</th>\n",
       "      <th>temperature [°C]</th>\n",
       "      <th>Accelerometer (z)</th>\n",
       "      <th>Accelerometer (x)</th>\n",
       "      <th>Accelerometer (y)</th>\n",
       "      <th>Gyroscope (z)</th>\n",
       "      <th>Gyroscope (x)</th>\n",
       "      <th>Gyroscope (y)</th>\n",
       "    </tr>\n",
       "  </thead>\n",
       "  <tbody>\n",
       "    <tr>\n",
       "      <td>0</td>\n",
       "      <td>80.577000</td>\n",
       "      <td>2019-11-18T23:45:14.000Z</td>\n",
       "      <td>31.121094</td>\n",
       "      <td>-8.616307</td>\n",
       "      <td>-0.474820</td>\n",
       "      <td>1.618705</td>\n",
       "      <td>0.222577</td>\n",
       "      <td>-0.072417</td>\n",
       "      <td>-0.155485</td>\n",
       "    </tr>\n",
       "    <tr>\n",
       "      <td>1</td>\n",
       "      <td>85.641369</td>\n",
       "      <td>2019-11-18T23:45:14.012Z</td>\n",
       "      <td>31.121094</td>\n",
       "      <td>-8.529976</td>\n",
       "      <td>-0.544365</td>\n",
       "      <td>1.484412</td>\n",
       "      <td>0.225772</td>\n",
       "      <td>-0.064963</td>\n",
       "      <td>-0.149095</td>\n",
       "    </tr>\n",
       "    <tr>\n",
       "      <td>2</td>\n",
       "      <td>90.705737</td>\n",
       "      <td>2019-11-18T23:45:14.024Z</td>\n",
       "      <td>31.121094</td>\n",
       "      <td>-8.472422</td>\n",
       "      <td>-0.592326</td>\n",
       "      <td>1.513189</td>\n",
       "      <td>0.224707</td>\n",
       "      <td>-0.070288</td>\n",
       "      <td>-0.138445</td>\n",
       "    </tr>\n",
       "    <tr>\n",
       "      <td>3</td>\n",
       "      <td>95.770106</td>\n",
       "      <td>2019-11-18T23:45:14.037Z</td>\n",
       "      <td>31.121094</td>\n",
       "      <td>-8.395683</td>\n",
       "      <td>-0.604317</td>\n",
       "      <td>1.565947</td>\n",
       "      <td>0.225772</td>\n",
       "      <td>-0.077742</td>\n",
       "      <td>-0.130990</td>\n",
       "    </tr>\n",
       "    <tr>\n",
       "      <td>4</td>\n",
       "      <td>100.834475</td>\n",
       "      <td>2019-11-18T23:45:14.049Z</td>\n",
       "      <td>31.121094</td>\n",
       "      <td>-8.280576</td>\n",
       "      <td>-0.640288</td>\n",
       "      <td>1.736211</td>\n",
       "      <td>0.227902</td>\n",
       "      <td>-0.077742</td>\n",
       "      <td>-0.126731</td>\n",
       "    </tr>\n",
       "    <tr>\n",
       "      <td>...</td>\n",
       "      <td>...</td>\n",
       "      <td>...</td>\n",
       "      <td>...</td>\n",
       "      <td>...</td>\n",
       "      <td>...</td>\n",
       "      <td>...</td>\n",
       "      <td>...</td>\n",
       "      <td>...</td>\n",
       "      <td>...</td>\n",
       "    </tr>\n",
       "    <tr>\n",
       "      <td>2077</td>\n",
       "      <td>10600.612050</td>\n",
       "      <td>2019-11-18T23:45:25.935Z</td>\n",
       "      <td>31.755859</td>\n",
       "      <td>-8.426859</td>\n",
       "      <td>1.774580</td>\n",
       "      <td>2.645084</td>\n",
       "      <td>1.558040</td>\n",
       "      <td>-0.659212</td>\n",
       "      <td>0.260916</td>\n",
       "    </tr>\n",
       "    <tr>\n",
       "      <td>2078</td>\n",
       "      <td>10605.688240</td>\n",
       "      <td>2019-11-18T23:45:25.940Z</td>\n",
       "      <td>31.755859</td>\n",
       "      <td>-8.213429</td>\n",
       "      <td>2.299760</td>\n",
       "      <td>1.762590</td>\n",
       "      <td>1.580405</td>\n",
       "      <td>-0.665602</td>\n",
       "      <td>0.268371</td>\n",
       "    </tr>\n",
       "    <tr>\n",
       "      <td>2079</td>\n",
       "      <td>10610.764430</td>\n",
       "      <td>2019-11-18T23:45:25.945Z</td>\n",
       "      <td>31.755859</td>\n",
       "      <td>-8.189448</td>\n",
       "      <td>2.906475</td>\n",
       "      <td>1.208633</td>\n",
       "      <td>1.628328</td>\n",
       "      <td>-0.692226</td>\n",
       "      <td>0.238552</td>\n",
       "    </tr>\n",
       "    <tr>\n",
       "      <td>2080</td>\n",
       "      <td>10615.840620</td>\n",
       "      <td>2019-11-18T23:45:25.950Z</td>\n",
       "      <td>31.755859</td>\n",
       "      <td>-8.249400</td>\n",
       "      <td>3.594724</td>\n",
       "      <td>1.249400</td>\n",
       "      <td>1.585729</td>\n",
       "      <td>-0.748669</td>\n",
       "      <td>0.186368</td>\n",
       "    </tr>\n",
       "    <tr>\n",
       "      <td>2081</td>\n",
       "      <td>10620.916810</td>\n",
       "      <td>2019-11-18T23:45:25.955Z</td>\n",
       "      <td>31.755859</td>\n",
       "      <td>-8.424460</td>\n",
       "      <td>4.009592</td>\n",
       "      <td>1.589928</td>\n",
       "      <td>1.503727</td>\n",
       "      <td>-0.812567</td>\n",
       "      <td>0.117146</td>\n",
       "    </tr>\n",
       "  </tbody>\n",
       "</table>\n",
       "<p>2082 rows × 9 columns</p>\n",
       "</div>"
      ],
      "text/plain": [
       "               cts                      date  temperature [°C]  \\\n",
       "0        80.577000  2019-11-18T23:45:14.000Z         31.121094   \n",
       "1        85.641369  2019-11-18T23:45:14.012Z         31.121094   \n",
       "2        90.705737  2019-11-18T23:45:14.024Z         31.121094   \n",
       "3        95.770106  2019-11-18T23:45:14.037Z         31.121094   \n",
       "4       100.834475  2019-11-18T23:45:14.049Z         31.121094   \n",
       "...            ...                       ...               ...   \n",
       "2077  10600.612050  2019-11-18T23:45:25.935Z         31.755859   \n",
       "2078  10605.688240  2019-11-18T23:45:25.940Z         31.755859   \n",
       "2079  10610.764430  2019-11-18T23:45:25.945Z         31.755859   \n",
       "2080  10615.840620  2019-11-18T23:45:25.950Z         31.755859   \n",
       "2081  10620.916810  2019-11-18T23:45:25.955Z         31.755859   \n",
       "\n",
       "      Accelerometer (z)   Accelerometer (x)   Accelerometer (y)   \\\n",
       "0              -8.616307           -0.474820            1.618705   \n",
       "1              -8.529976           -0.544365            1.484412   \n",
       "2              -8.472422           -0.592326            1.513189   \n",
       "3              -8.395683           -0.604317            1.565947   \n",
       "4              -8.280576           -0.640288            1.736211   \n",
       "...                  ...                 ...                 ...   \n",
       "2077           -8.426859            1.774580            2.645084   \n",
       "2078           -8.213429            2.299760            1.762590   \n",
       "2079           -8.189448            2.906475            1.208633   \n",
       "2080           -8.249400            3.594724            1.249400   \n",
       "2081           -8.424460            4.009592            1.589928   \n",
       "\n",
       "      Gyroscope (z)   Gyroscope (x)   Gyroscope (y)   \n",
       "0           0.222577       -0.072417       -0.155485  \n",
       "1           0.225772       -0.064963       -0.149095  \n",
       "2           0.224707       -0.070288       -0.138445  \n",
       "3           0.225772       -0.077742       -0.130990  \n",
       "4           0.227902       -0.077742       -0.126731  \n",
       "...              ...             ...             ...  \n",
       "2077        1.558040       -0.659212        0.260916  \n",
       "2078        1.580405       -0.665602        0.268371  \n",
       "2079        1.628328       -0.692226        0.238552  \n",
       "2080        1.585729       -0.748669        0.186368  \n",
       "2081        1.503727       -0.812567        0.117146  \n",
       "\n",
       "[2082 rows x 9 columns]"
      ]
     },
     "execution_count": 3,
     "metadata": {},
     "output_type": "execute_result"
    }
   ],
   "source": [
    "data"
   ]
  },
  {
   "cell_type": "code",
   "execution_count": 4,
   "metadata": {},
   "outputs": [
    {
     "data": {
      "text/plain": [
       "0.011259757245"
      ]
     },
     "execution_count": 4,
     "metadata": {},
     "output_type": "execute_result"
    }
   ],
   "source": [
    "-0.072417*-0.155485"
   ]
  },
  {
   "cell_type": "code",
   "execution_count": 5,
   "metadata": {},
   "outputs": [
    {
     "data": {
      "text/plain": [
       "(2082, 9)"
      ]
     },
     "execution_count": 5,
     "metadata": {},
     "output_type": "execute_result"
    }
   ],
   "source": [
    "data.shape # This are the numbers of rows and columns of our dataset"
   ]
  },
  {
   "cell_type": "markdown",
   "metadata": {},
   "source": [
    "## Data cleaning and Data Info "
   ]
  },
  {
   "cell_type": "code",
   "execution_count": 6,
   "metadata": {},
   "outputs": [
    {
     "data": {
      "text/plain": [
       "cts                   False\n",
       "date                  False\n",
       "temperature [°C]      False\n",
       "Accelerometer (z)     False\n",
       "Accelerometer (x)     False\n",
       "Accelerometer (y)     False\n",
       "Gyroscope (z)         False\n",
       "Gyroscope (x)         False\n",
       "Gyroscope (y)         False\n",
       "dtype: bool"
      ]
     },
     "execution_count": 6,
     "metadata": {},
     "output_type": "execute_result"
    }
   ],
   "source": [
    "# Now, we can check if there is a missing datas in our dataset\n",
    "data.isnull().any() \n",
    "#isnull.any() iterate through the whole rows and bringout any row that has missing values."
   ]
  },
  {
   "cell_type": "markdown",
   "metadata": {},
   "source": [
    "Since we have a clean dataset. we can proceed to the next step of the project."
   ]
  },
  {
   "cell_type": "code",
   "execution_count": 7,
   "metadata": {},
   "outputs": [
    {
     "data": {
      "text/plain": [
       "Index(['cts', 'date', 'temperature [°C]', 'Accelerometer (z) ',\n",
       "       'Accelerometer (x) ', 'Accelerometer (y) ', 'Gyroscope (z) ',\n",
       "       'Gyroscope (x) ', 'Gyroscope (y) '],\n",
       "      dtype='object')"
      ]
     },
     "execution_count": 7,
     "metadata": {},
     "output_type": "execute_result"
    }
   ],
   "source": [
    "data.columns # 9 features of the data"
   ]
  },
  {
   "cell_type": "code",
   "execution_count": 8,
   "metadata": {},
   "outputs": [],
   "source": [
    "# Let's rename the columns of this dataset\n",
    "data2= ['cts', 'date', 'temp', 'Acce(z)', 'Acce(x)', 'Acce(y)', 'Gyro(z)', 'Gyro(x)', 'Gyro(y)']\n",
    "data.columns= data2"
   ]
  },
  {
   "cell_type": "code",
   "execution_count": 9,
   "metadata": {},
   "outputs": [
    {
     "data": {
      "text/plain": [
       "<bound method DataFrame.info of                cts                      date       temp   Acce(z)   Acce(x)  \\\n",
       "0        80.577000  2019-11-18T23:45:14.000Z  31.121094 -8.616307 -0.474820   \n",
       "1        85.641369  2019-11-18T23:45:14.012Z  31.121094 -8.529976 -0.544365   \n",
       "2        90.705737  2019-11-18T23:45:14.024Z  31.121094 -8.472422 -0.592326   \n",
       "3        95.770106  2019-11-18T23:45:14.037Z  31.121094 -8.395683 -0.604317   \n",
       "4       100.834475  2019-11-18T23:45:14.049Z  31.121094 -8.280576 -0.640288   \n",
       "...            ...                       ...        ...       ...       ...   \n",
       "2077  10600.612050  2019-11-18T23:45:25.935Z  31.755859 -8.426859  1.774580   \n",
       "2078  10605.688240  2019-11-18T23:45:25.940Z  31.755859 -8.213429  2.299760   \n",
       "2079  10610.764430  2019-11-18T23:45:25.945Z  31.755859 -8.189448  2.906475   \n",
       "2080  10615.840620  2019-11-18T23:45:25.950Z  31.755859 -8.249400  3.594724   \n",
       "2081  10620.916810  2019-11-18T23:45:25.955Z  31.755859 -8.424460  4.009592   \n",
       "\n",
       "       Acce(y)   Gyro(z)   Gyro(x)   Gyro(y)  \n",
       "0     1.618705  0.222577 -0.072417 -0.155485  \n",
       "1     1.484412  0.225772 -0.064963 -0.149095  \n",
       "2     1.513189  0.224707 -0.070288 -0.138445  \n",
       "3     1.565947  0.225772 -0.077742 -0.130990  \n",
       "4     1.736211  0.227902 -0.077742 -0.126731  \n",
       "...        ...       ...       ...       ...  \n",
       "2077  2.645084  1.558040 -0.659212  0.260916  \n",
       "2078  1.762590  1.580405 -0.665602  0.268371  \n",
       "2079  1.208633  1.628328 -0.692226  0.238552  \n",
       "2080  1.249400  1.585729 -0.748669  0.186368  \n",
       "2081  1.589928  1.503727 -0.812567  0.117146  \n",
       "\n",
       "[2082 rows x 9 columns]>"
      ]
     },
     "execution_count": 9,
     "metadata": {},
     "output_type": "execute_result"
    }
   ],
   "source": [
    "# Let's check the information about the data to know if there is an empty row or column.\n",
    "data.info "
   ]
  },
  {
   "cell_type": "markdown",
   "metadata": {},
   "source": [
    "The informations shows that our dataset contains 2082 rows and 9 columns. "
   ]
  },
  {
   "cell_type": "code",
   "execution_count": 10,
   "metadata": {},
   "outputs": [
    {
     "data": {
      "text/html": [
       "<div>\n",
       "<style scoped>\n",
       "    .dataframe tbody tr th:only-of-type {\n",
       "        vertical-align: middle;\n",
       "    }\n",
       "\n",
       "    .dataframe tbody tr th {\n",
       "        vertical-align: top;\n",
       "    }\n",
       "\n",
       "    .dataframe thead th {\n",
       "        text-align: right;\n",
       "    }\n",
       "</style>\n",
       "<table border=\"1\" class=\"dataframe\">\n",
       "  <thead>\n",
       "    <tr style=\"text-align: right;\">\n",
       "      <th></th>\n",
       "      <th>cts</th>\n",
       "      <th>date</th>\n",
       "      <th>temp</th>\n",
       "      <th>Acce(z)</th>\n",
       "      <th>Acce(x)</th>\n",
       "      <th>Acce(y)</th>\n",
       "      <th>Gyro(z)</th>\n",
       "      <th>Gyro(x)</th>\n",
       "      <th>Gyro(y)</th>\n",
       "    </tr>\n",
       "  </thead>\n",
       "  <tbody>\n",
       "    <tr>\n",
       "      <td>0</td>\n",
       "      <td>80.577000</td>\n",
       "      <td>2019-11-18T23:45:14.000Z</td>\n",
       "      <td>31.121094</td>\n",
       "      <td>-8.616307</td>\n",
       "      <td>-0.474820</td>\n",
       "      <td>1.618705</td>\n",
       "      <td>0.222577</td>\n",
       "      <td>-0.072417</td>\n",
       "      <td>-0.155485</td>\n",
       "    </tr>\n",
       "    <tr>\n",
       "      <td>1</td>\n",
       "      <td>85.641369</td>\n",
       "      <td>2019-11-18T23:45:14.012Z</td>\n",
       "      <td>31.121094</td>\n",
       "      <td>-8.529976</td>\n",
       "      <td>-0.544365</td>\n",
       "      <td>1.484412</td>\n",
       "      <td>0.225772</td>\n",
       "      <td>-0.064963</td>\n",
       "      <td>-0.149095</td>\n",
       "    </tr>\n",
       "    <tr>\n",
       "      <td>2</td>\n",
       "      <td>90.705737</td>\n",
       "      <td>2019-11-18T23:45:14.024Z</td>\n",
       "      <td>31.121094</td>\n",
       "      <td>-8.472422</td>\n",
       "      <td>-0.592326</td>\n",
       "      <td>1.513189</td>\n",
       "      <td>0.224707</td>\n",
       "      <td>-0.070288</td>\n",
       "      <td>-0.138445</td>\n",
       "    </tr>\n",
       "    <tr>\n",
       "      <td>3</td>\n",
       "      <td>95.770106</td>\n",
       "      <td>2019-11-18T23:45:14.037Z</td>\n",
       "      <td>31.121094</td>\n",
       "      <td>-8.395683</td>\n",
       "      <td>-0.604317</td>\n",
       "      <td>1.565947</td>\n",
       "      <td>0.225772</td>\n",
       "      <td>-0.077742</td>\n",
       "      <td>-0.130990</td>\n",
       "    </tr>\n",
       "    <tr>\n",
       "      <td>4</td>\n",
       "      <td>100.834475</td>\n",
       "      <td>2019-11-18T23:45:14.049Z</td>\n",
       "      <td>31.121094</td>\n",
       "      <td>-8.280576</td>\n",
       "      <td>-0.640288</td>\n",
       "      <td>1.736211</td>\n",
       "      <td>0.227902</td>\n",
       "      <td>-0.077742</td>\n",
       "      <td>-0.126731</td>\n",
       "    </tr>\n",
       "    <tr>\n",
       "      <td>5</td>\n",
       "      <td>105.898843</td>\n",
       "      <td>2019-11-18T23:45:14.062Z</td>\n",
       "      <td>31.121094</td>\n",
       "      <td>-8.153477</td>\n",
       "      <td>-0.683453</td>\n",
       "      <td>1.884892</td>\n",
       "      <td>0.224707</td>\n",
       "      <td>-0.061768</td>\n",
       "      <td>-0.123536</td>\n",
       "    </tr>\n",
       "    <tr>\n",
       "      <td>6</td>\n",
       "      <td>110.963212</td>\n",
       "      <td>2019-11-18T23:45:14.074Z</td>\n",
       "      <td>31.121094</td>\n",
       "      <td>-8.081535</td>\n",
       "      <td>-0.784173</td>\n",
       "      <td>1.968825</td>\n",
       "      <td>0.217252</td>\n",
       "      <td>-0.028754</td>\n",
       "      <td>-0.121406</td>\n",
       "    </tr>\n",
       "    <tr>\n",
       "      <td>7</td>\n",
       "      <td>116.027581</td>\n",
       "      <td>2019-11-18T23:45:14.087Z</td>\n",
       "      <td>31.121094</td>\n",
       "      <td>-8.045564</td>\n",
       "      <td>-0.884892</td>\n",
       "      <td>1.928058</td>\n",
       "      <td>0.201278</td>\n",
       "      <td>0.010650</td>\n",
       "      <td>-0.113951</td>\n",
       "    </tr>\n",
       "    <tr>\n",
       "      <td>8</td>\n",
       "      <td>121.091950</td>\n",
       "      <td>2019-11-18T23:45:14.099Z</td>\n",
       "      <td>31.121094</td>\n",
       "      <td>-8.100719</td>\n",
       "      <td>-0.923261</td>\n",
       "      <td>1.752998</td>\n",
       "      <td>0.184239</td>\n",
       "      <td>0.048988</td>\n",
       "      <td>-0.100106</td>\n",
       "    </tr>\n",
       "    <tr>\n",
       "      <td>9</td>\n",
       "      <td>126.156318</td>\n",
       "      <td>2019-11-18T23:45:14.112Z</td>\n",
       "      <td>31.121094</td>\n",
       "      <td>-8.220624</td>\n",
       "      <td>-0.952038</td>\n",
       "      <td>1.486811</td>\n",
       "      <td>0.181044</td>\n",
       "      <td>0.080937</td>\n",
       "      <td>-0.084132</td>\n",
       "    </tr>\n",
       "  </tbody>\n",
       "</table>\n",
       "</div>"
      ],
      "text/plain": [
       "          cts                      date       temp   Acce(z)   Acce(x)  \\\n",
       "0   80.577000  2019-11-18T23:45:14.000Z  31.121094 -8.616307 -0.474820   \n",
       "1   85.641369  2019-11-18T23:45:14.012Z  31.121094 -8.529976 -0.544365   \n",
       "2   90.705737  2019-11-18T23:45:14.024Z  31.121094 -8.472422 -0.592326   \n",
       "3   95.770106  2019-11-18T23:45:14.037Z  31.121094 -8.395683 -0.604317   \n",
       "4  100.834475  2019-11-18T23:45:14.049Z  31.121094 -8.280576 -0.640288   \n",
       "5  105.898843  2019-11-18T23:45:14.062Z  31.121094 -8.153477 -0.683453   \n",
       "6  110.963212  2019-11-18T23:45:14.074Z  31.121094 -8.081535 -0.784173   \n",
       "7  116.027581  2019-11-18T23:45:14.087Z  31.121094 -8.045564 -0.884892   \n",
       "8  121.091950  2019-11-18T23:45:14.099Z  31.121094 -8.100719 -0.923261   \n",
       "9  126.156318  2019-11-18T23:45:14.112Z  31.121094 -8.220624 -0.952038   \n",
       "\n",
       "    Acce(y)   Gyro(z)   Gyro(x)   Gyro(y)  \n",
       "0  1.618705  0.222577 -0.072417 -0.155485  \n",
       "1  1.484412  0.225772 -0.064963 -0.149095  \n",
       "2  1.513189  0.224707 -0.070288 -0.138445  \n",
       "3  1.565947  0.225772 -0.077742 -0.130990  \n",
       "4  1.736211  0.227902 -0.077742 -0.126731  \n",
       "5  1.884892  0.224707 -0.061768 -0.123536  \n",
       "6  1.968825  0.217252 -0.028754 -0.121406  \n",
       "7  1.928058  0.201278  0.010650 -0.113951  \n",
       "8  1.752998  0.184239  0.048988 -0.100106  \n",
       "9  1.486811  0.181044  0.080937 -0.084132  "
      ]
     },
     "execution_count": 10,
     "metadata": {},
     "output_type": "execute_result"
    }
   ],
   "source": [
    "data.head(10) #This is the first 10 columns of the dataset"
   ]
  },
  {
   "cell_type": "code",
   "execution_count": 11,
   "metadata": {},
   "outputs": [
    {
     "data": {
      "text/html": [
       "<div>\n",
       "<style scoped>\n",
       "    .dataframe tbody tr th:only-of-type {\n",
       "        vertical-align: middle;\n",
       "    }\n",
       "\n",
       "    .dataframe tbody tr th {\n",
       "        vertical-align: top;\n",
       "    }\n",
       "\n",
       "    .dataframe thead th {\n",
       "        text-align: right;\n",
       "    }\n",
       "</style>\n",
       "<table border=\"1\" class=\"dataframe\">\n",
       "  <thead>\n",
       "    <tr style=\"text-align: right;\">\n",
       "      <th></th>\n",
       "      <th>cts</th>\n",
       "      <th>date</th>\n",
       "      <th>temp</th>\n",
       "      <th>Acce(z)</th>\n",
       "      <th>Acce(x)</th>\n",
       "      <th>Acce(y)</th>\n",
       "      <th>Gyro(z)</th>\n",
       "      <th>Gyro(x)</th>\n",
       "      <th>Gyro(y)</th>\n",
       "    </tr>\n",
       "  </thead>\n",
       "  <tbody>\n",
       "    <tr>\n",
       "      <td>2077</td>\n",
       "      <td>10600.61205</td>\n",
       "      <td>2019-11-18T23:45:25.935Z</td>\n",
       "      <td>31.755859</td>\n",
       "      <td>-8.426859</td>\n",
       "      <td>1.774580</td>\n",
       "      <td>2.645084</td>\n",
       "      <td>1.558040</td>\n",
       "      <td>-0.659212</td>\n",
       "      <td>0.260916</td>\n",
       "    </tr>\n",
       "    <tr>\n",
       "      <td>2078</td>\n",
       "      <td>10605.68824</td>\n",
       "      <td>2019-11-18T23:45:25.940Z</td>\n",
       "      <td>31.755859</td>\n",
       "      <td>-8.213429</td>\n",
       "      <td>2.299760</td>\n",
       "      <td>1.762590</td>\n",
       "      <td>1.580405</td>\n",
       "      <td>-0.665602</td>\n",
       "      <td>0.268371</td>\n",
       "    </tr>\n",
       "    <tr>\n",
       "      <td>2079</td>\n",
       "      <td>10610.76443</td>\n",
       "      <td>2019-11-18T23:45:25.945Z</td>\n",
       "      <td>31.755859</td>\n",
       "      <td>-8.189448</td>\n",
       "      <td>2.906475</td>\n",
       "      <td>1.208633</td>\n",
       "      <td>1.628328</td>\n",
       "      <td>-0.692226</td>\n",
       "      <td>0.238552</td>\n",
       "    </tr>\n",
       "    <tr>\n",
       "      <td>2080</td>\n",
       "      <td>10615.84062</td>\n",
       "      <td>2019-11-18T23:45:25.950Z</td>\n",
       "      <td>31.755859</td>\n",
       "      <td>-8.249400</td>\n",
       "      <td>3.594724</td>\n",
       "      <td>1.249400</td>\n",
       "      <td>1.585729</td>\n",
       "      <td>-0.748669</td>\n",
       "      <td>0.186368</td>\n",
       "    </tr>\n",
       "    <tr>\n",
       "      <td>2081</td>\n",
       "      <td>10620.91681</td>\n",
       "      <td>2019-11-18T23:45:25.955Z</td>\n",
       "      <td>31.755859</td>\n",
       "      <td>-8.424460</td>\n",
       "      <td>4.009592</td>\n",
       "      <td>1.589928</td>\n",
       "      <td>1.503727</td>\n",
       "      <td>-0.812567</td>\n",
       "      <td>0.117146</td>\n",
       "    </tr>\n",
       "  </tbody>\n",
       "</table>\n",
       "</div>"
      ],
      "text/plain": [
       "              cts                      date       temp   Acce(z)   Acce(x)  \\\n",
       "2077  10600.61205  2019-11-18T23:45:25.935Z  31.755859 -8.426859  1.774580   \n",
       "2078  10605.68824  2019-11-18T23:45:25.940Z  31.755859 -8.213429  2.299760   \n",
       "2079  10610.76443  2019-11-18T23:45:25.945Z  31.755859 -8.189448  2.906475   \n",
       "2080  10615.84062  2019-11-18T23:45:25.950Z  31.755859 -8.249400  3.594724   \n",
       "2081  10620.91681  2019-11-18T23:45:25.955Z  31.755859 -8.424460  4.009592   \n",
       "\n",
       "       Acce(y)   Gyro(z)   Gyro(x)   Gyro(y)  \n",
       "2077  2.645084  1.558040 -0.659212  0.260916  \n",
       "2078  1.762590  1.580405 -0.665602  0.268371  \n",
       "2079  1.208633  1.628328 -0.692226  0.238552  \n",
       "2080  1.249400  1.585729 -0.748669  0.186368  \n",
       "2081  1.589928  1.503727 -0.812567  0.117146  "
      ]
     },
     "execution_count": 11,
     "metadata": {},
     "output_type": "execute_result"
    }
   ],
   "source": [
    "data.tail() #And the bottom of the dataset."
   ]
  },
  {
   "cell_type": "code",
   "execution_count": 12,
   "metadata": {},
   "outputs": [
    {
     "data": {
      "text/plain": [
       "0"
      ]
     },
     "execution_count": 12,
     "metadata": {},
     "output_type": "execute_result"
    }
   ],
   "source": [
    "data.duplicated().sum() #Checking for a unique rows"
   ]
  },
  {
   "cell_type": "code",
   "execution_count": 13,
   "metadata": {},
   "outputs": [
    {
     "data": {
      "text/plain": [
       "Index(['cts', 'date', 'temp', 'Acce(z)', 'Acce(x)', 'Acce(y)', 'Gyro(z)',\n",
       "       'Gyro(x)', 'Gyro(y)'],\n",
       "      dtype='object')"
      ]
     },
     "execution_count": 13,
     "metadata": {},
     "output_type": "execute_result"
    }
   ],
   "source": [
    "data.columns #Checking if the column is correct. #The data consist of 9 features"
   ]
  },
  {
   "cell_type": "markdown",
   "metadata": {},
   "source": [
    "## Descriptive Dataset"
   ]
  },
  {
   "cell_type": "markdown",
   "metadata": {},
   "source": [
    "Now let's look the statistics distributions of our dataset"
   ]
  },
  {
   "cell_type": "code",
   "execution_count": 14,
   "metadata": {},
   "outputs": [
    {
     "data": {
      "text/html": [
       "<div>\n",
       "<style scoped>\n",
       "    .dataframe tbody tr th:only-of-type {\n",
       "        vertical-align: middle;\n",
       "    }\n",
       "\n",
       "    .dataframe tbody tr th {\n",
       "        vertical-align: top;\n",
       "    }\n",
       "\n",
       "    .dataframe thead th {\n",
       "        text-align: right;\n",
       "    }\n",
       "</style>\n",
       "<table border=\"1\" class=\"dataframe\">\n",
       "  <thead>\n",
       "    <tr style=\"text-align: right;\">\n",
       "      <th></th>\n",
       "      <th>cts</th>\n",
       "      <th>temp</th>\n",
       "      <th>Acce(z)</th>\n",
       "      <th>Acce(x)</th>\n",
       "      <th>Acce(y)</th>\n",
       "      <th>Gyro(z)</th>\n",
       "      <th>Gyro(x)</th>\n",
       "      <th>Gyro(y)</th>\n",
       "    </tr>\n",
       "  </thead>\n",
       "  <tbody>\n",
       "    <tr>\n",
       "      <td>count</td>\n",
       "      <td>2082.000000</td>\n",
       "      <td>2082.000000</td>\n",
       "      <td>2082.000000</td>\n",
       "      <td>2082.000000</td>\n",
       "      <td>2082.000000</td>\n",
       "      <td>2082.000000</td>\n",
       "      <td>2082.000000</td>\n",
       "      <td>2082.000000</td>\n",
       "    </tr>\n",
       "    <tr>\n",
       "      <td>mean</td>\n",
       "      <td>5350.150471</td>\n",
       "      <td>31.455560</td>\n",
       "      <td>-9.696837</td>\n",
       "      <td>0.061873</td>\n",
       "      <td>1.308923</td>\n",
       "      <td>0.029110</td>\n",
       "      <td>-0.007954</td>\n",
       "      <td>0.018327</td>\n",
       "    </tr>\n",
       "    <tr>\n",
       "      <td>std</td>\n",
       "      <td>3044.628100</td>\n",
       "      <td>0.194563</td>\n",
       "      <td>1.299033</td>\n",
       "      <td>0.637015</td>\n",
       "      <td>0.675798</td>\n",
       "      <td>0.266984</td>\n",
       "      <td>0.146772</td>\n",
       "      <td>0.109886</td>\n",
       "    </tr>\n",
       "    <tr>\n",
       "      <td>min</td>\n",
       "      <td>80.577000</td>\n",
       "      <td>31.121094</td>\n",
       "      <td>-12.776978</td>\n",
       "      <td>-1.292566</td>\n",
       "      <td>-2.824940</td>\n",
       "      <td>-0.500532</td>\n",
       "      <td>-0.812567</td>\n",
       "      <td>-0.211928</td>\n",
       "    </tr>\n",
       "    <tr>\n",
       "      <td>25%</td>\n",
       "      <td>2715.334411</td>\n",
       "      <td>31.255859</td>\n",
       "      <td>-10.761990</td>\n",
       "      <td>-0.292566</td>\n",
       "      <td>0.887290</td>\n",
       "      <td>-0.113951</td>\n",
       "      <td>-0.094782</td>\n",
       "      <td>-0.057508</td>\n",
       "    </tr>\n",
       "    <tr>\n",
       "      <td>50%</td>\n",
       "      <td>5350.104234</td>\n",
       "      <td>31.500000</td>\n",
       "      <td>-9.503597</td>\n",
       "      <td>0.000000</td>\n",
       "      <td>1.260192</td>\n",
       "      <td>-0.002130</td>\n",
       "      <td>-0.003195</td>\n",
       "      <td>0.002130</td>\n",
       "    </tr>\n",
       "    <tr>\n",
       "      <td>75%</td>\n",
       "      <td>7984.902448</td>\n",
       "      <td>31.589844</td>\n",
       "      <td>-8.707434</td>\n",
       "      <td>0.335132</td>\n",
       "      <td>1.693046</td>\n",
       "      <td>0.107561</td>\n",
       "      <td>0.103301</td>\n",
       "      <td>0.081736</td>\n",
       "    </tr>\n",
       "    <tr>\n",
       "      <td>max</td>\n",
       "      <td>10620.916810</td>\n",
       "      <td>31.755859</td>\n",
       "      <td>-6.803357</td>\n",
       "      <td>5.412470</td>\n",
       "      <td>4.297362</td>\n",
       "      <td>1.673056</td>\n",
       "      <td>0.270501</td>\n",
       "      <td>0.437700</td>\n",
       "    </tr>\n",
       "  </tbody>\n",
       "</table>\n",
       "</div>"
      ],
      "text/plain": [
       "                cts         temp      Acce(z)      Acce(x)      Acce(y)  \\\n",
       "count   2082.000000  2082.000000  2082.000000  2082.000000  2082.000000   \n",
       "mean    5350.150471    31.455560    -9.696837     0.061873     1.308923   \n",
       "std     3044.628100     0.194563     1.299033     0.637015     0.675798   \n",
       "min       80.577000    31.121094   -12.776978    -1.292566    -2.824940   \n",
       "25%     2715.334411    31.255859   -10.761990    -0.292566     0.887290   \n",
       "50%     5350.104234    31.500000    -9.503597     0.000000     1.260192   \n",
       "75%     7984.902448    31.589844    -8.707434     0.335132     1.693046   \n",
       "max    10620.916810    31.755859    -6.803357     5.412470     4.297362   \n",
       "\n",
       "           Gyro(z)      Gyro(x)      Gyro(y)  \n",
       "count  2082.000000  2082.000000  2082.000000  \n",
       "mean      0.029110    -0.007954     0.018327  \n",
       "std       0.266984     0.146772     0.109886  \n",
       "min      -0.500532    -0.812567    -0.211928  \n",
       "25%      -0.113951    -0.094782    -0.057508  \n",
       "50%      -0.002130    -0.003195     0.002130  \n",
       "75%       0.107561     0.103301     0.081736  \n",
       "max       1.673056     0.270501     0.437700  "
      ]
     },
     "execution_count": 14,
     "metadata": {},
     "output_type": "execute_result"
    }
   ],
   "source": [
    "data.describe()"
   ]
  },
  {
   "cell_type": "markdown",
   "metadata": {},
   "source": [
    "The table above shows the statistics distributions of the dataset. The mean represent the  average values of each of the columns. We can also see the standard deviation of the variance is not too far from the average values, this is very good.\n",
    "\n",
    "Another thing we can see is that, the average values for each columns is not too far from the median(50%). \n",
    "\n",
    "Inorder to be sure of our data distribution, let's view how this data have been distributed. Check if the dataset is skewed or not, and also if there are outliers or not. \n",
    "\n",
    "Here below, we use seanborn.displot to check how Acce(x) is distributed. "
   ]
  },
  {
   "cell_type": "code",
   "execution_count": 15,
   "metadata": {},
   "outputs": [
    {
     "data": {
      "text/plain": [
       "<matplotlib.axes._subplots.AxesSubplot at 0x23d7584ecc8>"
      ]
     },
     "execution_count": 15,
     "metadata": {},
     "output_type": "execute_result"
    },
    {
     "data": {
      "image/png": "[encoded data removed]",
      "text/plain": [
       "<Figure size 432x288 with 1 Axes>"
      ]
     },
     "metadata": {
      "needs_background": "light"
     },
     "output_type": "display_data"
    }
   ],
   "source": [
    "#\n",
    "sns.distplot(data['Acce(x)'])"
   ]
  },
  {
   "cell_type": "markdown",
   "metadata": {},
   "source": [
    "The plot above is showing how the datas of  Acce(x) column are distributed. This plot shows that the datas are skewed to the right. Which means our dataset consists of outliers.\n",
    "\n",
    "\n",
    "And if we check the mean and the median of Acce(x) above, they are not too far from each other. Median= 0.0000 and the Mean is 0.061873. \n",
    "We can feel confortable with this result because the mean deviated from the median(centre of the plot) is not up too one standard deviation. Since our focus in this project is just to recongnise and classify different activities that took place while riding the bicycle, then we might not bother to remove the outliers.\n",
    "\n",
    "We might ask ourselves 'why is the median is 0.0000?' This is a good question, is't.\n",
    "\n",
    "The zeros record for Acce(x) might be the starting point.  When there was no mmovement or when the bicycle is at it initial(rest) state and any force hasn't been apply.\n",
    "\n",
    "\n",
    "Next, let's dive into the visaualization of our datas and see what it's look like.\n"
   ]
  },
  {
   "cell_type": "markdown",
   "metadata": {},
   "source": [
    "## Datas Visualization"
   ]
  },
  {
   "cell_type": "code",
   "execution_count": 16,
   "metadata": {},
   "outputs": [],
   "source": [
    "#let drop columns that it's not neccessary for the analysis.\n",
    "#I suggest we drop the first two columns.\n",
    "\n",
    "data2= data.drop('cts', axis=1) #This is use to monitor the input of a datas into the computer.\n",
    "# cts help not to overwhelmed the computer so that computer won't crash.\n",
    "# cts gives a notification if the computer isfull with datas.\n",
    "df=  data2.drop('date', axis=1)\n"
   ]
  },
  {
   "cell_type": "markdown",
   "metadata": {},
   "source": [
    "Now let's make a plot to see how the weather look when thsi project was carried out."
   ]
  },
  {
   "cell_type": "code",
   "execution_count": 17,
   "metadata": {},
   "outputs": [
    {
     "data": {
      "text/html": [
       "<div>\n",
       "<style scoped>\n",
       "    .dataframe tbody tr th:only-of-type {\n",
       "        vertical-align: middle;\n",
       "    }\n",
       "\n",
       "    .dataframe tbody tr th {\n",
       "        vertical-align: top;\n",
       "    }\n",
       "\n",
       "    .dataframe thead th {\n",
       "        text-align: right;\n",
       "    }\n",
       "</style>\n",
       "<table border=\"1\" class=\"dataframe\">\n",
       "  <thead>\n",
       "    <tr style=\"text-align: right;\">\n",
       "      <th></th>\n",
       "      <th>temp</th>\n",
       "      <th>Acce(z)</th>\n",
       "      <th>Acce(x)</th>\n",
       "      <th>Acce(y)</th>\n",
       "      <th>Gyro(z)</th>\n",
       "      <th>Gyro(x)</th>\n",
       "      <th>Gyro(y)</th>\n",
       "    </tr>\n",
       "  </thead>\n",
       "  <tbody>\n",
       "    <tr>\n",
       "      <td>temp</td>\n",
       "      <td>1.000000</td>\n",
       "      <td>0.066007</td>\n",
       "      <td>0.250042</td>\n",
       "      <td>0.081389</td>\n",
       "      <td>0.182307</td>\n",
       "      <td>-0.192978</td>\n",
       "      <td>0.114487</td>\n",
       "    </tr>\n",
       "    <tr>\n",
       "      <td>Acce(z)</td>\n",
       "      <td>0.066007</td>\n",
       "      <td>1.000000</td>\n",
       "      <td>-0.052300</td>\n",
       "      <td>0.319149</td>\n",
       "      <td>0.109735</td>\n",
       "      <td>-0.256567</td>\n",
       "      <td>-0.314098</td>\n",
       "    </tr>\n",
       "    <tr>\n",
       "      <td>Acce(x)</td>\n",
       "      <td>0.250042</td>\n",
       "      <td>-0.052300</td>\n",
       "      <td>1.000000</td>\n",
       "      <td>0.216601</td>\n",
       "      <td>0.457252</td>\n",
       "      <td>-0.451564</td>\n",
       "      <td>0.166545</td>\n",
       "    </tr>\n",
       "    <tr>\n",
       "      <td>Acce(y)</td>\n",
       "      <td>0.081389</td>\n",
       "      <td>0.319149</td>\n",
       "      <td>0.216601</td>\n",
       "      <td>1.000000</td>\n",
       "      <td>0.226136</td>\n",
       "      <td>-0.394158</td>\n",
       "      <td>0.010585</td>\n",
       "    </tr>\n",
       "    <tr>\n",
       "      <td>Gyro(z)</td>\n",
       "      <td>0.182307</td>\n",
       "      <td>0.109735</td>\n",
       "      <td>0.457252</td>\n",
       "      <td>0.226136</td>\n",
       "      <td>1.000000</td>\n",
       "      <td>-0.462738</td>\n",
       "      <td>0.517787</td>\n",
       "    </tr>\n",
       "    <tr>\n",
       "      <td>Gyro(x)</td>\n",
       "      <td>-0.192978</td>\n",
       "      <td>-0.256567</td>\n",
       "      <td>-0.451564</td>\n",
       "      <td>-0.394158</td>\n",
       "      <td>-0.462738</td>\n",
       "      <td>1.000000</td>\n",
       "      <td>-0.110253</td>\n",
       "    </tr>\n",
       "    <tr>\n",
       "      <td>Gyro(y)</td>\n",
       "      <td>0.114487</td>\n",
       "      <td>-0.314098</td>\n",
       "      <td>0.166545</td>\n",
       "      <td>0.010585</td>\n",
       "      <td>0.517787</td>\n",
       "      <td>-0.110253</td>\n",
       "      <td>1.000000</td>\n",
       "    </tr>\n",
       "  </tbody>\n",
       "</table>\n",
       "</div>"
      ],
      "text/plain": [
       "             temp   Acce(z)   Acce(x)   Acce(y)   Gyro(z)   Gyro(x)   Gyro(y)\n",
       "temp     1.000000  0.066007  0.250042  0.081389  0.182307 -0.192978  0.114487\n",
       "Acce(z)  0.066007  1.000000 -0.052300  0.319149  0.109735 -0.256567 -0.314098\n",
       "Acce(x)  0.250042 -0.052300  1.000000  0.216601  0.457252 -0.451564  0.166545\n",
       "Acce(y)  0.081389  0.319149  0.216601  1.000000  0.226136 -0.394158  0.010585\n",
       "Gyro(z)  0.182307  0.109735  0.457252  0.226136  1.000000 -0.462738  0.517787\n",
       "Gyro(x) -0.192978 -0.256567 -0.451564 -0.394158 -0.462738  1.000000 -0.110253\n",
       "Gyro(y)  0.114487 -0.314098  0.166545  0.010585  0.517787 -0.110253  1.000000"
      ]
     },
     "execution_count": 17,
     "metadata": {},
     "output_type": "execute_result"
    }
   ],
   "source": [
    "df.corr() #correlation matrix table "
   ]
  },
  {
   "cell_type": "markdown",
   "metadata": {},
   "source": [
    "The table above shows both positives and negatives correlation. Acce(x) and Gyro(z) is only where we have higher postivities correlation. "
   ]
  },
  {
   "cell_type": "code",
   "execution_count": 18,
   "metadata": {},
   "outputs": [
    {
     "data": {
      "text/plain": [
       "<matplotlib.axes._subplots.AxesSubplot at 0x23d759f5408>"
      ]
     },
     "execution_count": 18,
     "metadata": {},
     "output_type": "execute_result"
    },
    {
     "data": {
      "image/png": "[encoded data removed]",
      "text/plain": [
       "<Figure size 432x288 with 2 Axes>"
      ]
     },
     "metadata": {
      "needs_background": "light"
     },
     "output_type": "display_data"
    }
   ],
   "source": [
    "df.plot.hexbin(y='temp',  x='Gyro(x)',gridsize =25, cmap= 'coolwarm')"
   ]
  },
  {
   "cell_type": "markdown",
   "metadata": {},
   "source": [
    "I plotted this graph to show how the weather was on the day this datas was collected. From the statistics table above, the average value for the temperature is 31.4......We can see from the plot that the values that was recorded is within 31.1- 31.7 above.\n",
    "\n",
    "Which means that the weather was ok. There is probability that UK experience very hot weather on this day. Which is good for our analysis. High breeze weather could bring about many outliers in the dataset."
   ]
  },
  {
   "cell_type": "code",
   "execution_count": 19,
   "metadata": {},
   "outputs": [],
   "source": [
    "#Now let's visualize our dataset with 3D. We imported plotly and cufflinks for a surface plot.\n",
    "\n",
    "#calling out the accceleration from the dataset\n",
    "Acceleration = df[['Acce(z)', 'Acce(x)', 'Acce(y)']]#calling out the accceleration from the dataset"
   ]
  },
  {
   "cell_type": "code",
   "execution_count": 20,
   "metadata": {},
   "outputs": [
    {
     "data": {
      "text/html": [
       "<div>\n",
       "<style scoped>\n",
       "    .dataframe tbody tr th:only-of-type {\n",
       "        vertical-align: middle;\n",
       "    }\n",
       "\n",
       "    .dataframe tbody tr th {\n",
       "        vertical-align: top;\n",
       "    }\n",
       "\n",
       "    .dataframe thead th {\n",
       "        text-align: right;\n",
       "    }\n",
       "</style>\n",
       "<table border=\"1\" class=\"dataframe\">\n",
       "  <thead>\n",
       "    <tr style=\"text-align: right;\">\n",
       "      <th></th>\n",
       "      <th>Acce(z)</th>\n",
       "      <th>Acce(x)</th>\n",
       "      <th>Acce(y)</th>\n",
       "    </tr>\n",
       "  </thead>\n",
       "  <tbody>\n",
       "    <tr>\n",
       "      <td>0</td>\n",
       "      <td>-8.616307</td>\n",
       "      <td>-0.474820</td>\n",
       "      <td>1.618705</td>\n",
       "    </tr>\n",
       "    <tr>\n",
       "      <td>1</td>\n",
       "      <td>-8.529976</td>\n",
       "      <td>-0.544365</td>\n",
       "      <td>1.484412</td>\n",
       "    </tr>\n",
       "    <tr>\n",
       "      <td>2</td>\n",
       "      <td>-8.472422</td>\n",
       "      <td>-0.592326</td>\n",
       "      <td>1.513189</td>\n",
       "    </tr>\n",
       "    <tr>\n",
       "      <td>3</td>\n",
       "      <td>-8.395683</td>\n",
       "      <td>-0.604317</td>\n",
       "      <td>1.565947</td>\n",
       "    </tr>\n",
       "    <tr>\n",
       "      <td>4</td>\n",
       "      <td>-8.280576</td>\n",
       "      <td>-0.640288</td>\n",
       "      <td>1.736211</td>\n",
       "    </tr>\n",
       "    <tr>\n",
       "      <td>...</td>\n",
       "      <td>...</td>\n",
       "      <td>...</td>\n",
       "      <td>...</td>\n",
       "    </tr>\n",
       "    <tr>\n",
       "      <td>195</td>\n",
       "      <td>-11.208633</td>\n",
       "      <td>0.115108</td>\n",
       "      <td>1.141487</td>\n",
       "    </tr>\n",
       "    <tr>\n",
       "      <td>196</td>\n",
       "      <td>-11.333333</td>\n",
       "      <td>0.071942</td>\n",
       "      <td>1.026379</td>\n",
       "    </tr>\n",
       "    <tr>\n",
       "      <td>197</td>\n",
       "      <td>-11.446043</td>\n",
       "      <td>-0.007194</td>\n",
       "      <td>0.971223</td>\n",
       "    </tr>\n",
       "    <tr>\n",
       "      <td>198</td>\n",
       "      <td>-11.549161</td>\n",
       "      <td>-0.081535</td>\n",
       "      <td>0.935252</td>\n",
       "    </tr>\n",
       "    <tr>\n",
       "      <td>199</td>\n",
       "      <td>-11.652278</td>\n",
       "      <td>-0.081535</td>\n",
       "      <td>0.925659</td>\n",
       "    </tr>\n",
       "  </tbody>\n",
       "</table>\n",
       "<p>200 rows × 3 columns</p>\n",
       "</div>"
      ],
      "text/plain": [
       "       Acce(z)   Acce(x)   Acce(y)\n",
       "0    -8.616307 -0.474820  1.618705\n",
       "1    -8.529976 -0.544365  1.484412\n",
       "2    -8.472422 -0.592326  1.513189\n",
       "3    -8.395683 -0.604317  1.565947\n",
       "4    -8.280576 -0.640288  1.736211\n",
       "..         ...       ...       ...\n",
       "195 -11.208633  0.115108  1.141487\n",
       "196 -11.333333  0.071942  1.026379\n",
       "197 -11.446043 -0.007194  0.971223\n",
       "198 -11.549161 -0.081535  0.935252\n",
       "199 -11.652278 -0.081535  0.925659\n",
       "\n",
       "[200 rows x 3 columns]"
      ]
     },
     "execution_count": 20,
     "metadata": {},
     "output_type": "execute_result"
    }
   ],
   "source": [
    "#To avoid overfitting, we sample our dataset.\n",
    "Acce1= Acceleration.head(200)\n",
    "Acce1"
   ]
  },
  {
   "cell_type": "code",
   "execution_count": 21,
   "metadata": {},
   "outputs": [
    {
     "data": {
      "text/html": [
       "<div>\n",
       "<style scoped>\n",
       "    .dataframe tbody tr th:only-of-type {\n",
       "        vertical-align: middle;\n",
       "    }\n",
       "\n",
       "    .dataframe tbody tr th {\n",
       "        vertical-align: top;\n",
       "    }\n",
       "\n",
       "    .dataframe thead th {\n",
       "        text-align: right;\n",
       "    }\n",
       "</style>\n",
       "<table border=\"1\" class=\"dataframe\">\n",
       "  <thead>\n",
       "    <tr style=\"text-align: right;\">\n",
       "      <th></th>\n",
       "      <th>Gyro(z)</th>\n",
       "      <th>Gyro(x)</th>\n",
       "      <th>Gyro(y)</th>\n",
       "    </tr>\n",
       "  </thead>\n",
       "  <tbody>\n",
       "    <tr>\n",
       "      <td>0</td>\n",
       "      <td>0.222577</td>\n",
       "      <td>-0.072417</td>\n",
       "      <td>-0.155485</td>\n",
       "    </tr>\n",
       "    <tr>\n",
       "      <td>1</td>\n",
       "      <td>0.225772</td>\n",
       "      <td>-0.064963</td>\n",
       "      <td>-0.149095</td>\n",
       "    </tr>\n",
       "    <tr>\n",
       "      <td>2</td>\n",
       "      <td>0.224707</td>\n",
       "      <td>-0.070288</td>\n",
       "      <td>-0.138445</td>\n",
       "    </tr>\n",
       "    <tr>\n",
       "      <td>3</td>\n",
       "      <td>0.225772</td>\n",
       "      <td>-0.077742</td>\n",
       "      <td>-0.130990</td>\n",
       "    </tr>\n",
       "    <tr>\n",
       "      <td>4</td>\n",
       "      <td>0.227902</td>\n",
       "      <td>-0.077742</td>\n",
       "      <td>-0.126731</td>\n",
       "    </tr>\n",
       "    <tr>\n",
       "      <td>...</td>\n",
       "      <td>...</td>\n",
       "      <td>...</td>\n",
       "      <td>...</td>\n",
       "    </tr>\n",
       "    <tr>\n",
       "      <td>195</td>\n",
       "      <td>0.183174</td>\n",
       "      <td>0.088392</td>\n",
       "      <td>-0.018104</td>\n",
       "    </tr>\n",
       "    <tr>\n",
       "      <td>196</td>\n",
       "      <td>0.157614</td>\n",
       "      <td>0.063898</td>\n",
       "      <td>-0.034079</td>\n",
       "    </tr>\n",
       "    <tr>\n",
       "      <td>197</td>\n",
       "      <td>0.143770</td>\n",
       "      <td>0.037274</td>\n",
       "      <td>-0.044728</td>\n",
       "    </tr>\n",
       "    <tr>\n",
       "      <td>198</td>\n",
       "      <td>0.144835</td>\n",
       "      <td>0.012780</td>\n",
       "      <td>-0.046858</td>\n",
       "    </tr>\n",
       "    <tr>\n",
       "      <td>199</td>\n",
       "      <td>0.150160</td>\n",
       "      <td>-0.005325</td>\n",
       "      <td>-0.043663</td>\n",
       "    </tr>\n",
       "  </tbody>\n",
       "</table>\n",
       "<p>200 rows × 3 columns</p>\n",
       "</div>"
      ],
      "text/plain": [
       "      Gyro(z)   Gyro(x)   Gyro(y)\n",
       "0    0.222577 -0.072417 -0.155485\n",
       "1    0.225772 -0.064963 -0.149095\n",
       "2    0.224707 -0.070288 -0.138445\n",
       "3    0.225772 -0.077742 -0.130990\n",
       "4    0.227902 -0.077742 -0.126731\n",
       "..        ...       ...       ...\n",
       "195  0.183174  0.088392 -0.018104\n",
       "196  0.157614  0.063898 -0.034079\n",
       "197  0.143770  0.037274 -0.044728\n",
       "198  0.144835  0.012780 -0.046858\n",
       "199  0.150160 -0.005325 -0.043663\n",
       "\n",
       "[200 rows x 3 columns]"
      ]
     },
     "execution_count": 21,
     "metadata": {},
     "output_type": "execute_result"
    }
   ],
   "source": [
    "#Sample the dataset here also.\n",
    "Gyroscope = df[['Gyro(z)', 'Gyro(x)', 'Gyro(y)']]\n",
    "Gyro1= Gyroscope.head(200)\n",
    "Gyro1"
   ]
  },
  {
   "cell_type": "code",
   "execution_count": 22,
   "metadata": {},
   "outputs": [
    {
     "data": {
      "application/vnd.plotly.v1+json": {
       "config": {
        "linkText": "Export to plot.ly",
        "plotlyServerURL": "https://plot.ly",
        "showLink": true
       },
       "data": [
        {
         "colorscale": [
          [
           0,
           "rgb(165,0,38)"
          ],
          [
           0.1,
           "rgb(215,48,39)"
          ],
          [
           0.2,
           "rgb(244,109,67)"
          ],
          [
           0.3,
           "rgb(253,174,97)"
          ],
          [
           0.4,
           "rgb(254,224,144)"
          ],
          [
           0.5,
           "rgb(255,255,191)"
          ],
          [
           0.6,
           "rgb(224,243,248)"
          ],
          [
           0.7,
           "rgb(171,217,233)"
          ],
          [
           0.8,
           "rgb(116,173,209)"
          ],
          [
           0.9,
           "rgb(69,117,180)"
          ],
          [
           1,
           "rgb(49,54,149)"
          ]
         ],
         "type": "surface",
         "x": [
          0,
          1,
          2,
          3,
          4,
          5,
          6,
          7,
          8,
          9,
          10,
          11,
          12,
          13,
          14,
          15,
          16,
          17,
          18,
          19,
          20,
          21,
          22,
          23,
          24,
          25,
          26,
          27,
          28,
          29,
          30,
          31,
          32,
          33,
          34,
          35,
          36,
          37,
          38,
          39,
          40,
          41,
          42,
          43,
          44,
          45,
          46,
          47,
          48,
          49,
          50,
          51,
          52,
          53,
          54,
          55,
          56,
          57,
          58,
          59,
          60,
          61,
          62,
          63,
          64,
          65,
          66,
          67,
          68,
          69,
          70,
          71,
          72,
          73,
          74,
          75,
          76,
          77,
          78,
          79,
          80,
          81,
          82,
          83,
          84,
          85,
          86,
          87,
          88,
          89,
          90,
          91,
          92,
          93,
          94,
          95,
          96,
          97,
          98,
          99,
          100,
          101,
          102,
          103,
          104,
          105,
          106,
          107,
          108,
          109,
          110,
          111,
          112,
          113,
          114,
          115,
          116,
          117,
          118,
          119,
          120,
          121,
          122,
          123,
          124,
          125,
          126,
          127,
          128,
          129,
          130,
          131,
          132,
          133,
          134,
          135,
          136,
          137,
          138,
          139,
          140,
          141,
          142,
          143,
          144,
          145,
          146,
          147,
          148,
          149,
          150,
          151,
          152,
          153,
          154,
          155,
          156,
          157,
          158,
          159,
          160,
          161,
          162,
          163,
          164,
          165,
          166,
          167,
          168,
          169,
          170,
          171,
          172,
          173,
          174,
          175,
          176,
          177,
          178,
          179,
          180,
          181,
          182,
          183,
          184,
          185,
          186,
          187,
          188,
          189,
          190,
          191,
          192,
          193,
          194,
          195,
          196,
          197,
          198,
          199
         ],
         "y": [
          "Acce(z)",
          "Acce(x)",
          "Acce(y)"
         ],
         "z": [
          [
           -8.616306954,
           -8.529976019,
           -8.472422062,
           -8.395683453,
           -8.28057554,
           -8.153477217999999,
           -8.081534772000001,
           -8.045563549,
           -8.100719424,
           -8.220623501,
           -8.388489209,
           -8.510791367000001,
           -8.621103117999999,
           -8.697841727,
           -8.755395683,
           -8.832134293,
           -8.872901679,
           -8.899280576,
           -8.880095922999999,
           -8.90647482,
           -8.942446043,
           -8.978417266000001,
           -8.978417266000001,
           -8.966426859,
           -8.925659472000001,
           -8.901678657,
           -8.96882494,
           -9.083932854,
           -9.206235012,
           -9.258992806,
           -9.309352517999999,
           -9.376498801,
           -9.436450838999999,
           -9.529976019,
           -9.527577938,
           -9.474820144,
           -9.340527578,
           -9.26618705,
           -9.211031175,
           -9.20383693,
           -9.201438849,
           -9.287769784,
           -9.381294964,
           -9.505995204,
           -9.630695444,
           -9.757793765,
           -9.904076739,
           -9.997601917999999,
           -10.00959233,
           -10.06954436,
           -10.17505995,
           -10.31654676,
           -10.4940048,
           -10.60431655,
           -10.74340528,
           -10.85851319,
           -11.01438849,
           -11.11510791,
           -11.17026379,
           -11.1822542,
           -11.13429257,
           -11.08872902,
           -11.05035971,
           -11.01678657,
           -11.00479616,
           -11.06954436,
           -11.1942446,
           -11.25179856,
           -11.29256595,
           -11.28776978,
           -11.21582734,
           -11.09832134,
           -10.97841727,
           -10.94484412,
           -10.99280576,
           -11.15347722,
           -11.28776978,
           -11.43165468,
           -11.55395683,
           -11.70983213,
           -11.82254197,
           -11.90167866,
           -11.92326139,
           -11.90407674,
           -11.87769784,
           -11.84652278,
           -11.77218225,
           -11.649880099999999,
           -11.44604317,
           -11.21103118,
           -10.97601918,
           -10.73141487,
           -10.4028777,
           -10.08153477,
           -9.827338129,
           -9.630695444,
           -9.501199041,
           -9.393285372000001,
           -9.261390887000001,
           -9.148681055,
           -9.100719424,
           -9.141486811,
           -9.107913669,
           -9.011990407999999,
           -8.954436451,
           -8.961630695,
           -9.057553957,
           -9.148681055,
           -9.151079137,
           -9.067146283,
           -8.932853717,
           -8.779376499,
           -8.657074341,
           -8.573141487000001,
           -8.544364508,
           -8.592326138999999,
           -8.652278177000001,
           -8.717026379,
           -8.709832134,
           -8.6882494,
           -8.625899281,
           -8.553956835,
           -8.532374101,
           -8.553956835,
           -8.541966427,
           -8.558752998,
           -8.537170264,
           -8.388489209,
           -8.278177458,
           -8.194244604,
           -8.122302158,
           -8.086330935,
           -8.067146283,
           -8.12470024,
           -8.194244604,
           -8.333333332999999,
           -8.388489209,
           -8.438848921,
           -8.426858512999999,
           -8.462829736,
           -8.434052758,
           -8.371702638,
           -8.32853717,
           -8.323741007,
           -8.371702638,
           -8.491606715,
           -8.570743405,
           -8.676258993,
           -8.784172662000001,
           -8.889688248999999,
           -8.923261391,
           -8.961630695,
           -8.961630695,
           -9.043165468,
           -9.148681055,
           -9.287769784,
           -9.388489209,
           -9.491606715,
           -9.606714627999999,
           -9.709832134,
           -9.810551559,
           -9.887290168,
           -9.923261391,
           -9.918465227999999,
           -9.932853717,
           -9.966426859,
           -10.026378900000001,
           -10.13669065,
           -10.23261391,
           -10.35251799,
           -10.45563549,
           -10.53477218,
           -10.62589928,
           -10.70743405,
           -10.76019185,
           -10.78657074,
           -10.81055156,
           -10.882494,
           -10.97601918,
           -11.064748199999999,
           -11.1294964,
           -11.15827338,
           -11.16546763,
           -11.05995204,
           -10.882494,
           -10.67625899,
           -10.51798561,
           -10.48920863,
           -10.42685851,
           -10.40767386,
           -10.48441247,
           -10.57314149,
           -10.75779376,
           -10.93285372,
           -11.06714628,
           -11.20863309,
           -11.33333333,
           -11.44604317,
           -11.54916067,
           -11.65227818
          ],
          [
           -0.474820144,
           -0.544364508,
           -0.592326139,
           -0.604316547,
           -0.64028777,
           -0.683453237,
           -0.784172662,
           -0.8848920859999999,
           -0.9232613909999999,
           -0.952038369,
           -0.964028777,
           -0.949640288,
           -0.954436451,
           -1.002398082,
           -1.038369305,
           -1.0887290170000001,
           -1.136690647,
           -1.146282974,
           -1.208633094,
           -1.237410072,
           -1.275779376,
           -1.292565947,
           -1.26618705,
           -1.273381295,
           -1.191846523,
           -1.1294964029999999,
           -0.9832134290000001,
           -0.817745803,
           -0.7553956829999999,
           -0.748201439,
           -0.769784173,
           -0.7913669059999999,
           -0.738609113,
           -0.683453237,
           -0.661870504,
           -0.697841727,
           -0.786570743,
           -0.8369304559999999,
           -0.841726619,
           -0.8369304559999999,
           -0.8441247,
           -0.841726619,
           -0.848920863,
           -0.9160671459999999,
           -0.9328537170000001,
           -0.920863309,
           -0.79616307,
           -0.599520384,
           -0.563549161,
           -0.599520384,
           -0.767386091,
           -0.964028777,
           -1.0887290170000001,
           -1.179856115,
           -1.175059952,
           -1.177458034,
           -1.143884892,
           -1.148681055,
           -1.20383693,
           -1.196642686,
           -1.141486811,
           -1.021582734,
           -0.8585131890000001,
           -0.7242206240000001,
           -0.67146283,
           -0.642685851,
           -0.6474820139999999,
           -0.659472422,
           -0.645083933,
           -0.544364508,
           -0.414868106,
           -0.32134292600000003,
           -0.292565947,
           -0.345323741,
           -0.47002398100000004,
           -0.568345324,
           -0.565947242,
           -0.532374101,
           -0.48441247,
           -0.44844124700000004,
           -0.450839329,
           -0.527577938,
           -0.625899281,
           -0.6570743410000001,
           -0.630695444,
           -0.520383693,
           -0.330935252,
           -0.242206235,
           -0.326139089,
           -0.505995204,
           -0.7050359709999999,
           -0.827338129,
           -0.8872901679999999,
           -0.8992805759999999,
           -0.8968824940000001,
           -0.928057554,
           -0.952038369,
           -0.956834532,
           -0.9808153479999999,
           -0.9736211029999999,
           -1,
           -0.913669065,
           -0.820143885,
           -0.743405276,
           -0.621103118,
           -0.539568345,
           -0.5611510789999999,
           -0.565947242,
           -0.47002398100000004,
           -0.333333333,
           -0.19904076699999998,
           -0.103117506,
           -0.095923261,
           -0.127098321,
           -0.148681055,
           -0.141486811,
           -0.055155875,
           -0.004796163,
           0.009592326,
           0.014388488999999999,
           -0.004796163,
           -0.050359712,
           -0.117505995,
           -0.184652278,
           -0.278177458,
           -0.35491606700000006,
           -0.42206235,
           -0.537170264,
           -0.616306954,
           -0.654676259,
           -0.616306954,
           -0.599520384,
           -0.6762589929999999,
           -0.67146283,
           -0.611510791,
           -0.5035971220000001,
           -0.364508393,
           -0.237410072,
           -0.223021583,
           -0.22062350100000003,
           -0.25179856100000003,
           -0.292565947,
           -0.345323741,
           -0.299760192,
           -0.23501199,
           -0.26618705,
           -0.292565947,
           -0.292565947,
           -0.273381295,
           -0.18705036,
           -0.040767386,
           0.050359712,
           0.086330935,
           0.067146283,
           0.043165468,
           0.002398082,
           -0.002398082,
           -0.06474820099999999,
           -0.052757794000000004,
           -0.095923261,
           -0.129496403,
           -0.088729017,
           -0.12470024,
           -0.163069544,
           -0.242206235,
           -0.28537170300000003,
           -0.239808153,
           -0.17266187100000002,
           -0.06235012,
           0.002398082,
           0.038369305,
           0.076738609,
           0.050359712,
           0.071942446,
           0.033573141,
           -0.033573141,
           -0.112709832,
           -0.129496403,
           -0.117505995,
           -0.057553957,
           -0.016786571,
           -0.004796163,
           -0.028776977999999998,
           -0.035971223,
           -0.043165468,
           -0.002398082,
           0.045563549,
           -0.002398082,
           -0.100719424,
           -0.261390887,
           -0.345323741,
           -0.345323741,
           -0.19904076699999998,
           -0.033573141,
           0.076738609,
           0.115107914,
           0.071942446,
           -0.007194245,
           -0.081534772,
           -0.081534772
          ],
          [
           1.618705036,
           1.48441247,
           1.513189448,
           1.5659472419999998,
           1.7362110309999998,
           1.884892086,
           1.96882494,
           1.928057554,
           1.752997602,
           1.486810552,
           1.230215827,
           1.0527577940000001,
           0.988009592,
           0.9400479620000001,
           0.9232613909999999,
           0.863309353,
           0.79616307,
           0.748201439,
           0.697841727,
           0.6354916070000001,
           0.633093525,
           0.645083933,
           0.642685851,
           0.697841727,
           0.8081534770000001,
           0.81294964,
           0.8081534770000001,
           0.745803357,
           0.633093525,
           0.529976019,
           0.573141487,
           0.652278177,
           0.7218225420000001,
           0.793764988,
           0.8033573140000001,
           0.8848920859999999,
           1.0143884890000001,
           1.28057554,
           1.5947242209999999,
           1.8273381290000001,
           1.904076739,
           1.8153477219999998,
           1.681055156,
           1.585131894,
           1.5971223019999998,
           1.71942446,
           1.8393285369999999,
           1.930455635,
           2.004796163,
           1.990407674,
           1.870503597,
           1.760191847,
           1.60911271,
           1.496402878,
           1.3788968819999998,
           1.3549160669999998,
           1.3764988009999999,
           1.42206235,
           1.45323741,
           1.517985612,
           1.6067146280000002,
           1.70263789,
           1.8009592330000002,
           1.877697842,
           1.81294964,
           1.6474820140000002,
           1.398081535,
           1.292565947,
           1.28057554,
           1.522781775,
           1.8345323740000001,
           2.067146283,
           2.115107914,
           1.990407674,
           1.741007194,
           1.472422062,
           1.254196643,
           1.1558753000000002,
           1.091127098,
           0.988009592,
           0.856115108,
           0.7098321340000001,
           0.6786570740000001,
           0.7218225420000001,
           0.8465227820000001,
           1.0455635490000001,
           1.146282974,
           1.167865707,
           1.136690647,
           1.057553957,
           1.009592326,
           1.021582734,
           1.119904077,
           1.275779376,
           1.419664269,
           1.486810552,
           1.4100719419999999,
           1.199040767,
           1.016786571,
           0.954436451,
           1.004796163,
           1.074340528,
           1.115107914,
           1.057553957,
           0.956834532,
           0.860911271,
           0.736211031,
           0.6570743410000001,
           0.6570743410000001,
           0.697841727,
           0.8896882490000001,
           1.136690647,
           1.3525179859999998,
           1.5251798559999998,
           1.494004796,
           1.350119904,
           1.223021583,
           1.146282974,
           1.151079137,
           1.244604317,
           1.369304556,
           1.482014388,
           1.496402878,
           1.438848921,
           1.309352518,
           1.1582733809999999,
           1.146282974,
           1.314148681,
           1.6211031180000002,
           1.9472422059999999,
           2.175059952,
           2.2613908869999997,
           2.163069544,
           1.978417266,
           1.78177458,
           1.726618705,
           1.752997602,
           1.8393285369999999,
           1.949640288,
           2.007194245,
           1.9952038369999998,
           2.002398082,
           1.992805755,
           1.9880095919999998,
           1.952038369,
           1.925659472,
           1.87529976,
           1.76498801,
           1.676258993,
           1.673860911,
           1.73381295,
           1.8249400480000002,
           1.918465228,
           1.940047962,
           1.8417266190000001,
           1.695443645,
           1.489208633,
           1.3381294959999999,
           1.299760192,
           1.374100719,
           1.4268585130000002,
           1.517985612,
           1.5491606709999999,
           1.534772182,
           1.529976019,
           1.508393285,
           1.510791367,
           1.4436450840000001,
           1.388489209,
           1.309352518,
           1.278177458,
           1.304556355,
           1.309352518,
           1.273381295,
           1.1582733809999999,
           1.1270983209999998,
           1.115107914,
           1.107913669,
           1.1654676259999999,
           1.20383693,
           1.201438849,
           1.244604317,
           1.400479616,
           1.601918465,
           1.8633093530000002,
           2.074340528,
           2.1702637890000003,
           2.1007194240000002,
           1.940047962,
           1.7673860909999999,
           1.649880096,
           1.5659472419999998,
           1.522781775,
           1.477218225,
           1.326139089,
           1.141486811,
           1.026378897,
           0.971223022,
           0.9352517990000001,
           0.925659472
          ]
         ]
        }
       ],
       "layout": {
        "legend": {
         "bgcolor": "#F5F6F9",
         "font": {
          "color": "#4D5663"
         }
        },
        "paper_bgcolor": "#F5F6F9",
        "plot_bgcolor": "#F5F6F9",
        "template": {
         "data": {
          "bar": [
           {
            "error_x": {
             "color": "#2a3f5f"
            },
            "error_y": {
             "color": "#2a3f5f"
            },
            "marker": {
             "line": {
              "color": "#E5ECF6",
              "width": 0.5
             }
            },
            "type": "bar"
           }
          ],
          "barpolar": [
           {
            "marker": {
             "line": {
              "color": "#E5ECF6",
              "width": 0.5
             }
            },
            "type": "barpolar"
           }
          ],
          "carpet": [
           {
            "aaxis": {
             "endlinecolor": "#2a3f5f",
             "gridcolor": "white",
             "linecolor": "white",
             "minorgridcolor": "white",
             "startlinecolor": "#2a3f5f"
            },
            "baxis": {
             "endlinecolor": "#2a3f5f",
             "gridcolor": "white",
             "linecolor": "white",
             "minorgridcolor": "white",
             "startlinecolor": "#2a3f5f"
            },
            "type": "carpet"
           }
          ],
          "choropleth": [
           {
            "colorbar": {
             "outlinewidth": 0,
             "ticks": ""
            },
            "type": "choropleth"
           }
          ],
          "contour": [
           {
            "colorbar": {
             "outlinewidth": 0,
             "ticks": ""
            },
            "colorscale": [
             [
              0,
              "#0d0887"
             ],
             [
              0.1111111111111111,
              "#46039f"
             ],
             [
              0.2222222222222222,
              "#7201a8"
             ],
             [
              0.3333333333333333,
              "#9c179e"
             ],
             [
              0.4444444444444444,
              "#bd3786"
             ],
             [
              0.5555555555555556,
              "#d8576b"
             ],
             [
              0.6666666666666666,
              "#ed7953"
             ],
             [
              0.7777777777777778,
              "#fb9f3a"
             ],
             [
              0.8888888888888888,
              "#fdca26"
             ],
             [
              1,
              "#f0f921"
             ]
            ],
            "type": "contour"
           }
          ],
          "contourcarpet": [
           {
            "colorbar": {
             "outlinewidth": 0,
             "ticks": ""
            },
            "type": "contourcarpet"
           }
          ],
          "heatmap": [
           {
            "colorbar": {
             "outlinewidth": 0,
             "ticks": ""
            },
            "colorscale": [
             [
              0,
              "#0d0887"
             ],
             [
              0.1111111111111111,
              "#46039f"
             ],
             [
              0.2222222222222222,
              "#7201a8"
             ],
             [
              0.3333333333333333,
              "#9c179e"
             ],
             [
              0.4444444444444444,
              "#bd3786"
             ],
             [
              0.5555555555555556,
              "#d8576b"
             ],
             [
              0.6666666666666666,
              "#ed7953"
             ],
             [
              0.7777777777777778,
              "#fb9f3a"
             ],
             [
              0.8888888888888888,
              "#fdca26"
             ],
             [
              1,
              "#f0f921"
             ]
            ],
            "type": "heatmap"
           }
          ],
          "heatmapgl": [
           {
            "colorbar": {
             "outlinewidth": 0,
             "ticks": ""
            },
            "colorscale": [
             [
              0,
              "#0d0887"
             ],
             [
              0.1111111111111111,
              "#46039f"
             ],
             [
              0.2222222222222222,
              "#7201a8"
             ],
             [
              0.3333333333333333,
              "#9c179e"
             ],
             [
              0.4444444444444444,
              "#bd3786"
             ],
             [
              0.5555555555555556,
              "#d8576b"
             ],
             [
              0.6666666666666666,
              "#ed7953"
             ],
             [
              0.7777777777777778,
              "#fb9f3a"
             ],
             [
              0.8888888888888888,
              "#fdca26"
             ],
             [
              1,
              "#f0f921"
             ]
            ],
            "type": "heatmapgl"
           }
          ],
          "histogram": [
           {
            "marker": {
             "colorbar": {
              "outlinewidth": 0,
              "ticks": ""
             }
            },
            "type": "histogram"
           }
          ],
          "histogram2d": [
           {
            "colorbar": {
             "outlinewidth": 0,
             "ticks": ""
            },
            "colorscale": [
             [
              0,
              "#0d0887"
             ],
             [
              0.1111111111111111,
              "#46039f"
             ],
             [
              0.2222222222222222,
              "#7201a8"
             ],
             [
              0.3333333333333333,
              "#9c179e"
             ],
             [
              0.4444444444444444,
              "#bd3786"
             ],
             [
              0.5555555555555556,
              "#d8576b"
             ],
             [
              0.6666666666666666,
              "#ed7953"
             ],
             [
              0.7777777777777778,
              "#fb9f3a"
             ],
             [
              0.8888888888888888,
              "#fdca26"
             ],
             [
              1,
              "#f0f921"
             ]
            ],
            "type": "histogram2d"
           }
          ],
          "histogram2dcontour": [
           {
            "colorbar": {
             "outlinewidth": 0,
             "ticks": ""
            },
            "colorscale": [
             [
              0,
              "#0d0887"
             ],
             [
              0.1111111111111111,
              "#46039f"
             ],
             [
              0.2222222222222222,
              "#7201a8"
             ],
             [
              0.3333333333333333,
              "#9c179e"
             ],
             [
              0.4444444444444444,
              "#bd3786"
             ],
             [
              0.5555555555555556,
              "#d8576b"
             ],
             [
              0.6666666666666666,
              "#ed7953"
             ],
             [
              0.7777777777777778,
              "#fb9f3a"
             ],
             [
              0.8888888888888888,
              "#fdca26"
             ],
             [
              1,
              "#f0f921"
             ]
            ],
            "type": "histogram2dcontour"
           }
          ],
          "mesh3d": [
           {
            "colorbar": {
             "outlinewidth": 0,
             "ticks": ""
            },
            "type": "mesh3d"
           }
          ],
          "parcoords": [
           {
            "line": {
             "colorbar": {
              "outlinewidth": 0,
              "ticks": ""
             }
            },
            "type": "parcoords"
           }
          ],
          "pie": [
           {
            "automargin": true,
            "type": "pie"
           }
          ],
          "scatter": [
           {
            "marker": {
             "colorbar": {
              "outlinewidth": 0,
              "ticks": ""
             }
            },
            "type": "scatter"
           }
          ],
          "scatter3d": [
           {
            "line": {
             "colorbar": {
              "outlinewidth": 0,
              "ticks": ""
             }
            },
            "marker": {
             "colorbar": {
              "outlinewidth": 0,
              "ticks": ""
             }
            },
            "type": "scatter3d"
           }
          ],
          "scattercarpet": [
           {
            "marker": {
             "colorbar": {
              "outlinewidth": 0,
              "ticks": ""
             }
            },
            "type": "scattercarpet"
           }
          ],
          "scattergeo": [
           {
            "marker": {
             "colorbar": {
              "outlinewidth": 0,
              "ticks": ""
             }
            },
            "type": "scattergeo"
           }
          ],
          "scattergl": [
           {
            "marker": {
             "colorbar": {
              "outlinewidth": 0,
              "ticks": ""
             }
            },
            "type": "scattergl"
           }
          ],
          "scattermapbox": [
           {
            "marker": {
             "colorbar": {
              "outlinewidth": 0,
              "ticks": ""
             }
            },
            "type": "scattermapbox"
           }
          ],
          "scatterpolar": [
           {
            "marker": {
             "colorbar": {
              "outlinewidth": 0,
              "ticks": ""
             }
            },
            "type": "scatterpolar"
           }
          ],
          "scatterpolargl": [
           {
            "marker": {
             "colorbar": {
              "outlinewidth": 0,
              "ticks": ""
             }
            },
            "type": "scatterpolargl"
           }
          ],
          "scatterternary": [
           {
            "marker": {
             "colorbar": {
              "outlinewidth": 0,
              "ticks": ""
             }
            },
            "type": "scatterternary"
           }
          ],
          "surface": [
           {
            "colorbar": {
             "outlinewidth": 0,
             "ticks": ""
            },
            "colorscale": [
             [
              0,
              "#0d0887"
             ],
             [
              0.1111111111111111,
              "#46039f"
             ],
             [
              0.2222222222222222,
              "#7201a8"
             ],
             [
              0.3333333333333333,
              "#9c179e"
             ],
             [
              0.4444444444444444,
              "#bd3786"
             ],
             [
              0.5555555555555556,
              "#d8576b"
             ],
             [
              0.6666666666666666,
              "#ed7953"
             ],
             [
              0.7777777777777778,
              "#fb9f3a"
             ],
             [
              0.8888888888888888,
              "#fdca26"
             ],
             [
              1,
              "#f0f921"
             ]
            ],
            "type": "surface"
           }
          ],
          "table": [
           {
            "cells": {
             "fill": {
              "color": "#EBF0F8"
             },
             "line": {
              "color": "white"
             }
            },
            "header": {
             "fill": {
              "color": "#C8D4E3"
             },
             "line": {
              "color": "white"
             }
            },
            "type": "table"
           }
          ]
         },
         "layout": {
          "annotationdefaults": {
           "arrowcolor": "#2a3f5f",
           "arrowhead": 0,
           "arrowwidth": 1
          },
          "coloraxis": {
           "colorbar": {
            "outlinewidth": 0,
            "ticks": ""
           }
          },
          "colorscale": {
           "diverging": [
            [
             0,
             "#8e0152"
            ],
            [
             0.1,
             "#c51b7d"
            ],
            [
             0.2,
             "#de77ae"
            ],
            [
             0.3,
             "#f1b6da"
            ],
            [
             0.4,
             "#fde0ef"
            ],
            [
             0.5,
             "#f7f7f7"
            ],
            [
             0.6,
             "#e6f5d0"
            ],
            [
             0.7,
             "#b8e186"
            ],
            [
             0.8,
             "#7fbc41"
            ],
            [
             0.9,
             "#4d9221"
            ],
            [
             1,
             "#276419"
            ]
           ],
           "sequential": [
            [
             0,
             "#0d0887"
            ],
            [
             0.1111111111111111,
             "#46039f"
            ],
            [
             0.2222222222222222,
             "#7201a8"
            ],
            [
             0.3333333333333333,
             "#9c179e"
            ],
            [
             0.4444444444444444,
             "#bd3786"
            ],
            [
             0.5555555555555556,
             "#d8576b"
            ],
            [
             0.6666666666666666,
             "#ed7953"
            ],
            [
             0.7777777777777778,
             "#fb9f3a"
            ],
            [
             0.8888888888888888,
             "#fdca26"
            ],
            [
             1,
             "#f0f921"
            ]
           ],
           "sequentialminus": [
            [
             0,
             "#0d0887"
            ],
            [
             0.1111111111111111,
             "#46039f"
            ],
            [
             0.2222222222222222,
             "#7201a8"
            ],
            [
             0.3333333333333333,
             "#9c179e"
            ],
            [
             0.4444444444444444,
             "#bd3786"
            ],
            [
             0.5555555555555556,
             "#d8576b"
            ],
            [
             0.6666666666666666,
             "#ed7953"
            ],
            [
             0.7777777777777778,
             "#fb9f3a"
            ],
            [
             0.8888888888888888,
             "#fdca26"
            ],
            [
             1,
             "#f0f921"
            ]
           ]
          },
          "colorway": [
           "#636efa",
           "#EF553B",
           "#00cc96",
           "#ab63fa",
           "#FFA15A",
           "#19d3f3",
           "#FF6692",
           "#B6E880",
           "#FF97FF",
           "#FECB52"
          ],
          "font": {
           "color": "#2a3f5f"
          },
          "geo": {
           "bgcolor": "white",
           "lakecolor": "white",
           "landcolor": "#E5ECF6",
           "showlakes": true,
           "showland": true,
           "subunitcolor": "white"
          },
          "hoverlabel": {
           "align": "left"
          },
          "hovermode": "closest",
          "mapbox": {
           "style": "light"
          },
          "paper_bgcolor": "white",
          "plot_bgcolor": "#E5ECF6",
          "polar": {
           "angularaxis": {
            "gridcolor": "white",
            "linecolor": "white",
            "ticks": ""
           },
           "bgcolor": "#E5ECF6",
           "radialaxis": {
            "gridcolor": "white",
            "linecolor": "white",
            "ticks": ""
           }
          },
          "scene": {
           "xaxis": {
            "backgroundcolor": "#E5ECF6",
            "gridcolor": "white",
            "gridwidth": 2,
            "linecolor": "white",
            "showbackground": true,
            "ticks": "",
            "zerolinecolor": "white"
           },
           "yaxis": {
            "backgroundcolor": "#E5ECF6",
            "gridcolor": "white",
            "gridwidth": 2,
            "linecolor": "white",
            "showbackground": true,
            "ticks": "",
            "zerolinecolor": "white"
           },
           "zaxis": {
            "backgroundcolor": "#E5ECF6",
            "gridcolor": "white",
            "gridwidth": 2,
            "linecolor": "white",
            "showbackground": true,
            "ticks": "",
            "zerolinecolor": "white"
           }
          },
          "shapedefaults": {
           "line": {
            "color": "#2a3f5f"
           }
          },
          "ternary": {
           "aaxis": {
            "gridcolor": "white",
            "linecolor": "white",
            "ticks": ""
           },
           "baxis": {
            "gridcolor": "white",
            "linecolor": "white",
            "ticks": ""
           },
           "bgcolor": "#E5ECF6",
           "caxis": {
            "gridcolor": "white",
            "linecolor": "white",
            "ticks": ""
           }
          },
          "title": {
           "x": 0.05
          },
          "xaxis": {
           "automargin": true,
           "gridcolor": "white",
           "linecolor": "white",
           "ticks": "",
           "title": {
            "standoff": 15
           },
           "zerolinecolor": "white",
           "zerolinewidth": 2
          },
          "yaxis": {
           "automargin": true,
           "gridcolor": "white",
           "linecolor": "white",
           "ticks": "",
           "title": {
            "standoff": 15
           },
           "zerolinecolor": "white",
           "zerolinewidth": 2
          }
         }
        },
        "title": {
         "font": {
          "color": "#4D5663"
         }
        },
        "xaxis": {
         "gridcolor": "#E1E5ED",
         "showgrid": true,
         "tickfont": {
          "color": "#4D5663"
         },
         "title": {
          "font": {
           "color": "#4D5663"
          },
          "text": ""
         },
         "zerolinecolor": "#E1E5ED"
        },
        "yaxis": {
         "gridcolor": "#E1E5ED",
         "showgrid": true,
         "tickfont": {
          "color": "#4D5663"
         },
         "title": {
          "font": {
           "color": "#4D5663"
          },
          "text": ""
         },
         "zerolinecolor": "#E1E5ED"
        }
       }
      },
      "text/html": [
       "<div>\n",
       "        \n",
       "        \n",
       "            <div id=\"0dd00b60-e765-4f92-bef6-0b75970a7253\" class=\"plotly-graph-div\" style=\"height:525px; width:100%;\"></div>\n",
       "            <script type=\"text/javascript\">\n",
       "                require([\"plotly\"], function(Plotly) {\n",
       "                    window.PLOTLYENV=window.PLOTLYENV || {};\n",
       "                    window.PLOTLYENV.BASE_URL='https://plot.ly';\n",
       "                    \n",
       "                if (document.getElementById(\"0dd00b60-e765-4f92-bef6-0b75970a7253\")) {\n",
       "                    Plotly.newPlot(\n",
       "                        '0dd00b60-e765-4f92-bef6-0b75970a7253',\n",
       "                        [{\"colorscale\": [[0.0, \"rgb(165,0,38)\"], [0.1, \"rgb(215,48,39)\"], [0.2, \"rgb(244,109,67)\"], [0.3, \"rgb(253,174,97)\"], [0.4, \"rgb(254,224,144)\"], [0.5, \"rgb(255,255,191)\"], [0.6, \"rgb(224,243,248)\"], [0.7, \"rgb(171,217,233)\"], [0.8, \"rgb(116,173,209)\"], [0.9, \"rgb(69,117,180)\"], [1.0, \"rgb(49,54,149)\"]], \"type\": \"surface\", \"x\": [0, 1, 2, 3, 4, 5, 6, 7, 8, 9, 10, 11, 12, 13, 14, 15, 16, 17, 18, 19, 20, 21, 22, 23, 24, 25, 26, 27, 28, 29, 30, 31, 32, 33, 34, 35, 36, 37, 38, 39, 40, 41, 42, 43, 44, 45, 46, 47, 48, 49, 50, 51, 52, 53, 54, 55, 56, 57, 58, 59, 60, 61, 62, 63, 64, 65, 66, 67, 68, 69, 70, 71, 72, 73, 74, 75, 76, 77, 78, 79, 80, 81, 82, 83, 84, 85, 86, 87, 88, 89, 90, 91, 92, 93, 94, 95, 96, 97, 98, 99, 100, 101, 102, 103, 104, 105, 106, 107, 108, 109, 110, 111, 112, 113, 114, 115, 116, 117, 118, 119, 120, 121, 122, 123, 124, 125, 126, 127, 128, 129, 130, 131, 132, 133, 134, 135, 136, 137, 138, 139, 140, 141, 142, 143, 144, 145, 146, 147, 148, 149, 150, 151, 152, 153, 154, 155, 156, 157, 158, 159, 160, 161, 162, 163, 164, 165, 166, 167, 168, 169, 170, 171, 172, 173, 174, 175, 176, 177, 178, 179, 180, 181, 182, 183, 184, 185, 186, 187, 188, 189, 190, 191, 192, 193, 194, 195, 196, 197, 198, 199], \"y\": [\"Acce(z)\", \"Acce(x)\", \"Acce(y)\"], \"z\": [[-8.616306954, -8.529976019, -8.472422062, -8.395683453, -8.28057554, -8.153477217999999, -8.081534772000001, -8.045563549, -8.100719424, -8.220623501, -8.388489209, -8.510791367000001, -8.621103117999999, -8.697841727, -8.755395683, -8.832134293, -8.872901679, -8.899280576, -8.880095922999999, -8.90647482, -8.942446043, -8.978417266000001, -8.978417266000001, -8.966426859, -8.925659472000001, -8.901678657, -8.96882494, -9.083932854, -9.206235012, -9.258992806, -9.309352517999999, -9.376498801, -9.436450838999999, -9.529976019, -9.527577938, -9.474820144, -9.340527578, -9.26618705, -9.211031175, -9.20383693, -9.201438849, -9.287769784, -9.381294964, -9.505995204, -9.630695444, -9.757793765, -9.904076739, -9.997601917999999, -10.00959233, -10.06954436, -10.17505995, -10.31654676, -10.4940048, -10.60431655, -10.74340528, -10.85851319, -11.01438849, -11.11510791, -11.17026379, -11.1822542, -11.13429257, -11.08872902, -11.05035971, -11.01678657, -11.00479616, -11.06954436, -11.1942446, -11.25179856, -11.29256595, -11.28776978, -11.21582734, -11.09832134, -10.97841727, -10.94484412, -10.99280576, -11.15347722, -11.28776978, -11.43165468, -11.55395683, -11.70983213, -11.82254197, -11.90167866, -11.92326139, -11.90407674, -11.87769784, -11.84652278, -11.77218225, -11.649880099999999, -11.44604317, -11.21103118, -10.97601918, -10.73141487, -10.4028777, -10.08153477, -9.827338129, -9.630695444, -9.501199041, -9.393285372000001, -9.261390887000001, -9.148681055, -9.100719424, -9.141486811, -9.107913669, -9.011990407999999, -8.954436451, -8.961630695, -9.057553957, -9.148681055, -9.151079137, -9.067146283, -8.932853717, -8.779376499, -8.657074341, -8.573141487000001, -8.544364508, -8.592326138999999, -8.652278177000001, -8.717026379, -8.709832134, -8.6882494, -8.625899281, -8.553956835, -8.532374101, -8.553956835, -8.541966427, -8.558752998, -8.537170264, -8.388489209, -8.278177458, -8.194244604, -8.122302158, -8.086330935, -8.067146283, -8.12470024, -8.194244604, -8.333333332999999, -8.388489209, -8.438848921, -8.426858512999999, -8.462829736, -8.434052758, -8.371702638, -8.32853717, -8.323741007, -8.371702638, -8.491606715, -8.570743405, -8.676258993, -8.784172662000001, -8.889688248999999, -8.923261391, -8.961630695, -8.961630695, -9.043165468, -9.148681055, -9.287769784, -9.388489209, -9.491606715, -9.606714627999999, -9.709832134, -9.810551559, -9.887290168, -9.923261391, -9.918465227999999, -9.932853717, -9.966426859, -10.026378900000001, -10.13669065, -10.23261391, -10.35251799, -10.45563549, -10.53477218, -10.62589928, -10.70743405, -10.76019185, -10.78657074, -10.81055156, -10.882494, -10.97601918, -11.064748199999999, -11.1294964, -11.15827338, -11.16546763, -11.05995204, -10.882494, -10.67625899, -10.51798561, -10.48920863, -10.42685851, -10.40767386, -10.48441247, -10.57314149, -10.75779376, -10.93285372, -11.06714628, -11.20863309, -11.33333333, -11.44604317, -11.54916067, -11.65227818], [-0.474820144, -0.544364508, -0.592326139, -0.604316547, -0.64028777, -0.683453237, -0.784172662, -0.8848920859999999, -0.9232613909999999, -0.952038369, -0.964028777, -0.949640288, -0.954436451, -1.002398082, -1.038369305, -1.0887290170000001, -1.136690647, -1.146282974, -1.208633094, -1.237410072, -1.275779376, -1.292565947, -1.26618705, -1.273381295, -1.191846523, -1.1294964029999999, -0.9832134290000001, -0.817745803, -0.7553956829999999, -0.748201439, -0.769784173, -0.7913669059999999, -0.738609113, -0.683453237, -0.661870504, -0.697841727, -0.786570743, -0.8369304559999999, -0.841726619, -0.8369304559999999, -0.8441247, -0.841726619, -0.848920863, -0.9160671459999999, -0.9328537170000001, -0.920863309, -0.79616307, -0.599520384, -0.563549161, -0.599520384, -0.767386091, -0.964028777, -1.0887290170000001, -1.179856115, -1.175059952, -1.177458034, -1.143884892, -1.148681055, -1.20383693, -1.196642686, -1.141486811, -1.021582734, -0.8585131890000001, -0.7242206240000001, -0.67146283, -0.642685851, -0.6474820139999999, -0.659472422, -0.645083933, -0.544364508, -0.414868106, -0.32134292600000003, -0.292565947, -0.345323741, -0.47002398100000004, -0.568345324, -0.565947242, -0.532374101, -0.48441247, -0.44844124700000004, -0.450839329, -0.527577938, -0.625899281, -0.6570743410000001, -0.630695444, -0.520383693, -0.330935252, -0.242206235, -0.326139089, -0.505995204, -0.7050359709999999, -0.827338129, -0.8872901679999999, -0.8992805759999999, -0.8968824940000001, -0.928057554, -0.952038369, -0.956834532, -0.9808153479999999, -0.9736211029999999, -1.0, -0.913669065, -0.820143885, -0.743405276, -0.621103118, -0.539568345, -0.5611510789999999, -0.565947242, -0.47002398100000004, -0.333333333, -0.19904076699999998, -0.103117506, -0.095923261, -0.127098321, -0.148681055, -0.141486811, -0.055155875, -0.004796163, 0.009592326, 0.014388488999999999, -0.004796163, -0.050359712, -0.117505995, -0.184652278, -0.278177458, -0.35491606700000006, -0.42206235, -0.537170264, -0.616306954, -0.654676259, -0.616306954, -0.599520384, -0.6762589929999999, -0.67146283, -0.611510791, -0.5035971220000001, -0.364508393, -0.237410072, -0.223021583, -0.22062350100000003, -0.25179856100000003, -0.292565947, -0.345323741, -0.299760192, -0.23501199, -0.26618705, -0.292565947, -0.292565947, -0.273381295, -0.18705036, -0.040767386, 0.050359712, 0.086330935, 0.067146283, 0.043165468, 0.002398082, -0.002398082, -0.06474820099999999, -0.052757794000000004, -0.095923261, -0.129496403, -0.088729017, -0.12470024, -0.163069544, -0.242206235, -0.28537170300000003, -0.239808153, -0.17266187100000002, -0.06235012, 0.002398082, 0.038369305, 0.076738609, 0.050359712, 0.071942446, 0.033573141, -0.033573141, -0.112709832, -0.129496403, -0.117505995, -0.057553957, -0.016786571, -0.004796163, -0.028776977999999998, -0.035971223, -0.043165468, -0.002398082, 0.045563549, -0.002398082, -0.100719424, -0.261390887, -0.345323741, -0.345323741, -0.19904076699999998, -0.033573141, 0.076738609, 0.115107914, 0.071942446, -0.007194245, -0.081534772, -0.081534772], [1.618705036, 1.48441247, 1.513189448, 1.5659472419999998, 1.7362110309999998, 1.884892086, 1.96882494, 1.928057554, 1.752997602, 1.486810552, 1.230215827, 1.0527577940000001, 0.988009592, 0.9400479620000001, 0.9232613909999999, 0.863309353, 0.79616307, 0.748201439, 0.697841727, 0.6354916070000001, 0.633093525, 0.645083933, 0.642685851, 0.697841727, 0.8081534770000001, 0.81294964, 0.8081534770000001, 0.745803357, 0.633093525, 0.529976019, 0.573141487, 0.652278177, 0.7218225420000001, 0.793764988, 0.8033573140000001, 0.8848920859999999, 1.0143884890000001, 1.28057554, 1.5947242209999999, 1.8273381290000001, 1.904076739, 1.8153477219999998, 1.681055156, 1.585131894, 1.5971223019999998, 1.71942446, 1.8393285369999999, 1.930455635, 2.004796163, 1.990407674, 1.870503597, 1.760191847, 1.60911271, 1.496402878, 1.3788968819999998, 1.3549160669999998, 1.3764988009999999, 1.42206235, 1.45323741, 1.517985612, 1.6067146280000002, 1.70263789, 1.8009592330000002, 1.877697842, 1.81294964, 1.6474820140000002, 1.398081535, 1.292565947, 1.28057554, 1.522781775, 1.8345323740000001, 2.067146283, 2.115107914, 1.990407674, 1.741007194, 1.472422062, 1.254196643, 1.1558753000000002, 1.091127098, 0.988009592, 0.856115108, 0.7098321340000001, 0.6786570740000001, 0.7218225420000001, 0.8465227820000001, 1.0455635490000001, 1.146282974, 1.167865707, 1.136690647, 1.057553957, 1.009592326, 1.021582734, 1.119904077, 1.275779376, 1.419664269, 1.486810552, 1.4100719419999999, 1.199040767, 1.016786571, 0.954436451, 1.004796163, 1.074340528, 1.115107914, 1.057553957, 0.956834532, 0.860911271, 0.736211031, 0.6570743410000001, 0.6570743410000001, 0.697841727, 0.8896882490000001, 1.136690647, 1.3525179859999998, 1.5251798559999998, 1.494004796, 1.350119904, 1.223021583, 1.146282974, 1.151079137, 1.244604317, 1.369304556, 1.482014388, 1.496402878, 1.438848921, 1.309352518, 1.1582733809999999, 1.146282974, 1.314148681, 1.6211031180000002, 1.9472422059999999, 2.175059952, 2.2613908869999997, 2.163069544, 1.978417266, 1.78177458, 1.726618705, 1.752997602, 1.8393285369999999, 1.949640288, 2.007194245, 1.9952038369999998, 2.002398082, 1.992805755, 1.9880095919999998, 1.952038369, 1.925659472, 1.87529976, 1.76498801, 1.676258993, 1.673860911, 1.73381295, 1.8249400480000002, 1.918465228, 1.940047962, 1.8417266190000001, 1.695443645, 1.489208633, 1.3381294959999999, 1.299760192, 1.374100719, 1.4268585130000002, 1.517985612, 1.5491606709999999, 1.534772182, 1.529976019, 1.508393285, 1.510791367, 1.4436450840000001, 1.388489209, 1.309352518, 1.278177458, 1.304556355, 1.309352518, 1.273381295, 1.1582733809999999, 1.1270983209999998, 1.115107914, 1.107913669, 1.1654676259999999, 1.20383693, 1.201438849, 1.244604317, 1.400479616, 1.601918465, 1.8633093530000002, 2.074340528, 2.1702637890000003, 2.1007194240000002, 1.940047962, 1.7673860909999999, 1.649880096, 1.5659472419999998, 1.522781775, 1.477218225, 1.326139089, 1.141486811, 1.026378897, 0.971223022, 0.9352517990000001, 0.925659472]]}],\n",
       "                        {\"legend\": {\"bgcolor\": \"#F5F6F9\", \"font\": {\"color\": \"#4D5663\"}}, \"paper_bgcolor\": \"#F5F6F9\", \"plot_bgcolor\": \"#F5F6F9\", \"template\": {\"data\": {\"bar\": [{\"error_x\": {\"color\": \"#2a3f5f\"}, \"error_y\": {\"color\": \"#2a3f5f\"}, \"marker\": {\"line\": {\"color\": \"#E5ECF6\", \"width\": 0.5}}, \"type\": \"bar\"}], \"barpolar\": [{\"marker\": {\"line\": {\"color\": \"#E5ECF6\", \"width\": 0.5}}, \"type\": \"barpolar\"}], \"carpet\": [{\"aaxis\": {\"endlinecolor\": \"#2a3f5f\", \"gridcolor\": \"white\", \"linecolor\": \"white\", \"minorgridcolor\": \"white\", \"startlinecolor\": \"#2a3f5f\"}, \"baxis\": {\"endlinecolor\": \"#2a3f5f\", \"gridcolor\": \"white\", \"linecolor\": \"white\", \"minorgridcolor\": \"white\", \"startlinecolor\": \"#2a3f5f\"}, \"type\": \"carpet\"}], \"choropleth\": [{\"colorbar\": {\"outlinewidth\": 0, \"ticks\": \"\"}, \"type\": \"choropleth\"}], \"contour\": [{\"colorbar\": {\"outlinewidth\": 0, \"ticks\": \"\"}, \"colorscale\": [[0.0, \"#0d0887\"], [0.1111111111111111, \"#46039f\"], [0.2222222222222222, \"#7201a8\"], [0.3333333333333333, \"#9c179e\"], [0.4444444444444444, \"#bd3786\"], [0.5555555555555556, \"#d8576b\"], [0.6666666666666666, \"#ed7953\"], [0.7777777777777778, \"#fb9f3a\"], [0.8888888888888888, \"#fdca26\"], [1.0, \"#f0f921\"]], \"type\": \"contour\"}], \"contourcarpet\": [{\"colorbar\": {\"outlinewidth\": 0, \"ticks\": \"\"}, \"type\": \"contourcarpet\"}], \"heatmap\": [{\"colorbar\": {\"outlinewidth\": 0, \"ticks\": \"\"}, \"colorscale\": [[0.0, \"#0d0887\"], [0.1111111111111111, \"#46039f\"], [0.2222222222222222, \"#7201a8\"], [0.3333333333333333, \"#9c179e\"], [0.4444444444444444, \"#bd3786\"], [0.5555555555555556, \"#d8576b\"], [0.6666666666666666, \"#ed7953\"], [0.7777777777777778, \"#fb9f3a\"], [0.8888888888888888, \"#fdca26\"], [1.0, \"#f0f921\"]], \"type\": \"heatmap\"}], \"heatmapgl\": [{\"colorbar\": {\"outlinewidth\": 0, \"ticks\": \"\"}, \"colorscale\": [[0.0, \"#0d0887\"], [0.1111111111111111, \"#46039f\"], [0.2222222222222222, \"#7201a8\"], [0.3333333333333333, \"#9c179e\"], [0.4444444444444444, \"#bd3786\"], [0.5555555555555556, \"#d8576b\"], [0.6666666666666666, \"#ed7953\"], [0.7777777777777778, \"#fb9f3a\"], [0.8888888888888888, \"#fdca26\"], [1.0, \"#f0f921\"]], \"type\": \"heatmapgl\"}], \"histogram\": [{\"marker\": {\"colorbar\": {\"outlinewidth\": 0, \"ticks\": \"\"}}, \"type\": \"histogram\"}], \"histogram2d\": [{\"colorbar\": {\"outlinewidth\": 0, \"ticks\": \"\"}, \"colorscale\": [[0.0, \"#0d0887\"], [0.1111111111111111, \"#46039f\"], [0.2222222222222222, \"#7201a8\"], [0.3333333333333333, \"#9c179e\"], [0.4444444444444444, \"#bd3786\"], [0.5555555555555556, \"#d8576b\"], [0.6666666666666666, \"#ed7953\"], [0.7777777777777778, \"#fb9f3a\"], [0.8888888888888888, \"#fdca26\"], [1.0, \"#f0f921\"]], \"type\": \"histogram2d\"}], \"histogram2dcontour\": [{\"colorbar\": {\"outlinewidth\": 0, \"ticks\": \"\"}, \"colorscale\": [[0.0, \"#0d0887\"], [0.1111111111111111, \"#46039f\"], [0.2222222222222222, \"#7201a8\"], [0.3333333333333333, \"#9c179e\"], [0.4444444444444444, \"#bd3786\"], [0.5555555555555556, \"#d8576b\"], [0.6666666666666666, \"#ed7953\"], [0.7777777777777778, \"#fb9f3a\"], [0.8888888888888888, \"#fdca26\"], [1.0, \"#f0f921\"]], \"type\": \"histogram2dcontour\"}], \"mesh3d\": [{\"colorbar\": {\"outlinewidth\": 0, \"ticks\": \"\"}, \"type\": \"mesh3d\"}], \"parcoords\": [{\"line\": {\"colorbar\": {\"outlinewidth\": 0, \"ticks\": \"\"}}, \"type\": \"parcoords\"}], \"pie\": [{\"automargin\": true, \"type\": \"pie\"}], \"scatter\": [{\"marker\": {\"colorbar\": {\"outlinewidth\": 0, \"ticks\": \"\"}}, \"type\": \"scatter\"}], \"scatter3d\": [{\"line\": {\"colorbar\": {\"outlinewidth\": 0, \"ticks\": \"\"}}, \"marker\": {\"colorbar\": {\"outlinewidth\": 0, \"ticks\": \"\"}}, \"type\": \"scatter3d\"}], \"scattercarpet\": [{\"marker\": {\"colorbar\": {\"outlinewidth\": 0, \"ticks\": \"\"}}, \"type\": \"scattercarpet\"}], \"scattergeo\": [{\"marker\": {\"colorbar\": {\"outlinewidth\": 0, \"ticks\": \"\"}}, \"type\": \"scattergeo\"}], \"scattergl\": [{\"marker\": {\"colorbar\": {\"outlinewidth\": 0, \"ticks\": \"\"}}, \"type\": \"scattergl\"}], \"scattermapbox\": [{\"marker\": {\"colorbar\": {\"outlinewidth\": 0, \"ticks\": \"\"}}, \"type\": \"scattermapbox\"}], \"scatterpolar\": [{\"marker\": {\"colorbar\": {\"outlinewidth\": 0, \"ticks\": \"\"}}, \"type\": \"scatterpolar\"}], \"scatterpolargl\": [{\"marker\": {\"colorbar\": {\"outlinewidth\": 0, \"ticks\": \"\"}}, \"type\": \"scatterpolargl\"}], \"scatterternary\": [{\"marker\": {\"colorbar\": {\"outlinewidth\": 0, \"ticks\": \"\"}}, \"type\": \"scatterternary\"}], \"surface\": [{\"colorbar\": {\"outlinewidth\": 0, \"ticks\": \"\"}, \"colorscale\": [[0.0, \"#0d0887\"], [0.1111111111111111, \"#46039f\"], [0.2222222222222222, \"#7201a8\"], [0.3333333333333333, \"#9c179e\"], [0.4444444444444444, \"#bd3786\"], [0.5555555555555556, \"#d8576b\"], [0.6666666666666666, \"#ed7953\"], [0.7777777777777778, \"#fb9f3a\"], [0.8888888888888888, \"#fdca26\"], [1.0, \"#f0f921\"]], \"type\": \"surface\"}], \"table\": [{\"cells\": {\"fill\": {\"color\": \"#EBF0F8\"}, \"line\": {\"color\": \"white\"}}, \"header\": {\"fill\": {\"color\": \"#C8D4E3\"}, \"line\": {\"color\": \"white\"}}, \"type\": \"table\"}]}, \"layout\": {\"annotationdefaults\": {\"arrowcolor\": \"#2a3f5f\", \"arrowhead\": 0, \"arrowwidth\": 1}, \"coloraxis\": {\"colorbar\": {\"outlinewidth\": 0, \"ticks\": \"\"}}, \"colorscale\": {\"diverging\": [[0, \"#8e0152\"], [0.1, \"#c51b7d\"], [0.2, \"#de77ae\"], [0.3, \"#f1b6da\"], [0.4, \"#fde0ef\"], [0.5, \"#f7f7f7\"], [0.6, \"#e6f5d0\"], [0.7, \"#b8e186\"], [0.8, \"#7fbc41\"], [0.9, \"#4d9221\"], [1, \"#276419\"]], \"sequential\": [[0.0, \"#0d0887\"], [0.1111111111111111, \"#46039f\"], [0.2222222222222222, \"#7201a8\"], [0.3333333333333333, \"#9c179e\"], [0.4444444444444444, \"#bd3786\"], [0.5555555555555556, \"#d8576b\"], [0.6666666666666666, \"#ed7953\"], [0.7777777777777778, \"#fb9f3a\"], [0.8888888888888888, \"#fdca26\"], [1.0, \"#f0f921\"]], \"sequentialminus\": [[0.0, \"#0d0887\"], [0.1111111111111111, \"#46039f\"], [0.2222222222222222, \"#7201a8\"], [0.3333333333333333, \"#9c179e\"], [0.4444444444444444, \"#bd3786\"], [0.5555555555555556, \"#d8576b\"], [0.6666666666666666, \"#ed7953\"], [0.7777777777777778, \"#fb9f3a\"], [0.8888888888888888, \"#fdca26\"], [1.0, \"#f0f921\"]]}, \"colorway\": [\"#636efa\", \"#EF553B\", \"#00cc96\", \"#ab63fa\", \"#FFA15A\", \"#19d3f3\", \"#FF6692\", \"#B6E880\", \"#FF97FF\", \"#FECB52\"], \"font\": {\"color\": \"#2a3f5f\"}, \"geo\": {\"bgcolor\": \"white\", \"lakecolor\": \"white\", \"landcolor\": \"#E5ECF6\", \"showlakes\": true, \"showland\": true, \"subunitcolor\": \"white\"}, \"hoverlabel\": {\"align\": \"left\"}, \"hovermode\": \"closest\", \"mapbox\": {\"style\": \"light\"}, \"paper_bgcolor\": \"white\", \"plot_bgcolor\": \"#E5ECF6\", \"polar\": {\"angularaxis\": {\"gridcolor\": \"white\", \"linecolor\": \"white\", \"ticks\": \"\"}, \"bgcolor\": \"#E5ECF6\", \"radialaxis\": {\"gridcolor\": \"white\", \"linecolor\": \"white\", \"ticks\": \"\"}}, \"scene\": {\"xaxis\": {\"backgroundcolor\": \"#E5ECF6\", \"gridcolor\": \"white\", \"gridwidth\": 2, \"linecolor\": \"white\", \"showbackground\": true, \"ticks\": \"\", \"zerolinecolor\": \"white\"}, \"yaxis\": {\"backgroundcolor\": \"#E5ECF6\", \"gridcolor\": \"white\", \"gridwidth\": 2, \"linecolor\": \"white\", \"showbackground\": true, \"ticks\": \"\", \"zerolinecolor\": \"white\"}, \"zaxis\": {\"backgroundcolor\": \"#E5ECF6\", \"gridcolor\": \"white\", \"gridwidth\": 2, \"linecolor\": \"white\", \"showbackground\": true, \"ticks\": \"\", \"zerolinecolor\": \"white\"}}, \"shapedefaults\": {\"line\": {\"color\": \"#2a3f5f\"}}, \"ternary\": {\"aaxis\": {\"gridcolor\": \"white\", \"linecolor\": \"white\", \"ticks\": \"\"}, \"baxis\": {\"gridcolor\": \"white\", \"linecolor\": \"white\", \"ticks\": \"\"}, \"bgcolor\": \"#E5ECF6\", \"caxis\": {\"gridcolor\": \"white\", \"linecolor\": \"white\", \"ticks\": \"\"}}, \"title\": {\"x\": 0.05}, \"xaxis\": {\"automargin\": true, \"gridcolor\": \"white\", \"linecolor\": \"white\", \"ticks\": \"\", \"title\": {\"standoff\": 15}, \"zerolinecolor\": \"white\", \"zerolinewidth\": 2}, \"yaxis\": {\"automargin\": true, \"gridcolor\": \"white\", \"linecolor\": \"white\", \"ticks\": \"\", \"title\": {\"standoff\": 15}, \"zerolinecolor\": \"white\", \"zerolinewidth\": 2}}}, \"title\": {\"font\": {\"color\": \"#4D5663\"}}, \"xaxis\": {\"gridcolor\": \"#E1E5ED\", \"showgrid\": true, \"tickfont\": {\"color\": \"#4D5663\"}, \"title\": {\"font\": {\"color\": \"#4D5663\"}, \"text\": \"\"}, \"zerolinecolor\": \"#E1E5ED\"}, \"yaxis\": {\"gridcolor\": \"#E1E5ED\", \"showgrid\": true, \"tickfont\": {\"color\": \"#4D5663\"}, \"title\": {\"font\": {\"color\": \"#4D5663\"}, \"text\": \"\"}, \"zerolinecolor\": \"#E1E5ED\"}},\n",
       "                        {\"showLink\": true, \"linkText\": \"Export to plot.ly\", \"plotlyServerURL\": \"https://plot.ly\", \"responsive\": true}\n",
       "                    ).then(function(){\n",
       "                            \n",
       "var gd = document.getElementById('0dd00b60-e765-4f92-bef6-0b75970a7253');\n",
       "var x = new MutationObserver(function (mutations, observer) {{\n",
       "        var display = window.getComputedStyle(gd).display;\n",
       "        if (!display || display === 'none') {{\n",
       "            console.log([gd, 'removed!']);\n",
       "            Plotly.purge(gd);\n",
       "            observer.disconnect();\n",
       "        }}\n",
       "}});\n",
       "\n",
       "// Listen for the removal of the full notebook cells\n",
       "var notebookContainer = gd.closest('#notebook-container');\n",
       "if (notebookContainer) {{\n",
       "    x.observe(notebookContainer, {childList: true});\n",
       "}}\n",
       "\n",
       "// Listen for the clearing of the current output cell\n",
       "var outputEl = gd.closest('.output');\n",
       "if (outputEl) {{\n",
       "    x.observe(outputEl, {childList: true});\n",
       "}}\n",
       "\n",
       "                        })\n",
       "                };\n",
       "                });\n",
       "            </script>\n",
       "        </div>"
      ]
     },
     "metadata": {},
     "output_type": "display_data"
    }
   ],
   "source": [
    "#This plot is showing various forces which was applied that brings about displacemet.\n",
    "Acce1.iplot(kind='surface', colorscale='rdylbu')"
   ]
  },
  {
   "cell_type": "code",
   "execution_count": 23,
   "metadata": {},
   "outputs": [
    {
     "data": {
      "application/vnd.plotly.v1+json": {
       "config": {
        "linkText": "Export to plot.ly",
        "plotlyServerURL": "https://plot.ly",
        "showLink": true
       },
       "data": [
        {
         "colorscale": [
          [
           0,
           "rgb(165,0,38)"
          ],
          [
           0.1,
           "rgb(215,48,39)"
          ],
          [
           0.2,
           "rgb(244,109,67)"
          ],
          [
           0.3,
           "rgb(253,174,97)"
          ],
          [
           0.4,
           "rgb(254,224,144)"
          ],
          [
           0.5,
           "rgb(255,255,191)"
          ],
          [
           0.6,
           "rgb(224,243,248)"
          ],
          [
           0.7,
           "rgb(171,217,233)"
          ],
          [
           0.8,
           "rgb(116,173,209)"
          ],
          [
           0.9,
           "rgb(69,117,180)"
          ],
          [
           1,
           "rgb(49,54,149)"
          ]
         ],
         "type": "surface",
         "x": [
          0,
          1,
          2,
          3,
          4,
          5,
          6,
          7,
          8,
          9,
          10,
          11,
          12,
          13,
          14,
          15,
          16,
          17,
          18,
          19,
          20,
          21,
          22,
          23,
          24,
          25,
          26,
          27,
          28,
          29,
          30,
          31,
          32,
          33,
          34,
          35,
          36,
          37,
          38,
          39,
          40,
          41,
          42,
          43,
          44,
          45,
          46,
          47,
          48,
          49,
          50,
          51,
          52,
          53,
          54,
          55,
          56,
          57,
          58,
          59,
          60,
          61,
          62,
          63,
          64,
          65,
          66,
          67,
          68,
          69,
          70,
          71,
          72,
          73,
          74,
          75,
          76,
          77,
          78,
          79,
          80,
          81,
          82,
          83,
          84,
          85,
          86,
          87,
          88,
          89,
          90,
          91,
          92,
          93,
          94,
          95,
          96,
          97,
          98,
          99,
          100,
          101,
          102,
          103,
          104,
          105,
          106,
          107,
          108,
          109,
          110,
          111,
          112,
          113,
          114,
          115,
          116,
          117,
          118,
          119,
          120,
          121,
          122,
          123,
          124,
          125,
          126,
          127,
          128,
          129,
          130,
          131,
          132,
          133,
          134,
          135,
          136,
          137,
          138,
          139,
          140,
          141,
          142,
          143,
          144,
          145,
          146,
          147,
          148,
          149,
          150,
          151,
          152,
          153,
          154,
          155,
          156,
          157,
          158,
          159,
          160,
          161,
          162,
          163,
          164,
          165,
          166,
          167,
          168,
          169,
          170,
          171,
          172,
          173,
          174,
          175,
          176,
          177,
          178,
          179,
          180,
          181,
          182,
          183,
          184,
          185,
          186,
          187,
          188,
          189,
          190,
          191,
          192,
          193,
          194,
          195,
          196,
          197,
          198,
          199
         ],
         "y": [
          "Gyro(z)",
          "Gyro(x)",
          "Gyro(y)"
         ],
         "z": [
          [
           0.22257721,
           0.225772098,
           0.224707135,
           0.225772098,
           0.227902023,
           0.224707135,
           0.21725239600000001,
           0.201277955,
           0.184238552,
           0.18104366300000002,
           0.19382321600000002,
           0.216187433,
           0.224707135,
           0.212992545,
           0.176783813,
           0.12247071400000001,
           0.073482428,
           0.041533546,
           0.033013845,
           0.053248135999999995,
           0.099041534,
           0.155484558,
           0.212992545,
           0.265175719,
           0.305644302,
           0.323748669,
           0.322683706,
           0.308839191,
           0.290734824,
           0.266240682,
           0.22257721,
           0.169329073,
           0.107561235,
           0.054313099000000004,
           0.018104366,
           0.010649627,
           0.028753993999999998,
           0.064962726,
           0.09265175699999999,
           0.091586794,
           0.062832801,
           0.034078807,
           0.021299255,
           0.029818956,
           0.040468584,
           0.029818956,
           -0.020234292,
           -0.10330138400000001,
           -0.200212993,
           -0.289669862,
           -0.358892439,
           -0.39723109700000003,
           -0.41533546299999996,
           -0.405750799,
           -0.37806176799999996,
           -0.34291799799999995,
           -0.30138445199999997,
           -0.258785942,
           -0.211927583,
           -0.16400426,
           -0.116080937,
           -0.071352503,
           -0.041533546,
           -0.034078807,
           -0.052183174000000006,
           -0.086261981,
           -0.11714589999999998,
           -0.126730564,
           -0.112886049,
           -0.112886049,
           -0.143769968,
           -0.20553780600000002,
           -0.265175719,
           -0.284345048,
           -0.266240682,
           -0.219382322,
           -0.160809372,
           -0.111821086,
           -0.091586794,
           -0.102236422,
           -0.112886049,
           -0.102236422,
           -0.051118211,
           0.024494143,
           0.090521832,
           0.109691161,
           0.057507987,
           -0.04259850900000001,
           -0.156549521,
           -0.253461129,
           -0.303514377,
           -0.30244941399999997,
           -0.263045793,
           -0.207667732,
           -0.16719914800000002,
           -0.154419595,
           -0.159744409,
           -0.159744409,
           -0.136315229,
           -0.084132055,
           -0.025559105,
           0.009584665,
           0.017039403999999998,
           0.005324814000000001,
           -0.001064963,
           0.006389776,
           0.02342918,
           0.034078807,
           0.024494143,
           0.005324814000000001,
           -0.003194888,
           0.007454739,
           0.019169329,
           0.026624067999999997,
           0.021299255,
           0.004259850999999999,
           -0.012779553,
           -0.027689031,
           -0.039403621,
           -0.051118211,
           -0.061767838,
           -0.08519701800000001,
           -0.12247071400000001,
           -0.161874334,
           -0.189563365,
           -0.188498403,
           -0.157614483,
           -0.099041534,
           -0.031948882000000005,
           0.021299255,
           0.044728435,
           0.041533546,
           0.033013845,
           0.033013845,
           0.056443024,
           0.09265175699999999,
           0.115015974,
           0.10543131,
           0.06922257700000001,
           0.018104366,
           -0.025559105,
           -0.043663472,
           -0.031948882000000005,
           0.001064963,
           0.036208733,
           0.059637913,
           0.066027689,
           0.061767838,
           0.07028754,
           0.09691160800000001,
           0.127795527,
           0.146964856,
           0.14164004300000002,
           0.11395101199999999,
           0.071352503,
           0.034078807,
           0.013844515,
           0.019169329,
           0.043663472,
           0.064962726,
           0.059637913,
           0.024494143,
           -0.028753993999999998,
           -0.066027689,
           -0.061767838,
           -0.021299255,
           0.043663472,
           0.10330138400000001,
           0.136315229,
           0.139510117,
           0.11395101199999999,
           0.07028754,
           0.027689031,
           -0.005324814000000001,
           -0.015974441000000002,
           -0.004259850999999999,
           0.014909478,
           0.033013845,
           0.04259850900000001,
           0.043663472,
           0.053248135999999995,
           0.086261981,
           0.132055378,
           0.172523962,
           0.18104366300000002,
           0.148029819,
           0.094781683,
           0.044728435,
           0.02342918,
           0.043663472,
           0.097976571,
           0.169329073,
           0.22257721,
           0.235356763,
           0.215122471,
           0.183173589,
           0.157614483,
           0.143769968,
           0.144834931,
           0.150159744
          ],
          [
           -0.072417465,
           -0.064962726,
           -0.07028754,
           -0.077742279,
           -0.077742279,
           -0.061767838,
           -0.028753993999999998,
           0.010649627,
           0.048988285,
           0.080937167,
           0.097976571,
           0.10330138400000001,
           0.097976571,
           0.091586794,
           0.083067093,
           0.077742279,
           0.073482428,
           0.067092652,
           0.064962726,
           0.062832801,
           0.061767838,
           0.060702875,
           0.05857295,
           0.055378062,
           0.055378062,
           0.062832801,
           0.07454739099999999,
           0.08519701800000001,
           0.08519701800000001,
           0.072417465,
           0.047923323,
           0.02342918,
           0.002129925,
           -0.007454739,
           -0.019169329,
           -0.030883919,
           -0.039403621,
           -0.044728435,
           -0.034078807,
           -0.008519701999999999,
           0.024494143,
           0.059637913,
           0.08200213,
           0.09265175699999999,
           0.094781683,
           0.090521832,
           0.090521832,
           0.09371672,
           0.097976571,
           0.110756124,
           0.127795527,
           0.145899894,
           0.160809372,
           0.16506922300000001,
           0.157614483,
           0.148029819,
           0.13844515400000001,
           0.129925453,
           0.124600639,
           0.12140575099999999,
           0.119275825,
           0.124600639,
           0.13738019199999998,
           0.157614483,
           0.17891373800000002,
           0.19382321600000002,
           0.190628328,
           0.17145899899999997,
           0.14057508,
           0.111821086,
           0.09265175699999999,
           0.095846645,
           0.12247071400000001,
           0.161874334,
           0.198083067,
           0.21725239600000001,
           0.220447284,
           0.208732694,
           0.19169329100000002,
           0.17145899899999997,
           0.146964856,
           0.12247071400000001,
           0.091586794,
           0.07028754,
           0.056443024,
           0.050053248,
           0.040468584,
           0.031948882000000005,
           0.015974441000000002,
           -0.002129925,
           -0.019169329,
           -0.034078807,
           -0.039403621,
           -0.040468584,
           -0.030883919,
           -0.014909478,
           0.003194888,
           0.012779553,
           0.007454739,
           -0.005324814000000001,
           -0.021299255,
           -0.030883919,
           -0.030883919,
           -0.028753993999999998,
           -0.028753993999999998,
           -0.033013845,
           -0.039403621,
           -0.057507987,
           -0.094781683,
           -0.136315229,
           -0.176783813,
           -0.19382321600000002,
           -0.18530351399999997,
           -0.161874334,
           -0.135250266,
           -0.119275825,
           -0.11821086300000001,
           -0.130990415,
           -0.148029819,
           -0.160809372,
           -0.169329073,
           -0.16506922300000001,
           -0.154419595,
           -0.144834931,
           -0.142705005,
           -0.150159744,
           -0.17358892399999998,
           -0.198083067,
           -0.208732694,
           -0.200212993,
           -0.16826411100000002,
           -0.126730564,
           -0.086261981,
           -0.056443024,
           -0.038338658,
           -0.03514377,
           -0.038338658,
           -0.045793397,
           -0.052183174000000006,
           -0.04685836,
           -0.039403621,
           -0.027689031,
           -0.009584665,
           0.01171459,
           0.030883919,
           0.04685836,
           0.054313099000000004,
           0.056443024,
           0.059637913,
           0.057507987,
           0.05857295,
           0.06389776400000001,
           0.075612354,
           0.09691160800000001,
           0.116080937,
           0.133120341,
           0.143769968,
           0.14164004300000002,
           0.136315229,
           0.127795527,
           0.12140575099999999,
           0.11714589999999998,
           0.115015974,
           0.11821086300000001,
           0.126730564,
           0.145899894,
           0.16826411100000002,
           0.188498403,
           0.19701810399999997,
           0.19275825300000002,
           0.17997870100000002,
           0.166134185,
           0.156549521,
           0.15228967,
           0.15122470699999999,
           0.150159744,
           0.14164004300000002,
           0.130990415,
           0.11821086300000001,
           0.099041534,
           0.086261981,
           0.072417465,
           0.060702875,
           0.053248135999999995,
           0.052183174000000006,
           0.056443024,
           0.068157614,
           0.090521832,
           0.107561235,
           0.115015974,
           0.12140575099999999,
           0.119275825,
           0.11821086300000001,
           0.11395101199999999,
           0.106496273,
           0.08839190599999999,
           0.06389776400000001,
           0.037273695,
           0.012779553,
           -0.005324814000000001
          ],
          [
           -0.155484558,
           -0.14909478199999998,
           -0.13844515400000001,
           -0.130990415,
           -0.126730564,
           -0.123535676,
           -0.12140575099999999,
           -0.11395101199999999,
           -0.100106496,
           -0.084132055,
           -0.07454739099999999,
           -0.06922257700000001,
           -0.062832801,
           -0.05857295,
           -0.051118211,
           -0.041533546,
           -0.027689031,
           -0.017039403999999998,
           -0.005324814000000001,
           0.008519701999999999,
           0.02342918,
           0.039403621,
           0.054313099000000004,
           0.07454739099999999,
           0.09265175699999999,
           0.10862619800000001,
           0.12247071400000001,
           0.127795527,
           0.12140575099999999,
           0.109691161,
           0.10330138400000001,
           0.10330138400000001,
           0.104366347,
           0.102236422,
           0.09691160800000001,
           0.086261981,
           0.079872204,
           0.077742279,
           0.077742279,
           0.079872204,
           0.080937167,
           0.077742279,
           0.076677316,
           0.07028754,
           0.07028754,
           0.076677316,
           0.084132055,
           0.083067093,
           0.068157614,
           0.043663472,
           0.020234292,
           0.010649627,
           0.013844515,
           0.025559105,
           0.041533546,
           0.052183174000000006,
           0.059637913,
           0.064962726,
           0.073482428,
           0.08945686900000001,
           0.10543131,
           0.12140575099999999,
           0.12886049,
           0.123535676,
           0.11821086300000001,
           0.112886049,
           0.112886049,
           0.110756124,
           0.10862619800000001,
           0.109691161,
           0.112886049,
           0.109691161,
           0.097976571,
           0.08200213,
           0.07454739099999999,
           0.073482428,
           0.078807242,
           0.08519701800000001,
           0.090521832,
           0.08945686900000001,
           0.086261981,
           0.079872204,
           0.077742279,
           0.079872204,
           0.086261981,
           0.09265175699999999,
           0.09265175699999999,
           0.076677316,
           0.053248135999999995,
           0.033013845,
           0.024494143,
           0.027689031,
           0.038338658,
           0.044728435,
           0.050053248,
           0.055378062,
           0.061767838,
           0.072417465,
           0.08200213,
           0.08839190599999999,
           0.097976571,
           0.11395101199999999,
           0.126730564,
           0.135250266,
           0.136315229,
           0.135250266,
           0.127795527,
           0.127795527,
           0.13844515400000001,
           0.144834931,
           0.14164004300000002,
           0.132055378,
           0.119275825,
           0.104366347,
           0.099041534,
           0.09691160800000001,
           0.09265175699999999,
           0.086261981,
           0.072417465,
           0.056443024,
           0.041533546,
           0.028753993999999998,
           0.019169329,
           0.012779553,
           0.008519701999999999,
           0.005324814000000001,
           0.006389776,
           0.007454739,
           0.013844515,
           0.024494143,
           0.036208733,
           0.04685836,
           0.055378062,
           0.07028754,
           0.084132055,
           0.097976571,
           0.104366347,
           0.10330138400000001,
           0.097976571,
           0.09371672,
           0.08839190599999999,
           0.090521832,
           0.094781683,
           0.09691160800000001,
           0.099041534,
           0.09371672,
           0.094781683,
           0.100106496,
           0.10862619800000001,
           0.115015974,
           0.115015974,
           0.107561235,
           0.097976571,
           0.08200213,
           0.06922257700000001,
           0.064962726,
           0.059637913,
           0.056443024,
           0.051118211,
           0.041533546,
           0.03514377,
           0.03514377,
           0.034078807,
           0.029818956,
           0.026624067999999997,
           0.029818956,
           0.03514377,
           0.040468584,
           0.041533546,
           0.036208733,
           0.026624067999999997,
           0.015974441000000002,
           0.005324814000000001,
           -0.003194888,
           -0.012779553,
           -0.021299255,
           -0.025559105,
           -0.026624067999999997,
           -0.022364217000000002,
           -0.017039403999999998,
           -0.014909478,
           -0.022364217000000002,
           -0.028753993999999998,
           -0.03514377,
           -0.034078807,
           -0.030883919,
           -0.030883919,
           -0.040468584,
           -0.051118211,
           -0.051118211,
           -0.041533546,
           -0.026624067999999997,
           -0.010649627,
           -0.004259850999999999,
           -0.006389776,
           -0.018104366,
           -0.034078807,
           -0.044728435,
           -0.04685836,
           -0.043663472
          ]
         ]
        }
       ],
       "layout": {
        "legend": {
         "bgcolor": "#F5F6F9",
         "font": {
          "color": "#4D5663"
         }
        },
        "paper_bgcolor": "#F5F6F9",
        "plot_bgcolor": "#F5F6F9",
        "template": {
         "data": {
          "bar": [
           {
            "error_x": {
             "color": "#2a3f5f"
            },
            "error_y": {
             "color": "#2a3f5f"
            },
            "marker": {
             "line": {
              "color": "#E5ECF6",
              "width": 0.5
             }
            },
            "type": "bar"
           }
          ],
          "barpolar": [
           {
            "marker": {
             "line": {
              "color": "#E5ECF6",
              "width": 0.5
             }
            },
            "type": "barpolar"
           }
          ],
          "carpet": [
           {
            "aaxis": {
             "endlinecolor": "#2a3f5f",
             "gridcolor": "white",
             "linecolor": "white",
             "minorgridcolor": "white",
             "startlinecolor": "#2a3f5f"
            },
            "baxis": {
             "endlinecolor": "#2a3f5f",
             "gridcolor": "white",
             "linecolor": "white",
             "minorgridcolor": "white",
             "startlinecolor": "#2a3f5f"
            },
            "type": "carpet"
           }
          ],
          "choropleth": [
           {
            "colorbar": {
             "outlinewidth": 0,
             "ticks": ""
            },
            "type": "choropleth"
           }
          ],
          "contour": [
           {
            "colorbar": {
             "outlinewidth": 0,
             "ticks": ""
            },
            "colorscale": [
             [
              0,
              "#0d0887"
             ],
             [
              0.1111111111111111,
              "#46039f"
             ],
             [
              0.2222222222222222,
              "#7201a8"
             ],
             [
              0.3333333333333333,
              "#9c179e"
             ],
             [
              0.4444444444444444,
              "#bd3786"
             ],
             [
              0.5555555555555556,
              "#d8576b"
             ],
             [
              0.6666666666666666,
              "#ed7953"
             ],
             [
              0.7777777777777778,
              "#fb9f3a"
             ],
             [
              0.8888888888888888,
              "#fdca26"
             ],
             [
              1,
              "#f0f921"
             ]
            ],
            "type": "contour"
           }
          ],
          "contourcarpet": [
           {
            "colorbar": {
             "outlinewidth": 0,
             "ticks": ""
            },
            "type": "contourcarpet"
           }
          ],
          "heatmap": [
           {
            "colorbar": {
             "outlinewidth": 0,
             "ticks": ""
            },
            "colorscale": [
             [
              0,
              "#0d0887"
             ],
             [
              0.1111111111111111,
              "#46039f"
             ],
             [
              0.2222222222222222,
              "#7201a8"
             ],
             [
              0.3333333333333333,
              "#9c179e"
             ],
             [
              0.4444444444444444,
              "#bd3786"
             ],
             [
              0.5555555555555556,
              "#d8576b"
             ],
             [
              0.6666666666666666,
              "#ed7953"
             ],
             [
              0.7777777777777778,
              "#fb9f3a"
             ],
             [
              0.8888888888888888,
              "#fdca26"
             ],
             [
              1,
              "#f0f921"
             ]
            ],
            "type": "heatmap"
           }
          ],
          "heatmapgl": [
           {
            "colorbar": {
             "outlinewidth": 0,
             "ticks": ""
            },
            "colorscale": [
             [
              0,
              "#0d0887"
             ],
             [
              0.1111111111111111,
              "#46039f"
             ],
             [
              0.2222222222222222,
              "#7201a8"
             ],
             [
              0.3333333333333333,
              "#9c179e"
             ],
             [
              0.4444444444444444,
              "#bd3786"
             ],
             [
              0.5555555555555556,
              "#d8576b"
             ],
             [
              0.6666666666666666,
              "#ed7953"
             ],
             [
              0.7777777777777778,
              "#fb9f3a"
             ],
             [
              0.8888888888888888,
              "#fdca26"
             ],
             [
              1,
              "#f0f921"
             ]
            ],
            "type": "heatmapgl"
           }
          ],
          "histogram": [
           {
            "marker": {
             "colorbar": {
              "outlinewidth": 0,
              "ticks": ""
             }
            },
            "type": "histogram"
           }
          ],
          "histogram2d": [
           {
            "colorbar": {
             "outlinewidth": 0,
             "ticks": ""
            },
            "colorscale": [
             [
              0,
              "#0d0887"
             ],
             [
              0.1111111111111111,
              "#46039f"
             ],
             [
              0.2222222222222222,
              "#7201a8"
             ],
             [
              0.3333333333333333,
              "#9c179e"
             ],
             [
              0.4444444444444444,
              "#bd3786"
             ],
             [
              0.5555555555555556,
              "#d8576b"
             ],
             [
              0.6666666666666666,
              "#ed7953"
             ],
             [
              0.7777777777777778,
              "#fb9f3a"
             ],
             [
              0.8888888888888888,
              "#fdca26"
             ],
             [
              1,
              "#f0f921"
             ]
            ],
            "type": "histogram2d"
           }
          ],
          "histogram2dcontour": [
           {
            "colorbar": {
             "outlinewidth": 0,
             "ticks": ""
            },
            "colorscale": [
             [
              0,
              "#0d0887"
             ],
             [
              0.1111111111111111,
              "#46039f"
             ],
             [
              0.2222222222222222,
              "#7201a8"
             ],
             [
              0.3333333333333333,
              "#9c179e"
             ],
             [
              0.4444444444444444,
              "#bd3786"
             ],
             [
              0.5555555555555556,
              "#d8576b"
             ],
             [
              0.6666666666666666,
              "#ed7953"
             ],
             [
              0.7777777777777778,
              "#fb9f3a"
             ],
             [
              0.8888888888888888,
              "#fdca26"
             ],
             [
              1,
              "#f0f921"
             ]
            ],
            "type": "histogram2dcontour"
           }
          ],
          "mesh3d": [
           {
            "colorbar": {
             "outlinewidth": 0,
             "ticks": ""
            },
            "type": "mesh3d"
           }
          ],
          "parcoords": [
           {
            "line": {
             "colorbar": {
              "outlinewidth": 0,
              "ticks": ""
             }
            },
            "type": "parcoords"
           }
          ],
          "pie": [
           {
            "automargin": true,
            "type": "pie"
           }
          ],
          "scatter": [
           {
            "marker": {
             "colorbar": {
              "outlinewidth": 0,
              "ticks": ""
             }
            },
            "type": "scatter"
           }
          ],
          "scatter3d": [
           {
            "line": {
             "colorbar": {
              "outlinewidth": 0,
              "ticks": ""
             }
            },
            "marker": {
             "colorbar": {
              "outlinewidth": 0,
              "ticks": ""
             }
            },
            "type": "scatter3d"
           }
          ],
          "scattercarpet": [
           {
            "marker": {
             "colorbar": {
              "outlinewidth": 0,
              "ticks": ""
             }
            },
            "type": "scattercarpet"
           }
          ],
          "scattergeo": [
           {
            "marker": {
             "colorbar": {
              "outlinewidth": 0,
              "ticks": ""
             }
            },
            "type": "scattergeo"
           }
          ],
          "scattergl": [
           {
            "marker": {
             "colorbar": {
              "outlinewidth": 0,
              "ticks": ""
             }
            },
            "type": "scattergl"
           }
          ],
          "scattermapbox": [
           {
            "marker": {
             "colorbar": {
              "outlinewidth": 0,
              "ticks": ""
             }
            },
            "type": "scattermapbox"
           }
          ],
          "scatterpolar": [
           {
            "marker": {
             "colorbar": {
              "outlinewidth": 0,
              "ticks": ""
             }
            },
            "type": "scatterpolar"
           }
          ],
          "scatterpolargl": [
           {
            "marker": {
             "colorbar": {
              "outlinewidth": 0,
              "ticks": ""
             }
            },
            "type": "scatterpolargl"
           }
          ],
          "scatterternary": [
           {
            "marker": {
             "colorbar": {
              "outlinewidth": 0,
              "ticks": ""
             }
            },
            "type": "scatterternary"
           }
          ],
          "surface": [
           {
            "colorbar": {
             "outlinewidth": 0,
             "ticks": ""
            },
            "colorscale": [
             [
              0,
              "#0d0887"
             ],
             [
              0.1111111111111111,
              "#46039f"
             ],
             [
              0.2222222222222222,
              "#7201a8"
             ],
             [
              0.3333333333333333,
              "#9c179e"
             ],
             [
              0.4444444444444444,
              "#bd3786"
             ],
             [
              0.5555555555555556,
              "#d8576b"
             ],
             [
              0.6666666666666666,
              "#ed7953"
             ],
             [
              0.7777777777777778,
              "#fb9f3a"
             ],
             [
              0.8888888888888888,
              "#fdca26"
             ],
             [
              1,
              "#f0f921"
             ]
            ],
            "type": "surface"
           }
          ],
          "table": [
           {
            "cells": {
             "fill": {
              "color": "#EBF0F8"
             },
             "line": {
              "color": "white"
             }
            },
            "header": {
             "fill": {
              "color": "#C8D4E3"
             },
             "line": {
              "color": "white"
             }
            },
            "type": "table"
           }
          ]
         },
         "layout": {
          "annotationdefaults": {
           "arrowcolor": "#2a3f5f",
           "arrowhead": 0,
           "arrowwidth": 1
          },
          "coloraxis": {
           "colorbar": {
            "outlinewidth": 0,
            "ticks": ""
           }
          },
          "colorscale": {
           "diverging": [
            [
             0,
             "#8e0152"
            ],
            [
             0.1,
             "#c51b7d"
            ],
            [
             0.2,
             "#de77ae"
            ],
            [
             0.3,
             "#f1b6da"
            ],
            [
             0.4,
             "#fde0ef"
            ],
            [
             0.5,
             "#f7f7f7"
            ],
            [
             0.6,
             "#e6f5d0"
            ],
            [
             0.7,
             "#b8e186"
            ],
            [
             0.8,
             "#7fbc41"
            ],
            [
             0.9,
             "#4d9221"
            ],
            [
             1,
             "#276419"
            ]
           ],
           "sequential": [
            [
             0,
             "#0d0887"
            ],
            [
             0.1111111111111111,
             "#46039f"
            ],
            [
             0.2222222222222222,
             "#7201a8"
            ],
            [
             0.3333333333333333,
             "#9c179e"
            ],
            [
             0.4444444444444444,
             "#bd3786"
            ],
            [
             0.5555555555555556,
             "#d8576b"
            ],
            [
             0.6666666666666666,
             "#ed7953"
            ],
            [
             0.7777777777777778,
             "#fb9f3a"
            ],
            [
             0.8888888888888888,
             "#fdca26"
            ],
            [
             1,
             "#f0f921"
            ]
           ],
           "sequentialminus": [
            [
             0,
             "#0d0887"
            ],
            [
             0.1111111111111111,
             "#46039f"
            ],
            [
             0.2222222222222222,
             "#7201a8"
            ],
            [
             0.3333333333333333,
             "#9c179e"
            ],
            [
             0.4444444444444444,
             "#bd3786"
            ],
            [
             0.5555555555555556,
             "#d8576b"
            ],
            [
             0.6666666666666666,
             "#ed7953"
            ],
            [
             0.7777777777777778,
             "#fb9f3a"
            ],
            [
             0.8888888888888888,
             "#fdca26"
            ],
            [
             1,
             "#f0f921"
            ]
           ]
          },
          "colorway": [
           "#636efa",
           "#EF553B",
           "#00cc96",
           "#ab63fa",
           "#FFA15A",
           "#19d3f3",
           "#FF6692",
           "#B6E880",
           "#FF97FF",
           "#FECB52"
          ],
          "font": {
           "color": "#2a3f5f"
          },
          "geo": {
           "bgcolor": "white",
           "lakecolor": "white",
           "landcolor": "#E5ECF6",
           "showlakes": true,
           "showland": true,
           "subunitcolor": "white"
          },
          "hoverlabel": {
           "align": "left"
          },
          "hovermode": "closest",
          "mapbox": {
           "style": "light"
          },
          "paper_bgcolor": "white",
          "plot_bgcolor": "#E5ECF6",
          "polar": {
           "angularaxis": {
            "gridcolor": "white",
            "linecolor": "white",
            "ticks": ""
           },
           "bgcolor": "#E5ECF6",
           "radialaxis": {
            "gridcolor": "white",
            "linecolor": "white",
            "ticks": ""
           }
          },
          "scene": {
           "xaxis": {
            "backgroundcolor": "#E5ECF6",
            "gridcolor": "white",
            "gridwidth": 2,
            "linecolor": "white",
            "showbackground": true,
            "ticks": "",
            "zerolinecolor": "white"
           },
           "yaxis": {
            "backgroundcolor": "#E5ECF6",
            "gridcolor": "white",
            "gridwidth": 2,
            "linecolor": "white",
            "showbackground": true,
            "ticks": "",
            "zerolinecolor": "white"
           },
           "zaxis": {
            "backgroundcolor": "#E5ECF6",
            "gridcolor": "white",
            "gridwidth": 2,
            "linecolor": "white",
            "showbackground": true,
            "ticks": "",
            "zerolinecolor": "white"
           }
          },
          "shapedefaults": {
           "line": {
            "color": "#2a3f5f"
           }
          },
          "ternary": {
           "aaxis": {
            "gridcolor": "white",
            "linecolor": "white",
            "ticks": ""
           },
           "baxis": {
            "gridcolor": "white",
            "linecolor": "white",
            "ticks": ""
           },
           "bgcolor": "#E5ECF6",
           "caxis": {
            "gridcolor": "white",
            "linecolor": "white",
            "ticks": ""
           }
          },
          "title": {
           "x": 0.05
          },
          "xaxis": {
           "automargin": true,
           "gridcolor": "white",
           "linecolor": "white",
           "ticks": "",
           "title": {
            "standoff": 15
           },
           "zerolinecolor": "white",
           "zerolinewidth": 2
          },
          "yaxis": {
           "automargin": true,
           "gridcolor": "white",
           "linecolor": "white",
           "ticks": "",
           "title": {
            "standoff": 15
           },
           "zerolinecolor": "white",
           "zerolinewidth": 2
          }
         }
        },
        "title": {
         "font": {
          "color": "#4D5663"
         }
        },
        "xaxis": {
         "gridcolor": "#E1E5ED",
         "showgrid": true,
         "tickfont": {
          "color": "#4D5663"
         },
         "title": {
          "font": {
           "color": "#4D5663"
          },
          "text": ""
         },
         "zerolinecolor": "#E1E5ED"
        },
        "yaxis": {
         "gridcolor": "#E1E5ED",
         "showgrid": true,
         "tickfont": {
          "color": "#4D5663"
         },
         "title": {
          "font": {
           "color": "#4D5663"
          },
          "text": ""
         },
         "zerolinecolor": "#E1E5ED"
        }
       }
      },
      "text/html": [
       "<div>\n",
       "        \n",
       "        \n",
       "            <div id=\"a39dfd7a-2921-4a95-bb4d-9076d17f8964\" class=\"plotly-graph-div\" style=\"height:525px; width:100%;\"></div>\n",
       "            <script type=\"text/javascript\">\n",
       "                require([\"plotly\"], function(Plotly) {\n",
       "                    window.PLOTLYENV=window.PLOTLYENV || {};\n",
       "                    window.PLOTLYENV.BASE_URL='https://plot.ly';\n",
       "                    \n",
       "                if (document.getElementById(\"a39dfd7a-2921-4a95-bb4d-9076d17f8964\")) {\n",
       "                    Plotly.newPlot(\n",
       "                        'a39dfd7a-2921-4a95-bb4d-9076d17f8964',\n",
       "                        [{\"colorscale\": [[0.0, \"rgb(165,0,38)\"], [0.1, \"rgb(215,48,39)\"], [0.2, \"rgb(244,109,67)\"], [0.3, \"rgb(253,174,97)\"], [0.4, \"rgb(254,224,144)\"], [0.5, \"rgb(255,255,191)\"], [0.6, \"rgb(224,243,248)\"], [0.7, \"rgb(171,217,233)\"], [0.8, \"rgb(116,173,209)\"], [0.9, \"rgb(69,117,180)\"], [1.0, \"rgb(49,54,149)\"]], \"type\": \"surface\", \"x\": [0, 1, 2, 3, 4, 5, 6, 7, 8, 9, 10, 11, 12, 13, 14, 15, 16, 17, 18, 19, 20, 21, 22, 23, 24, 25, 26, 27, 28, 29, 30, 31, 32, 33, 34, 35, 36, 37, 38, 39, 40, 41, 42, 43, 44, 45, 46, 47, 48, 49, 50, 51, 52, 53, 54, 55, 56, 57, 58, 59, 60, 61, 62, 63, 64, 65, 66, 67, 68, 69, 70, 71, 72, 73, 74, 75, 76, 77, 78, 79, 80, 81, 82, 83, 84, 85, 86, 87, 88, 89, 90, 91, 92, 93, 94, 95, 96, 97, 98, 99, 100, 101, 102, 103, 104, 105, 106, 107, 108, 109, 110, 111, 112, 113, 114, 115, 116, 117, 118, 119, 120, 121, 122, 123, 124, 125, 126, 127, 128, 129, 130, 131, 132, 133, 134, 135, 136, 137, 138, 139, 140, 141, 142, 143, 144, 145, 146, 147, 148, 149, 150, 151, 152, 153, 154, 155, 156, 157, 158, 159, 160, 161, 162, 163, 164, 165, 166, 167, 168, 169, 170, 171, 172, 173, 174, 175, 176, 177, 178, 179, 180, 181, 182, 183, 184, 185, 186, 187, 188, 189, 190, 191, 192, 193, 194, 195, 196, 197, 198, 199], \"y\": [\"Gyro(z)\", \"Gyro(x)\", \"Gyro(y)\"], \"z\": [[0.22257721, 0.225772098, 0.224707135, 0.225772098, 0.227902023, 0.224707135, 0.21725239600000001, 0.201277955, 0.184238552, 0.18104366300000002, 0.19382321600000002, 0.216187433, 0.224707135, 0.212992545, 0.176783813, 0.12247071400000001, 0.073482428, 0.041533546, 0.033013845, 0.053248135999999995, 0.099041534, 0.155484558, 0.212992545, 0.265175719, 0.305644302, 0.323748669, 0.322683706, 0.308839191, 0.290734824, 0.266240682, 0.22257721, 0.169329073, 0.107561235, 0.054313099000000004, 0.018104366, 0.010649627, 0.028753993999999998, 0.064962726, 0.09265175699999999, 0.091586794, 0.062832801, 0.034078807, 0.021299255, 0.029818956, 0.040468584, 0.029818956, -0.020234292, -0.10330138400000001, -0.200212993, -0.289669862, -0.358892439, -0.39723109700000003, -0.41533546299999996, -0.405750799, -0.37806176799999996, -0.34291799799999995, -0.30138445199999997, -0.258785942, -0.211927583, -0.16400426, -0.116080937, -0.071352503, -0.041533546, -0.034078807, -0.052183174000000006, -0.086261981, -0.11714589999999998, -0.126730564, -0.112886049, -0.112886049, -0.143769968, -0.20553780600000002, -0.265175719, -0.284345048, -0.266240682, -0.219382322, -0.160809372, -0.111821086, -0.091586794, -0.102236422, -0.112886049, -0.102236422, -0.051118211, 0.024494143, 0.090521832, 0.109691161, 0.057507987, -0.04259850900000001, -0.156549521, -0.253461129, -0.303514377, -0.30244941399999997, -0.263045793, -0.207667732, -0.16719914800000002, -0.154419595, -0.159744409, -0.159744409, -0.136315229, -0.084132055, -0.025559105, 0.009584665, 0.017039403999999998, 0.005324814000000001, -0.001064963, 0.006389776, 0.02342918, 0.034078807, 0.024494143, 0.005324814000000001, -0.003194888, 0.007454739, 0.019169329, 0.026624067999999997, 0.021299255, 0.004259850999999999, -0.012779553, -0.027689031, -0.039403621, -0.051118211, -0.061767838, -0.08519701800000001, -0.12247071400000001, -0.161874334, -0.189563365, -0.188498403, -0.157614483, -0.099041534, -0.031948882000000005, 0.021299255, 0.044728435, 0.041533546, 0.033013845, 0.033013845, 0.056443024, 0.09265175699999999, 0.115015974, 0.10543131, 0.06922257700000001, 0.018104366, -0.025559105, -0.043663472, -0.031948882000000005, 0.001064963, 0.036208733, 0.059637913, 0.066027689, 0.061767838, 0.07028754, 0.09691160800000001, 0.127795527, 0.146964856, 0.14164004300000002, 0.11395101199999999, 0.071352503, 0.034078807, 0.013844515, 0.019169329, 0.043663472, 0.064962726, 0.059637913, 0.024494143, -0.028753993999999998, -0.066027689, -0.061767838, -0.021299255, 0.043663472, 0.10330138400000001, 0.136315229, 0.139510117, 0.11395101199999999, 0.07028754, 0.027689031, -0.005324814000000001, -0.015974441000000002, -0.004259850999999999, 0.014909478, 0.033013845, 0.04259850900000001, 0.043663472, 0.053248135999999995, 0.086261981, 0.132055378, 0.172523962, 0.18104366300000002, 0.148029819, 0.094781683, 0.044728435, 0.02342918, 0.043663472, 0.097976571, 0.169329073, 0.22257721, 0.235356763, 0.215122471, 0.183173589, 0.157614483, 0.143769968, 0.144834931, 0.150159744], [-0.072417465, -0.064962726, -0.07028754, -0.077742279, -0.077742279, -0.061767838, -0.028753993999999998, 0.010649627, 0.048988285, 0.080937167, 0.097976571, 0.10330138400000001, 0.097976571, 0.091586794, 0.083067093, 0.077742279, 0.073482428, 0.067092652, 0.064962726, 0.062832801, 0.061767838, 0.060702875, 0.05857295, 0.055378062, 0.055378062, 0.062832801, 0.07454739099999999, 0.08519701800000001, 0.08519701800000001, 0.072417465, 0.047923323, 0.02342918, 0.002129925, -0.007454739, -0.019169329, -0.030883919, -0.039403621, -0.044728435, -0.034078807, -0.008519701999999999, 0.024494143, 0.059637913, 0.08200213, 0.09265175699999999, 0.094781683, 0.090521832, 0.090521832, 0.09371672, 0.097976571, 0.110756124, 0.127795527, 0.145899894, 0.160809372, 0.16506922300000001, 0.157614483, 0.148029819, 0.13844515400000001, 0.129925453, 0.124600639, 0.12140575099999999, 0.119275825, 0.124600639, 0.13738019199999998, 0.157614483, 0.17891373800000002, 0.19382321600000002, 0.190628328, 0.17145899899999997, 0.14057508, 0.111821086, 0.09265175699999999, 0.095846645, 0.12247071400000001, 0.161874334, 0.198083067, 0.21725239600000001, 0.220447284, 0.208732694, 0.19169329100000002, 0.17145899899999997, 0.146964856, 0.12247071400000001, 0.091586794, 0.07028754, 0.056443024, 0.050053248, 0.040468584, 0.031948882000000005, 0.015974441000000002, -0.002129925, -0.019169329, -0.034078807, -0.039403621, -0.040468584, -0.030883919, -0.014909478, 0.003194888, 0.012779553, 0.007454739, -0.005324814000000001, -0.021299255, -0.030883919, -0.030883919, -0.028753993999999998, -0.028753993999999998, -0.033013845, -0.039403621, -0.057507987, -0.094781683, -0.136315229, -0.176783813, -0.19382321600000002, -0.18530351399999997, -0.161874334, -0.135250266, -0.119275825, -0.11821086300000001, -0.130990415, -0.148029819, -0.160809372, -0.169329073, -0.16506922300000001, -0.154419595, -0.144834931, -0.142705005, -0.150159744, -0.17358892399999998, -0.198083067, -0.208732694, -0.200212993, -0.16826411100000002, -0.126730564, -0.086261981, -0.056443024, -0.038338658, -0.03514377, -0.038338658, -0.045793397, -0.052183174000000006, -0.04685836, -0.039403621, -0.027689031, -0.009584665, 0.01171459, 0.030883919, 0.04685836, 0.054313099000000004, 0.056443024, 0.059637913, 0.057507987, 0.05857295, 0.06389776400000001, 0.075612354, 0.09691160800000001, 0.116080937, 0.133120341, 0.143769968, 0.14164004300000002, 0.136315229, 0.127795527, 0.12140575099999999, 0.11714589999999998, 0.115015974, 0.11821086300000001, 0.126730564, 0.145899894, 0.16826411100000002, 0.188498403, 0.19701810399999997, 0.19275825300000002, 0.17997870100000002, 0.166134185, 0.156549521, 0.15228967, 0.15122470699999999, 0.150159744, 0.14164004300000002, 0.130990415, 0.11821086300000001, 0.099041534, 0.086261981, 0.072417465, 0.060702875, 0.053248135999999995, 0.052183174000000006, 0.056443024, 0.068157614, 0.090521832, 0.107561235, 0.115015974, 0.12140575099999999, 0.119275825, 0.11821086300000001, 0.11395101199999999, 0.106496273, 0.08839190599999999, 0.06389776400000001, 0.037273695, 0.012779553, -0.005324814000000001], [-0.155484558, -0.14909478199999998, -0.13844515400000001, -0.130990415, -0.126730564, -0.123535676, -0.12140575099999999, -0.11395101199999999, -0.100106496, -0.084132055, -0.07454739099999999, -0.06922257700000001, -0.062832801, -0.05857295, -0.051118211, -0.041533546, -0.027689031, -0.017039403999999998, -0.005324814000000001, 0.008519701999999999, 0.02342918, 0.039403621, 0.054313099000000004, 0.07454739099999999, 0.09265175699999999, 0.10862619800000001, 0.12247071400000001, 0.127795527, 0.12140575099999999, 0.109691161, 0.10330138400000001, 0.10330138400000001, 0.104366347, 0.102236422, 0.09691160800000001, 0.086261981, 0.079872204, 0.077742279, 0.077742279, 0.079872204, 0.080937167, 0.077742279, 0.076677316, 0.07028754, 0.07028754, 0.076677316, 0.084132055, 0.083067093, 0.068157614, 0.043663472, 0.020234292, 0.010649627, 0.013844515, 0.025559105, 0.041533546, 0.052183174000000006, 0.059637913, 0.064962726, 0.073482428, 0.08945686900000001, 0.10543131, 0.12140575099999999, 0.12886049, 0.123535676, 0.11821086300000001, 0.112886049, 0.112886049, 0.110756124, 0.10862619800000001, 0.109691161, 0.112886049, 0.109691161, 0.097976571, 0.08200213, 0.07454739099999999, 0.073482428, 0.078807242, 0.08519701800000001, 0.090521832, 0.08945686900000001, 0.086261981, 0.079872204, 0.077742279, 0.079872204, 0.086261981, 0.09265175699999999, 0.09265175699999999, 0.076677316, 0.053248135999999995, 0.033013845, 0.024494143, 0.027689031, 0.038338658, 0.044728435, 0.050053248, 0.055378062, 0.061767838, 0.072417465, 0.08200213, 0.08839190599999999, 0.097976571, 0.11395101199999999, 0.126730564, 0.135250266, 0.136315229, 0.135250266, 0.127795527, 0.127795527, 0.13844515400000001, 0.144834931, 0.14164004300000002, 0.132055378, 0.119275825, 0.104366347, 0.099041534, 0.09691160800000001, 0.09265175699999999, 0.086261981, 0.072417465, 0.056443024, 0.041533546, 0.028753993999999998, 0.019169329, 0.012779553, 0.008519701999999999, 0.005324814000000001, 0.006389776, 0.007454739, 0.013844515, 0.024494143, 0.036208733, 0.04685836, 0.055378062, 0.07028754, 0.084132055, 0.097976571, 0.104366347, 0.10330138400000001, 0.097976571, 0.09371672, 0.08839190599999999, 0.090521832, 0.094781683, 0.09691160800000001, 0.099041534, 0.09371672, 0.094781683, 0.100106496, 0.10862619800000001, 0.115015974, 0.115015974, 0.107561235, 0.097976571, 0.08200213, 0.06922257700000001, 0.064962726, 0.059637913, 0.056443024, 0.051118211, 0.041533546, 0.03514377, 0.03514377, 0.034078807, 0.029818956, 0.026624067999999997, 0.029818956, 0.03514377, 0.040468584, 0.041533546, 0.036208733, 0.026624067999999997, 0.015974441000000002, 0.005324814000000001, -0.003194888, -0.012779553, -0.021299255, -0.025559105, -0.026624067999999997, -0.022364217000000002, -0.017039403999999998, -0.014909478, -0.022364217000000002, -0.028753993999999998, -0.03514377, -0.034078807, -0.030883919, -0.030883919, -0.040468584, -0.051118211, -0.051118211, -0.041533546, -0.026624067999999997, -0.010649627, -0.004259850999999999, -0.006389776, -0.018104366, -0.034078807, -0.044728435, -0.04685836, -0.043663472]]}],\n",
       "                        {\"legend\": {\"bgcolor\": \"#F5F6F9\", \"font\": {\"color\": \"#4D5663\"}}, \"paper_bgcolor\": \"#F5F6F9\", \"plot_bgcolor\": \"#F5F6F9\", \"template\": {\"data\": {\"bar\": [{\"error_x\": {\"color\": \"#2a3f5f\"}, \"error_y\": {\"color\": \"#2a3f5f\"}, \"marker\": {\"line\": {\"color\": \"#E5ECF6\", \"width\": 0.5}}, \"type\": \"bar\"}], \"barpolar\": [{\"marker\": {\"line\": {\"color\": \"#E5ECF6\", \"width\": 0.5}}, \"type\": \"barpolar\"}], \"carpet\": [{\"aaxis\": {\"endlinecolor\": \"#2a3f5f\", \"gridcolor\": \"white\", \"linecolor\": \"white\", \"minorgridcolor\": \"white\", \"startlinecolor\": \"#2a3f5f\"}, \"baxis\": {\"endlinecolor\": \"#2a3f5f\", \"gridcolor\": \"white\", \"linecolor\": \"white\", \"minorgridcolor\": \"white\", \"startlinecolor\": \"#2a3f5f\"}, \"type\": \"carpet\"}], \"choropleth\": [{\"colorbar\": {\"outlinewidth\": 0, \"ticks\": \"\"}, \"type\": \"choropleth\"}], \"contour\": [{\"colorbar\": {\"outlinewidth\": 0, \"ticks\": \"\"}, \"colorscale\": [[0.0, \"#0d0887\"], [0.1111111111111111, \"#46039f\"], [0.2222222222222222, \"#7201a8\"], [0.3333333333333333, \"#9c179e\"], [0.4444444444444444, \"#bd3786\"], [0.5555555555555556, \"#d8576b\"], [0.6666666666666666, \"#ed7953\"], [0.7777777777777778, \"#fb9f3a\"], [0.8888888888888888, \"#fdca26\"], [1.0, \"#f0f921\"]], \"type\": \"contour\"}], \"contourcarpet\": [{\"colorbar\": {\"outlinewidth\": 0, \"ticks\": \"\"}, \"type\": \"contourcarpet\"}], \"heatmap\": [{\"colorbar\": {\"outlinewidth\": 0, \"ticks\": \"\"}, \"colorscale\": [[0.0, \"#0d0887\"], [0.1111111111111111, \"#46039f\"], [0.2222222222222222, \"#7201a8\"], [0.3333333333333333, \"#9c179e\"], [0.4444444444444444, \"#bd3786\"], [0.5555555555555556, \"#d8576b\"], [0.6666666666666666, \"#ed7953\"], [0.7777777777777778, \"#fb9f3a\"], [0.8888888888888888, \"#fdca26\"], [1.0, \"#f0f921\"]], \"type\": \"heatmap\"}], \"heatmapgl\": [{\"colorbar\": {\"outlinewidth\": 0, \"ticks\": \"\"}, \"colorscale\": [[0.0, \"#0d0887\"], [0.1111111111111111, \"#46039f\"], [0.2222222222222222, \"#7201a8\"], [0.3333333333333333, \"#9c179e\"], [0.4444444444444444, \"#bd3786\"], [0.5555555555555556, \"#d8576b\"], [0.6666666666666666, \"#ed7953\"], [0.7777777777777778, \"#fb9f3a\"], [0.8888888888888888, \"#fdca26\"], [1.0, \"#f0f921\"]], \"type\": \"heatmapgl\"}], \"histogram\": [{\"marker\": {\"colorbar\": {\"outlinewidth\": 0, \"ticks\": \"\"}}, \"type\": \"histogram\"}], \"histogram2d\": [{\"colorbar\": {\"outlinewidth\": 0, \"ticks\": \"\"}, \"colorscale\": [[0.0, \"#0d0887\"], [0.1111111111111111, \"#46039f\"], [0.2222222222222222, \"#7201a8\"], [0.3333333333333333, \"#9c179e\"], [0.4444444444444444, \"#bd3786\"], [0.5555555555555556, \"#d8576b\"], [0.6666666666666666, \"#ed7953\"], [0.7777777777777778, \"#fb9f3a\"], [0.8888888888888888, \"#fdca26\"], [1.0, \"#f0f921\"]], \"type\": \"histogram2d\"}], \"histogram2dcontour\": [{\"colorbar\": {\"outlinewidth\": 0, \"ticks\": \"\"}, \"colorscale\": [[0.0, \"#0d0887\"], [0.1111111111111111, \"#46039f\"], [0.2222222222222222, \"#7201a8\"], [0.3333333333333333, \"#9c179e\"], [0.4444444444444444, \"#bd3786\"], [0.5555555555555556, \"#d8576b\"], [0.6666666666666666, \"#ed7953\"], [0.7777777777777778, \"#fb9f3a\"], [0.8888888888888888, \"#fdca26\"], [1.0, \"#f0f921\"]], \"type\": \"histogram2dcontour\"}], \"mesh3d\": [{\"colorbar\": {\"outlinewidth\": 0, \"ticks\": \"\"}, \"type\": \"mesh3d\"}], \"parcoords\": [{\"line\": {\"colorbar\": {\"outlinewidth\": 0, \"ticks\": \"\"}}, \"type\": \"parcoords\"}], \"pie\": [{\"automargin\": true, \"type\": \"pie\"}], \"scatter\": [{\"marker\": {\"colorbar\": {\"outlinewidth\": 0, \"ticks\": \"\"}}, \"type\": \"scatter\"}], \"scatter3d\": [{\"line\": {\"colorbar\": {\"outlinewidth\": 0, \"ticks\": \"\"}}, \"marker\": {\"colorbar\": {\"outlinewidth\": 0, \"ticks\": \"\"}}, \"type\": \"scatter3d\"}], \"scattercarpet\": [{\"marker\": {\"colorbar\": {\"outlinewidth\": 0, \"ticks\": \"\"}}, \"type\": \"scattercarpet\"}], \"scattergeo\": [{\"marker\": {\"colorbar\": {\"outlinewidth\": 0, \"ticks\": \"\"}}, \"type\": \"scattergeo\"}], \"scattergl\": [{\"marker\": {\"colorbar\": {\"outlinewidth\": 0, \"ticks\": \"\"}}, \"type\": \"scattergl\"}], \"scattermapbox\": [{\"marker\": {\"colorbar\": {\"outlinewidth\": 0, \"ticks\": \"\"}}, \"type\": \"scattermapbox\"}], \"scatterpolar\": [{\"marker\": {\"colorbar\": {\"outlinewidth\": 0, \"ticks\": \"\"}}, \"type\": \"scatterpolar\"}], \"scatterpolargl\": [{\"marker\": {\"colorbar\": {\"outlinewidth\": 0, \"ticks\": \"\"}}, \"type\": \"scatterpolargl\"}], \"scatterternary\": [{\"marker\": {\"colorbar\": {\"outlinewidth\": 0, \"ticks\": \"\"}}, \"type\": \"scatterternary\"}], \"surface\": [{\"colorbar\": {\"outlinewidth\": 0, \"ticks\": \"\"}, \"colorscale\": [[0.0, \"#0d0887\"], [0.1111111111111111, \"#46039f\"], [0.2222222222222222, \"#7201a8\"], [0.3333333333333333, \"#9c179e\"], [0.4444444444444444, \"#bd3786\"], [0.5555555555555556, \"#d8576b\"], [0.6666666666666666, \"#ed7953\"], [0.7777777777777778, \"#fb9f3a\"], [0.8888888888888888, \"#fdca26\"], [1.0, \"#f0f921\"]], \"type\": \"surface\"}], \"table\": [{\"cells\": {\"fill\": {\"color\": \"#EBF0F8\"}, \"line\": {\"color\": \"white\"}}, \"header\": {\"fill\": {\"color\": \"#C8D4E3\"}, \"line\": {\"color\": \"white\"}}, \"type\": \"table\"}]}, \"layout\": {\"annotationdefaults\": {\"arrowcolor\": \"#2a3f5f\", \"arrowhead\": 0, \"arrowwidth\": 1}, \"coloraxis\": {\"colorbar\": {\"outlinewidth\": 0, \"ticks\": \"\"}}, \"colorscale\": {\"diverging\": [[0, \"#8e0152\"], [0.1, \"#c51b7d\"], [0.2, \"#de77ae\"], [0.3, \"#f1b6da\"], [0.4, \"#fde0ef\"], [0.5, \"#f7f7f7\"], [0.6, \"#e6f5d0\"], [0.7, \"#b8e186\"], [0.8, \"#7fbc41\"], [0.9, \"#4d9221\"], [1, \"#276419\"]], \"sequential\": [[0.0, \"#0d0887\"], [0.1111111111111111, \"#46039f\"], [0.2222222222222222, \"#7201a8\"], [0.3333333333333333, \"#9c179e\"], [0.4444444444444444, \"#bd3786\"], [0.5555555555555556, \"#d8576b\"], [0.6666666666666666, \"#ed7953\"], [0.7777777777777778, \"#fb9f3a\"], [0.8888888888888888, \"#fdca26\"], [1.0, \"#f0f921\"]], \"sequentialminus\": [[0.0, \"#0d0887\"], [0.1111111111111111, \"#46039f\"], [0.2222222222222222, \"#7201a8\"], [0.3333333333333333, \"#9c179e\"], [0.4444444444444444, \"#bd3786\"], [0.5555555555555556, \"#d8576b\"], [0.6666666666666666, \"#ed7953\"], [0.7777777777777778, \"#fb9f3a\"], [0.8888888888888888, \"#fdca26\"], [1.0, \"#f0f921\"]]}, \"colorway\": [\"#636efa\", \"#EF553B\", \"#00cc96\", \"#ab63fa\", \"#FFA15A\", \"#19d3f3\", \"#FF6692\", \"#B6E880\", \"#FF97FF\", \"#FECB52\"], \"font\": {\"color\": \"#2a3f5f\"}, \"geo\": {\"bgcolor\": \"white\", \"lakecolor\": \"white\", \"landcolor\": \"#E5ECF6\", \"showlakes\": true, \"showland\": true, \"subunitcolor\": \"white\"}, \"hoverlabel\": {\"align\": \"left\"}, \"hovermode\": \"closest\", \"mapbox\": {\"style\": \"light\"}, \"paper_bgcolor\": \"white\", \"plot_bgcolor\": \"#E5ECF6\", \"polar\": {\"angularaxis\": {\"gridcolor\": \"white\", \"linecolor\": \"white\", \"ticks\": \"\"}, \"bgcolor\": \"#E5ECF6\", \"radialaxis\": {\"gridcolor\": \"white\", \"linecolor\": \"white\", \"ticks\": \"\"}}, \"scene\": {\"xaxis\": {\"backgroundcolor\": \"#E5ECF6\", \"gridcolor\": \"white\", \"gridwidth\": 2, \"linecolor\": \"white\", \"showbackground\": true, \"ticks\": \"\", \"zerolinecolor\": \"white\"}, \"yaxis\": {\"backgroundcolor\": \"#E5ECF6\", \"gridcolor\": \"white\", \"gridwidth\": 2, \"linecolor\": \"white\", \"showbackground\": true, \"ticks\": \"\", \"zerolinecolor\": \"white\"}, \"zaxis\": {\"backgroundcolor\": \"#E5ECF6\", \"gridcolor\": \"white\", \"gridwidth\": 2, \"linecolor\": \"white\", \"showbackground\": true, \"ticks\": \"\", \"zerolinecolor\": \"white\"}}, \"shapedefaults\": {\"line\": {\"color\": \"#2a3f5f\"}}, \"ternary\": {\"aaxis\": {\"gridcolor\": \"white\", \"linecolor\": \"white\", \"ticks\": \"\"}, \"baxis\": {\"gridcolor\": \"white\", \"linecolor\": \"white\", \"ticks\": \"\"}, \"bgcolor\": \"#E5ECF6\", \"caxis\": {\"gridcolor\": \"white\", \"linecolor\": \"white\", \"ticks\": \"\"}}, \"title\": {\"x\": 0.05}, \"xaxis\": {\"automargin\": true, \"gridcolor\": \"white\", \"linecolor\": \"white\", \"ticks\": \"\", \"title\": {\"standoff\": 15}, \"zerolinecolor\": \"white\", \"zerolinewidth\": 2}, \"yaxis\": {\"automargin\": true, \"gridcolor\": \"white\", \"linecolor\": \"white\", \"ticks\": \"\", \"title\": {\"standoff\": 15}, \"zerolinecolor\": \"white\", \"zerolinewidth\": 2}}}, \"title\": {\"font\": {\"color\": \"#4D5663\"}}, \"xaxis\": {\"gridcolor\": \"#E1E5ED\", \"showgrid\": true, \"tickfont\": {\"color\": \"#4D5663\"}, \"title\": {\"font\": {\"color\": \"#4D5663\"}, \"text\": \"\"}, \"zerolinecolor\": \"#E1E5ED\"}, \"yaxis\": {\"gridcolor\": \"#E1E5ED\", \"showgrid\": true, \"tickfont\": {\"color\": \"#4D5663\"}, \"title\": {\"font\": {\"color\": \"#4D5663\"}, \"text\": \"\"}, \"zerolinecolor\": \"#E1E5ED\"}},\n",
       "                        {\"showLink\": true, \"linkText\": \"Export to plot.ly\", \"plotlyServerURL\": \"https://plot.ly\", \"responsive\": true}\n",
       "                    ).then(function(){\n",
       "                            \n",
       "var gd = document.getElementById('a39dfd7a-2921-4a95-bb4d-9076d17f8964');\n",
       "var x = new MutationObserver(function (mutations, observer) {{\n",
       "        var display = window.getComputedStyle(gd).display;\n",
       "        if (!display || display === 'none') {{\n",
       "            console.log([gd, 'removed!']);\n",
       "            Plotly.purge(gd);\n",
       "            observer.disconnect();\n",
       "        }}\n",
       "}});\n",
       "\n",
       "// Listen for the removal of the full notebook cells\n",
       "var notebookContainer = gd.closest('#notebook-container');\n",
       "if (notebookContainer) {{\n",
       "    x.observe(notebookContainer, {childList: true});\n",
       "}}\n",
       "\n",
       "// Listen for the clearing of the current output cell\n",
       "var outputEl = gd.closest('.output');\n",
       "if (outputEl) {{\n",
       "    x.observe(outputEl, {childList: true});\n",
       "}}\n",
       "\n",
       "                        })\n",
       "                };\n",
       "                });\n",
       "            </script>\n",
       "        </div>"
      ]
     },
     "metadata": {},
     "output_type": "display_data"
    }
   ],
   "source": [
    "#This is the plot that shows the activities that took place.\n",
    "Gyro1.iplot(kind='surface', colorscale='rdylbu')"
   ]
  },
  {
   "cell_type": "markdown",
   "metadata": {},
   "source": [
    "From this surface plot above, we could see clearly that there is less of smooth ride. There was so much displacement while riding the bicycle. Sometimes the displacement is very high and sometimes very low depending on the force. Very difficult to talk about beacuse there are lots of chaos. Let's see the result we will derive from our prediction."
   ]
  },
  {
   "cell_type": "markdown",
   "metadata": {},
   "source": [
    " ## Datas Prediction"
   ]
  },
  {
   "cell_type": "markdown",
   "metadata": {},
   "source": [
    "What we are doing here is to use KMeans algorithms to predict our result. We shouldn't forget the reason why we want to use KMeans algorithms. The dataset we are using is unsupervised dataset, no categorical column, so our assignment is to use Kmeans method to find the optimal clutering that would enable us to identify different activies that took place."
   ]
  },
  {
   "cell_type": "code",
   "execution_count": 24,
   "metadata": {},
   "outputs": [],
   "source": [
    "# for the KMeans method, two colums would be used. Here we plot Acce(x) againt Gyro(x).\n",
    "#We are doing this to bring the same activies together and seperate them from others.\n",
    "X1 = df[['Acce(x)', 'Gyro(z)']]\n",
    "X= np.array(X1.head(500))"
   ]
  },
  {
   "cell_type": "code",
   "execution_count": 25,
   "metadata": {},
   "outputs": [
    {
     "data": {
      "text/plain": [
       "array([[-4.74820144e-01,  2.22577210e-01],\n",
       "       [-5.44364508e-01,  2.25772098e-01],\n",
       "       [-5.92326139e-01,  2.24707135e-01],\n",
       "       [-6.04316547e-01,  2.25772098e-01],\n",
       "       [-6.40287770e-01,  2.27902023e-01],\n",
       "       [-6.83453237e-01,  2.24707135e-01],\n",
       "       [-7.84172662e-01,  2.17252396e-01],\n",
       "       [-8.84892086e-01,  2.01277955e-01],\n",
       "       [-9.23261391e-01,  1.84238552e-01],\n",
       "       [-9.52038369e-01,  1.81043663e-01],\n",
       "       [-9.64028777e-01,  1.93823216e-01],\n",
       "       [-9.49640288e-01,  2.16187433e-01],\n",
       "       [-9.54436451e-01,  2.24707135e-01],\n",
       "       [-1.00239808e+00,  2.12992545e-01],\n",
       "       [-1.03836931e+00,  1.76783813e-01],\n",
       "       [-1.08872902e+00,  1.22470714e-01],\n",
       "       [-1.13669065e+00,  7.34824280e-02],\n",
       "       [-1.14628297e+00,  4.15335460e-02],\n",
       "       [-1.20863309e+00,  3.30138450e-02],\n",
       "       [-1.23741007e+00,  5.32481360e-02],\n",
       "       [-1.27577938e+00,  9.90415340e-02],\n",
       "       [-1.29256595e+00,  1.55484558e-01],\n",
       "       [-1.26618705e+00,  2.12992545e-01],\n",
       "       [-1.27338130e+00,  2.65175719e-01],\n",
       "       [-1.19184652e+00,  3.05644302e-01],\n",
       "       [-1.12949640e+00,  3.23748669e-01],\n",
       "       [-9.83213429e-01,  3.22683706e-01],\n",
       "       [-8.17745803e-01,  3.08839191e-01],\n",
       "       [-7.55395683e-01,  2.90734824e-01],\n",
       "       [-7.48201439e-01,  2.66240682e-01],\n",
       "       [-7.69784173e-01,  2.22577210e-01],\n",
       "       [-7.91366906e-01,  1.69329073e-01],\n",
       "       [-7.38609113e-01,  1.07561235e-01],\n",
       "       [-6.83453237e-01,  5.43130990e-02],\n",
       "       [-6.61870504e-01,  1.81043660e-02],\n",
       "       [-6.97841727e-01,  1.06496270e-02],\n",
       "       [-7.86570743e-01,  2.87539940e-02],\n",
       "       [-8.36930456e-01,  6.49627260e-02],\n",
       "       [-8.41726619e-01,  9.26517570e-02],\n",
       "       [-8.36930456e-01,  9.15867940e-02],\n",
       "       [-8.44124700e-01,  6.28328010e-02],\n",
       "       [-8.41726619e-01,  3.40788070e-02],\n",
       "       [-8.48920863e-01,  2.12992550e-02],\n",
       "       [-9.16067146e-01,  2.98189560e-02],\n",
       "       [-9.32853717e-01,  4.04685840e-02],\n",
       "       [-9.20863309e-01,  2.98189560e-02],\n",
       "       [-7.96163070e-01, -2.02342920e-02],\n",
       "       [-5.99520384e-01, -1.03301384e-01],\n",
       "       [-5.63549161e-01, -2.00212993e-01],\n",
       "       [-5.99520384e-01, -2.89669862e-01],\n",
       "       [-7.67386091e-01, -3.58892439e-01],\n",
       "       [-9.64028777e-01, -3.97231097e-01],\n",
       "       [-1.08872902e+00, -4.15335463e-01],\n",
       "       [-1.17985611e+00, -4.05750799e-01],\n",
       "       [-1.17505995e+00, -3.78061768e-01],\n",
       "       [-1.17745803e+00, -3.42917998e-01],\n",
       "       [-1.14388489e+00, -3.01384452e-01],\n",
       "       [-1.14868105e+00, -2.58785942e-01],\n",
       "       [-1.20383693e+00, -2.11927583e-01],\n",
       "       [-1.19664269e+00, -1.64004260e-01],\n",
       "       [-1.14148681e+00, -1.16080937e-01],\n",
       "       [-1.02158273e+00, -7.13525030e-02],\n",
       "       [-8.58513189e-01, -4.15335460e-02],\n",
       "       [-7.24220624e-01, -3.40788070e-02],\n",
       "       [-6.71462830e-01, -5.21831740e-02],\n",
       "       [-6.42685851e-01, -8.62619810e-02],\n",
       "       [-6.47482014e-01, -1.17145900e-01],\n",
       "       [-6.59472422e-01, -1.26730564e-01],\n",
       "       [-6.45083933e-01, -1.12886049e-01],\n",
       "       [-5.44364508e-01, -1.12886049e-01],\n",
       "       [-4.14868106e-01, -1.43769968e-01],\n",
       "       [-3.21342926e-01, -2.05537806e-01],\n",
       "       [-2.92565947e-01, -2.65175719e-01],\n",
       "       [-3.45323741e-01, -2.84345048e-01],\n",
       "       [-4.70023981e-01, -2.66240682e-01],\n",
       "       [-5.68345324e-01, -2.19382322e-01],\n",
       "       [-5.65947242e-01, -1.60809372e-01],\n",
       "       [-5.32374101e-01, -1.11821086e-01],\n",
       "       [-4.84412470e-01, -9.15867940e-02],\n",
       "       [-4.48441247e-01, -1.02236422e-01],\n",
       "       [-4.50839329e-01, -1.12886049e-01],\n",
       "       [-5.27577938e-01, -1.02236422e-01],\n",
       "       [-6.25899281e-01, -5.11182110e-02],\n",
       "       [-6.57074341e-01,  2.44941430e-02],\n",
       "       [-6.30695444e-01,  9.05218320e-02],\n",
       "       [-5.20383693e-01,  1.09691161e-01],\n",
       "       [-3.30935252e-01,  5.75079870e-02],\n",
       "       [-2.42206235e-01, -4.25985090e-02],\n",
       "       [-3.26139089e-01, -1.56549521e-01],\n",
       "       [-5.05995204e-01, -2.53461129e-01],\n",
       "       [-7.05035971e-01, -3.03514377e-01],\n",
       "       [-8.27338129e-01, -3.02449414e-01],\n",
       "       [-8.87290168e-01, -2.63045793e-01],\n",
       "       [-8.99280576e-01, -2.07667732e-01],\n",
       "       [-8.96882494e-01, -1.67199148e-01],\n",
       "       [-9.28057554e-01, -1.54419595e-01],\n",
       "       [-9.52038369e-01, -1.59744409e-01],\n",
       "       [-9.56834532e-01, -1.59744409e-01],\n",
       "       [-9.80815348e-01, -1.36315229e-01],\n",
       "       [-9.73621103e-01, -8.41320550e-02],\n",
       "       [-1.00000000e+00, -2.55591050e-02],\n",
       "       [-9.13669065e-01,  9.58466500e-03],\n",
       "       [-8.20143885e-01,  1.70394040e-02],\n",
       "       [-7.43405276e-01,  5.32481400e-03],\n",
       "       [-6.21103118e-01, -1.06496300e-03],\n",
       "       [-5.39568345e-01,  6.38977600e-03],\n",
       "       [-5.61151079e-01,  2.34291800e-02],\n",
       "       [-5.65947242e-01,  3.40788070e-02],\n",
       "       [-4.70023981e-01,  2.44941430e-02],\n",
       "       [-3.33333333e-01,  5.32481400e-03],\n",
       "       [-1.99040767e-01, -3.19488800e-03],\n",
       "       [-1.03117506e-01,  7.45473900e-03],\n",
       "       [-9.59232610e-02,  1.91693290e-02],\n",
       "       [-1.27098321e-01,  2.66240680e-02],\n",
       "       [-1.48681055e-01,  2.12992550e-02],\n",
       "       [-1.41486811e-01,  4.25985100e-03],\n",
       "       [-5.51558750e-02, -1.27795530e-02],\n",
       "       [-4.79616300e-03, -2.76890310e-02],\n",
       "       [ 9.59232600e-03, -3.94036210e-02],\n",
       "       [ 1.43884890e-02, -5.11182110e-02],\n",
       "       [-4.79616300e-03, -6.17678380e-02],\n",
       "       [-5.03597120e-02, -8.51970180e-02],\n",
       "       [-1.17505995e-01, -1.22470714e-01],\n",
       "       [-1.84652278e-01, -1.61874334e-01],\n",
       "       [-2.78177458e-01, -1.89563365e-01],\n",
       "       [-3.54916067e-01, -1.88498403e-01],\n",
       "       [-4.22062350e-01, -1.57614483e-01],\n",
       "       [-5.37170264e-01, -9.90415340e-02],\n",
       "       [-6.16306954e-01, -3.19488820e-02],\n",
       "       [-6.54676259e-01,  2.12992550e-02],\n",
       "       [-6.16306954e-01,  4.47284350e-02],\n",
       "       [-5.99520384e-01,  4.15335460e-02],\n",
       "       [-6.76258993e-01,  3.30138450e-02],\n",
       "       [-6.71462830e-01,  3.30138450e-02],\n",
       "       [-6.11510791e-01,  5.64430240e-02],\n",
       "       [-5.03597122e-01,  9.26517570e-02],\n",
       "       [-3.64508393e-01,  1.15015974e-01],\n",
       "       [-2.37410072e-01,  1.05431310e-01],\n",
       "       [-2.23021583e-01,  6.92225770e-02],\n",
       "       [-2.20623501e-01,  1.81043660e-02],\n",
       "       [-2.51798561e-01, -2.55591050e-02],\n",
       "       [-2.92565947e-01, -4.36634720e-02],\n",
       "       [-3.45323741e-01, -3.19488820e-02],\n",
       "       [-2.99760192e-01,  1.06496300e-03],\n",
       "       [-2.35011990e-01,  3.62087330e-02],\n",
       "       [-2.66187050e-01,  5.96379130e-02],\n",
       "       [-2.92565947e-01,  6.60276890e-02],\n",
       "       [-2.92565947e-01,  6.17678380e-02],\n",
       "       [-2.73381295e-01,  7.02875400e-02],\n",
       "       [-1.87050360e-01,  9.69116080e-02],\n",
       "       [-4.07673860e-02,  1.27795527e-01],\n",
       "       [ 5.03597120e-02,  1.46964856e-01],\n",
       "       [ 8.63309350e-02,  1.41640043e-01],\n",
       "       [ 6.71462830e-02,  1.13951012e-01],\n",
       "       [ 4.31654680e-02,  7.13525030e-02],\n",
       "       [ 2.39808200e-03,  3.40788070e-02],\n",
       "       [-2.39808200e-03,  1.38445150e-02],\n",
       "       [-6.47482010e-02,  1.91693290e-02],\n",
       "       [-5.27577940e-02,  4.36634720e-02],\n",
       "       [-9.59232610e-02,  6.49627260e-02],\n",
       "       [-1.29496403e-01,  5.96379130e-02],\n",
       "       [-8.87290170e-02,  2.44941430e-02],\n",
       "       [-1.24700240e-01, -2.87539940e-02],\n",
       "       [-1.63069544e-01, -6.60276890e-02],\n",
       "       [-2.42206235e-01, -6.17678380e-02],\n",
       "       [-2.85371703e-01, -2.12992550e-02],\n",
       "       [-2.39808153e-01,  4.36634720e-02],\n",
       "       [-1.72661871e-01,  1.03301384e-01],\n",
       "       [-6.23501200e-02,  1.36315229e-01],\n",
       "       [ 2.39808200e-03,  1.39510117e-01],\n",
       "       [ 3.83693050e-02,  1.13951012e-01],\n",
       "       [ 7.67386090e-02,  7.02875400e-02],\n",
       "       [ 5.03597120e-02,  2.76890310e-02],\n",
       "       [ 7.19424460e-02, -5.32481400e-03],\n",
       "       [ 3.35731410e-02, -1.59744410e-02],\n",
       "       [-3.35731410e-02, -4.25985100e-03],\n",
       "       [-1.12709832e-01,  1.49094780e-02],\n",
       "       [-1.29496403e-01,  3.30138450e-02],\n",
       "       [-1.17505995e-01,  4.25985090e-02],\n",
       "       [-5.75539570e-02,  4.36634720e-02],\n",
       "       [-1.67865710e-02,  5.32481360e-02],\n",
       "       [-4.79616300e-03,  8.62619810e-02],\n",
       "       [-2.87769780e-02,  1.32055378e-01],\n",
       "       [-3.59712230e-02,  1.72523962e-01],\n",
       "       [-4.31654680e-02,  1.81043663e-01],\n",
       "       [-2.39808200e-03,  1.48029819e-01],\n",
       "       [ 4.55635490e-02,  9.47816830e-02],\n",
       "       [-2.39808200e-03,  4.47284350e-02],\n",
       "       [-1.00719424e-01,  2.34291800e-02],\n",
       "       [-2.61390887e-01,  4.36634720e-02],\n",
       "       [-3.45323741e-01,  9.79765710e-02],\n",
       "       [-3.45323741e-01,  1.69329073e-01],\n",
       "       [-1.99040767e-01,  2.22577210e-01],\n",
       "       [-3.35731410e-02,  2.35356763e-01],\n",
       "       [ 7.67386090e-02,  2.15122471e-01],\n",
       "       [ 1.15107914e-01,  1.83173589e-01],\n",
       "       [ 7.19424460e-02,  1.57614483e-01],\n",
       "       [-7.19424500e-03,  1.43769968e-01],\n",
       "       [-8.15347720e-02,  1.44834931e-01],\n",
       "       [-8.15347720e-02,  1.50159744e-01],\n",
       "       [-1.19904080e-02,  1.57614483e-01],\n",
       "       [ 3.11750600e-02,  1.53354633e-01],\n",
       "       [ 5.03597120e-02,  1.33120341e-01],\n",
       "       [ 6.23501200e-02,  9.47816830e-02],\n",
       "       [ 4.79616310e-02,  4.47284350e-02],\n",
       "       [-6.47482010e-02, -7.45473900e-03],\n",
       "       [-1.22302158e-01, -5.00532480e-02],\n",
       "       [-1.72661871e-01, -7.56123540e-02],\n",
       "       [-1.96642686e-01, -8.83919060e-02],\n",
       "       [-1.67865707e-01, -8.83919060e-02],\n",
       "       [-9.59232610e-02, -7.77422790e-02],\n",
       "       [-7.67386090e-02, -5.53780620e-02],\n",
       "       [-1.03117506e-01, -2.76890310e-02],\n",
       "       [-1.34292566e-01, -2.12992500e-03],\n",
       "       [-1.79856115e-01,  2.55591050e-02],\n",
       "       [-1.19904077e-01,  6.49627260e-02],\n",
       "       [ 0.00000000e+00,  1.08626198e-01],\n",
       "       [ 1.53477218e-01,  1.42705005e-01],\n",
       "       [ 2.82973621e-01,  1.66134185e-01],\n",
       "       [ 3.23741007e-01,  1.77848775e-01],\n",
       "       [ 3.18944844e-01,  1.78913738e-01],\n",
       "       [ 2.99760192e-01,  1.67199148e-01],\n",
       "       [ 2.85371703e-01,  1.43769968e-01],\n",
       "       [ 3.28537170e-01,  1.08626198e-01],\n",
       "       [ 3.95683453e-01,  6.28328010e-02],\n",
       "       [ 4.31654676e-01,  2.12992550e-02],\n",
       "       [ 4.05275779e-01, -7.45473900e-03],\n",
       "       [ 3.21342926e-01, -2.44941430e-02],\n",
       "       [ 2.56594724e-01, -3.83386580e-02],\n",
       "       [ 1.99040767e-01, -5.64430240e-02],\n",
       "       [ 2.15827338e-01, -8.62619810e-02],\n",
       "       [ 2.44604317e-01, -1.25665602e-01],\n",
       "       [ 1.60671463e-01, -1.64004260e-01],\n",
       "       [ 6.95443650e-02, -1.88498403e-01],\n",
       "       [-1.67865710e-02, -1.88498403e-01],\n",
       "       [-9.11270980e-02, -1.69329073e-01],\n",
       "       [-1.34292566e-01, -1.35250266e-01],\n",
       "       [-1.65467626e-01, -9.69116080e-02],\n",
       "       [-1.34292566e-01, -7.45473910e-02],\n",
       "       [-8.63309350e-02, -7.34824280e-02],\n",
       "       [-2.39808200e-03, -9.26517570e-02],\n",
       "       [ 2.39808200e-03, -1.19275825e-01],\n",
       "       [-1.19904080e-02, -1.36315229e-01],\n",
       "       [-3.83693050e-02, -1.44834931e-01],\n",
       "       [ 1.91846520e-02, -1.46964856e-01],\n",
       "       [ 1.15107914e-01, -1.46964856e-01],\n",
       "       [ 2.11031175e-01, -1.54419595e-01],\n",
       "       [ 2.49400480e-01, -1.65069223e-01],\n",
       "       [ 2.42206235e-01, -1.81043663e-01],\n",
       "       [ 1.75059952e-01, -1.90628328e-01],\n",
       "       [ 1.05515588e-01, -1.90628328e-01],\n",
       "       [ 8.39328540e-02, -1.74653887e-01],\n",
       "       [ 1.03117506e-01, -1.44834931e-01],\n",
       "       [ 1.43884892e-01, -1.12886049e-01],\n",
       "       [ 1.39088729e-01, -9.15867940e-02],\n",
       "       [ 1.53477218e-01, -8.73269440e-02],\n",
       "       [ 1.48681055e-01, -1.01171459e-01],\n",
       "       [ 1.29496403e-01, -1.25665602e-01],\n",
       "       [ 1.65467626e-01, -1.51224707e-01],\n",
       "       [ 1.99040767e-01, -1.53354633e-01],\n",
       "       [ 2.35011990e-01, -1.30990415e-01],\n",
       "       [ 2.80575540e-01, -9.79765710e-02],\n",
       "       [ 2.80575540e-01, -7.77422790e-02],\n",
       "       [ 2.97362110e-01, -8.73269440e-02],\n",
       "       [ 3.14148681e-01, -1.23535676e-01],\n",
       "       [ 3.66906475e-01, -1.65069223e-01],\n",
       "       [ 2.97362110e-01, -1.98083067e-01],\n",
       "       [ 2.32613909e-01, -2.10862620e-01],\n",
       "       [ 2.30215827e-01, -2.09797657e-01],\n",
       "       [ 2.13429257e-01, -1.98083067e-01],\n",
       "       [ 2.01438849e-01, -1.81043663e-01],\n",
       "       [ 2.01438849e-01, -1.65069223e-01],\n",
       "       [ 2.01438849e-01, -1.54419595e-01],\n",
       "       [ 2.01438849e-01, -1.53354633e-01],\n",
       "       [ 2.30215827e-01, -1.58679446e-01],\n",
       "       [ 2.58992806e-01, -1.59744409e-01],\n",
       "       [ 3.26139089e-01, -1.40575080e-01],\n",
       "       [ 3.26139089e-01, -1.07561235e-01],\n",
       "       [ 3.21342926e-01, -8.41320550e-02],\n",
       "       [ 2.80575540e-01, -9.58466450e-02],\n",
       "       [ 2.78177458e-01, -1.45899894e-01],\n",
       "       [ 2.68585132e-01, -2.12992545e-01],\n",
       "       [ 1.99040767e-01, -2.69435570e-01],\n",
       "       [ 9.35251800e-02, -2.92864750e-01],\n",
       "       [-1.67865710e-02, -2.79020234e-01],\n",
       "       [-7.43405280e-02, -2.32161874e-01],\n",
       "       [-1.00719424e-01, -1.73588924e-01],\n",
       "       [-6.71462830e-02, -1.15015974e-01],\n",
       "       [-1.19904080e-02, -6.81576140e-02],\n",
       "       [ 4.31654680e-02, -3.19488820e-02],\n",
       "       [ 7.67386090e-02, -6.38977600e-03],\n",
       "       [ 6.23501200e-02,  8.51970200e-03],\n",
       "       [ 5.99520380e-02,  1.17145900e-02],\n",
       "       [ 1.24700240e-01,  5.32481400e-03],\n",
       "       [ 1.77458034e-01, -4.25985100e-03],\n",
       "       [ 1.91846523e-01, -1.27795530e-02],\n",
       "       [ 2.15827338e-01, -2.34291800e-02],\n",
       "       [ 2.13429257e-01, -3.94036210e-02],\n",
       "       [ 1.46282974e-01, -6.17678380e-02],\n",
       "       [ 9.83213430e-02, -8.51970180e-02],\n",
       "       [ 8.15347720e-02, -1.00106496e-01],\n",
       "       [ 5.51558750e-02, -1.01171459e-01],\n",
       "       [ 2.15827340e-02, -9.37167200e-02],\n",
       "       [-8.15347720e-02, -8.51970180e-02],\n",
       "       [-2.32613909e-01, -8.62619810e-02],\n",
       "       [-3.16546763e-01, -8.51970180e-02],\n",
       "       [-3.62110312e-01, -7.24174650e-02],\n",
       "       [-3.90887290e-01, -4.04685840e-02],\n",
       "       [-3.86091127e-01,  1.38445150e-02],\n",
       "       [-4.55635492e-01,  8.73269440e-02],\n",
       "       [-4.94004796e-01,  1.66134185e-01],\n",
       "       [-4.65227818e-01,  2.34291800e-01],\n",
       "       [-4.31654676e-01,  2.83280085e-01],\n",
       "       [-4.24460432e-01,  3.20553781e-01],\n",
       "       [-3.83693046e-01,  3.52502662e-01],\n",
       "       [-2.92565947e-01,  3.76996805e-01],\n",
       "       [-1.29496403e-01,  3.87646432e-01],\n",
       "       [ 0.00000000e+00,  3.92971246e-01],\n",
       "       [ 1.67865707e-01,  3.83386581e-01],\n",
       "       [ 3.06954436e-01,  3.58892439e-01],\n",
       "       [ 3.90887290e-01,  3.18423855e-01],\n",
       "       [ 4.86810552e-01,  2.69435570e-01],\n",
       "       [ 5.58752998e-01,  2.26837061e-01],\n",
       "       [ 5.56354916e-01,  2.01277955e-01],\n",
       "       [ 5.39568345e-01,  1.90628328e-01],\n",
       "       [ 5.10791367e-01,  1.73588924e-01],\n",
       "       [ 4.34052758e-01,  1.37380192e-01],\n",
       "       [ 3.98081535e-01,  8.94568690e-02],\n",
       "       [ 3.59712230e-01,  4.47284350e-02],\n",
       "       [ 2.54196643e-01,  2.44941430e-02],\n",
       "       [ 1.53477218e-01,  2.87539940e-02],\n",
       "       [ 5.27577940e-02,  3.94036210e-02],\n",
       "       [-1.67865710e-02,  3.72736950e-02],\n",
       "       [-8.63309350e-02,  2.02342920e-02],\n",
       "       [-1.55875300e-01, -9.58466500e-03],\n",
       "       [-2.54196643e-01, -2.87539940e-02],\n",
       "       [-2.90167866e-01, -2.12992550e-02],\n",
       "       [-2.42206235e-01,  2.02342920e-02],\n",
       "       [-1.70263789e-01,  9.37167200e-02],\n",
       "       [-2.15827340e-02,  1.78913738e-01],\n",
       "       [ 2.15827340e-02,  2.44941427e-01],\n",
       "       [ 4.31654680e-02,  2.58785942e-01],\n",
       "       [ 1.05515588e-01,  2.24707135e-01],\n",
       "       [ 1.63069544e-01,  1.62939297e-01],\n",
       "       [ 1.48681055e-01,  1.15015974e-01],\n",
       "       [ 1.17505995e-01,  9.37167200e-02],\n",
       "       [ 1.19904077e-01,  1.04366347e-01],\n",
       "       [ 1.51079137e-01,  1.27795527e-01],\n",
       "       [ 1.82254197e-01,  1.41640043e-01],\n",
       "       [ 1.87050360e-01,  1.33120341e-01],\n",
       "       [ 1.94244604e-01,  1.01171459e-01],\n",
       "       [ 1.94244604e-01,  5.32481360e-02],\n",
       "       [ 1.91846523e-01,  8.51970200e-03],\n",
       "       [ 1.51079137e-01, -2.12992550e-02],\n",
       "       [ 1.46282974e-01, -3.40788070e-02],\n",
       "       [ 1.31894484e-01, -3.40788070e-02],\n",
       "       [ 6.95443650e-02, -3.51437700e-02],\n",
       "       [ 5.75539570e-02, -4.57933970e-02],\n",
       "       [ 5.03597120e-02, -6.49627260e-02],\n",
       "       [-1.19904080e-02, -8.09371670e-02],\n",
       "       [-2.87769780e-02, -8.20021300e-02],\n",
       "       [-7.91366910e-02, -7.13525030e-02],\n",
       "       [-1.24700240e-01, -5.21831740e-02],\n",
       "       [-1.60671463e-01, -2.66240680e-02],\n",
       "       [-1.51079137e-01,  3.19488800e-03],\n",
       "       [-8.87290170e-02,  2.12992550e-02],\n",
       "       [-5.51558750e-02,  2.66240680e-02],\n",
       "       [-6.23501200e-02,  2.02342920e-02],\n",
       "       [-9.83213430e-02,  1.27795530e-02],\n",
       "       [-1.48681055e-01,  5.32481400e-03],\n",
       "       [-1.96642686e-01,  7.45473900e-03],\n",
       "       [-2.20623501e-01,  1.81043660e-02],\n",
       "       [-1.94244604e-01,  4.47284350e-02],\n",
       "       [-1.22302158e-01,  9.05218320e-02],\n",
       "       [-3.59712230e-02,  1.34185304e-01],\n",
       "       [ 4.55635490e-02,  1.61874334e-01],\n",
       "       [ 9.11270980e-02,  1.73588924e-01],\n",
       "       [ 1.43884892e-01,  1.69329073e-01],\n",
       "       [ 1.55875300e-01,  1.51224707e-01],\n",
       "       [ 1.27098321e-01,  1.30990415e-01],\n",
       "       [ 9.35251800e-02,  1.21405751e-01],\n",
       "       [ 8.39328540e-02,  1.21405751e-01],\n",
       "       [ 1.29496403e-01,  1.34185304e-01],\n",
       "       [ 1.84652278e-01,  1.46964856e-01],\n",
       "       [ 1.87050360e-01,  1.49094782e-01],\n",
       "       [ 1.67865707e-01,  1.41640043e-01],\n",
       "       [ 1.41486811e-01,  1.13951012e-01],\n",
       "       [ 1.03117506e-01,  7.98722040e-02],\n",
       "       [ 4.55635490e-02,  4.89882850e-02],\n",
       "       [ 1.19904080e-02,  2.34291800e-02],\n",
       "       [-2.39808200e-03,  1.38445150e-02],\n",
       "       [-1.19904080e-02,  1.59744410e-02],\n",
       "       [-6.71462830e-02,  1.27795530e-02],\n",
       "       [-6.47482010e-02,  0.00000000e+00],\n",
       "       [-3.83693050e-02, -2.44941430e-02],\n",
       "       [-1.43884890e-02, -4.25985090e-02],\n",
       "       [-5.99520380e-02, -3.83386580e-02],\n",
       "       [-6.23501200e-02, -1.59744410e-02],\n",
       "       [-1.58273381e-01,  1.70394040e-02],\n",
       "       [-2.03836930e-01,  4.89882850e-02],\n",
       "       [-1.77458034e-01,  8.41320550e-02],\n",
       "       [-1.46282974e-01,  1.24600639e-01],\n",
       "       [-1.17505995e-01,  1.73588924e-01],\n",
       "       [-9.59232610e-02,  2.21512247e-01],\n",
       "       [-7.67386090e-02,  2.54526092e-01],\n",
       "       [-5.75539570e-02,  2.60915868e-01],\n",
       "       [ 1.19904080e-02,  2.39616613e-01],\n",
       "       [ 9.83213430e-02,  2.05537806e-01],\n",
       "       [ 1.65467626e-01,  1.73588924e-01],\n",
       "       [ 1.70263789e-01,  1.52289670e-01],\n",
       "       [ 1.41486811e-01,  1.36315229e-01],\n",
       "       [ 1.22302158e-01,  1.22470714e-01],\n",
       "       [ 1.05515588e-01,  1.06496273e-01],\n",
       "       [ 9.59232610e-02,  9.58466450e-02],\n",
       "       [ 1.46282974e-01,  9.26517570e-02],\n",
       "       [ 2.15827338e-01,  9.58466450e-02],\n",
       "       [ 2.44604317e-01,  9.47816830e-02],\n",
       "       [ 2.39808153e-01,  8.41320550e-02],\n",
       "       [ 1.84652278e-01,  6.28328010e-02],\n",
       "       [ 6.71462830e-02,  2.98189560e-02],\n",
       "       [-5.51558750e-02, -8.51970200e-03],\n",
       "       [-1.60671463e-01, -3.19488820e-02],\n",
       "       [-2.01438849e-01, -1.27795530e-02],\n",
       "       [-2.25419664e-01,  5.96379130e-02],\n",
       "       [-1.99040767e-01,  1.72523962e-01],\n",
       "       [-1.58273381e-01,  2.88604899e-01],\n",
       "       [-7.43405280e-02,  3.70607029e-01],\n",
       "       [ 7.19424500e-03,  3.98296060e-01],\n",
       "       [ 7.43405280e-02,  3.71671991e-01],\n",
       "       [ 1.39088729e-01,  3.18423855e-01],\n",
       "       [ 1.91846523e-01,  2.70500532e-01],\n",
       "       [ 2.15827338e-01,  2.43876464e-01],\n",
       "       [ 2.51798561e-01,  2.38551651e-01],\n",
       "       [ 2.68585132e-01,  2.40681576e-01],\n",
       "       [ 3.04556355e-01,  2.30031949e-01],\n",
       "       [ 3.28537170e-01,  2.04472843e-01],\n",
       "       [ 3.45323741e-01,  1.66134185e-01],\n",
       "       [ 3.78896882e-01,  1.25665602e-01],\n",
       "       [ 3.78896882e-01,  9.69116080e-02],\n",
       "       [ 3.66906475e-01,  7.88072420e-02],\n",
       "       [ 3.74100719e-01,  7.66773160e-02],\n",
       "       [ 4.05275779e-01,  7.45473910e-02],\n",
       "       [ 4.43645084e-01,  6.49627260e-02],\n",
       "       [ 4.79616307e-01,  4.04685840e-02],\n",
       "       [ 5.13189448e-01,  8.51970200e-03],\n",
       "       [ 4.98800959e-01, -2.02342920e-02],\n",
       "       [ 4.02877698e-01, -2.98189560e-02],\n",
       "       [ 3.09352518e-01, -1.06496270e-02],\n",
       "       [ 2.92565947e-01,  2.98189560e-02],\n",
       "       [ 3.59712230e-01,  7.98722040e-02],\n",
       "       [ 5.27577938e-01,  1.28860490e-01],\n",
       "       [ 6.78657074e-01,  1.61874334e-01],\n",
       "       [ 8.00959233e-01,  1.56549521e-01],\n",
       "       [ 8.63309353e-01,  1.12886049e-01],\n",
       "       [ 8.60911271e-01,  3.83386580e-02],\n",
       "       [ 8.56115108e-01, -4.79233230e-02],\n",
       "       [ 8.24940048e-01, -1.22470714e-01],\n",
       "       [ 7.91366906e-01, -1.70394036e-01],\n",
       "       [ 7.52997602e-01, -1.76783813e-01],\n",
       "       [ 7.43405276e-01, -1.57614483e-01],\n",
       "       [ 7.29016787e-01, -1.34185304e-01],\n",
       "       [ 7.33812950e-01, -1.34185304e-01],\n",
       "       [ 6.95443645e-01, -1.62939297e-01],\n",
       "       [ 6.18705036e-01, -2.16187433e-01],\n",
       "       [ 5.37170264e-01, -2.75825346e-01],\n",
       "       [ 3.74100719e-01, -3.16293930e-01],\n",
       "       [ 2.54196643e-01, -3.25878594e-01],\n",
       "       [ 1.89448441e-01, -3.05644302e-01],\n",
       "       [ 1.63069544e-01, -2.66240682e-01],\n",
       "       [ 1.27098321e-01, -2.24707135e-01],\n",
       "       [ 1.19904077e-01, -1.89563365e-01],\n",
       "       [ 9.35251800e-02, -1.69329073e-01],\n",
       "       [ 1.03117506e-01, -1.58679446e-01],\n",
       "       [ 8.63309350e-02, -1.40575080e-01],\n",
       "       [ 7.43405280e-02, -1.15015974e-01],\n",
       "       [ 3.83693050e-02, -7.77422790e-02],\n",
       "       [ 2.39808150e-02, -3.72736950e-02],\n",
       "       [-2.39808200e-03, -8.51970200e-03],\n",
       "       [ 1.91846520e-02,  8.51970200e-03],\n",
       "       [ 1.67865710e-02,  2.02342920e-02],\n",
       "       [-1.43884890e-02,  3.51437700e-02],\n",
       "       [-3.11750600e-02,  5.64430240e-02],\n",
       "       [-6.95443650e-02,  7.98722040e-02],\n",
       "       [-5.75539570e-02,  1.01171459e-01],\n",
       "       [-1.91846520e-02,  1.23535676e-01],\n",
       "       [-2.87769780e-02,  1.35250266e-01],\n",
       "       [-2.15827340e-02,  1.40575080e-01],\n",
       "       [ 9.59232600e-03,  1.44834931e-01],\n",
       "       [ 4.79616300e-03,  1.53354633e-01],\n",
       "       [ 2.15827340e-02,  1.59744409e-01],\n",
       "       [ 5.75539570e-02,  1.59744409e-01],\n",
       "       [ 1.17505995e-01,  1.57614483e-01],\n",
       "       [ 1.22302158e-01,  1.55484558e-01],\n",
       "       [ 9.83213430e-02,  1.46964856e-01],\n",
       "       [ 8.15347720e-02,  1.26730564e-01],\n",
       "       [ 6.95443650e-02,  8.94568690e-02],\n",
       "       [ 8.63309350e-02,  3.72736950e-02],\n",
       "       [ 9.83213430e-02, -1.59744410e-02],\n",
       "       [ 6.23501200e-02, -5.85729500e-02],\n",
       "       [-6.47482010e-02, -7.56123540e-02]])"
      ]
     },
     "execution_count": 25,
     "metadata": {},
     "output_type": "execute_result"
    }
   ],
   "source": [
    "X # Array of X"
   ]
  },
  {
   "cell_type": "code",
   "execution_count": 26,
   "metadata": {},
   "outputs": [],
   "source": [
    "# Here we need to use of elbow method,  which would help us to choose the the number of centroid.\n",
    "# Centroids are the values which the dataset would clutering around.\n",
    "distortion= []\n",
    "K= range(1,10)\n",
    "for k in K:\n",
    "    kmeanModel = KMeans(n_clusters=k,init='k-means++',random_state=42)\n",
    "    kmeanModel.fit(scale(X))\n",
    "    distortion.append(kmeanModel.inertia_)"
   ]
  },
  {
   "cell_type": "code",
   "execution_count": 27,
   "metadata": {},
   "outputs": [
    {
     "data": {
      "image/png": "[encoded data removed]",
      "text/plain": [
       "<Figure size 504x288 with 1 Axes>"
      ]
     },
     "metadata": {
      "needs_background": "light"
     },
     "output_type": "display_data"
    }
   ],
   "source": [
    "plt.figure(figsize=(7,4))\n",
    "plt.plot(K, distortion, 'bx-')\n",
    "plt.xlabel('k')\n",
    "plt.ylabel('Distortion')\n",
    "plt.title('The elbow Method showing the optimal k')\n",
    "plt.show()"
   ]
  },
  {
   "cell_type": "markdown",
   "metadata": {},
   "source": [
    "The elbow graph above is showing how k-cluters descent from higher to the lowest, for better prediction. It is better for us to choose our number of clusters from where the graph started descending. And we can see that the diagram above started descending from k= 3. Therefore, we choose cluter= 3 for our result."
   ]
  },
  {
   "cell_type": "code",
   "execution_count": 28,
   "metadata": {},
   "outputs": [],
   "source": [
    "#KMeans for 3 clusters\n",
    "kmeanModel = KMeans(n_clusters=3,init='k-means++',random_state=42)\n",
    "y_kmeans= kmeanModel.fit(X)"
   ]
  },
  {
   "cell_type": "code",
   "execution_count": 29,
   "metadata": {},
   "outputs": [
    {
     "data": {
      "text/plain": [
       "array([2, 2, 2, 2, 2, 2, 2, 2, 2, 2, 2, 2, 2, 2, 2, 2, 2, 2, 2, 2, 2, 2,\n",
       "       2, 2, 2, 2, 2, 2, 2, 2, 2, 2, 2, 2, 2, 2, 2, 2, 2, 2, 2, 2, 2, 2,\n",
       "       2, 2, 2, 2, 2, 2, 2, 2, 2, 2, 2, 2, 2, 2, 2, 2, 2, 2, 2, 2, 2, 2,\n",
       "       2, 2, 2, 2, 1, 1, 1, 1, 2, 2, 2, 2, 2, 2, 2, 2, 2, 2, 2, 2, 1, 1,\n",
       "       1, 2, 2, 2, 2, 2, 2, 2, 2, 2, 2, 2, 2, 2, 2, 2, 2, 2, 2, 2, 2, 1,\n",
       "       1, 1, 1, 1, 1, 1, 1, 1, 1, 1, 1, 1, 1, 1, 1, 1, 1, 2, 2, 2, 2, 2,\n",
       "       2, 2, 2, 2, 1, 1, 1, 1, 1, 1, 1, 1, 1, 1, 1, 1, 1, 1, 1, 1, 1, 1,\n",
       "       1, 1, 1, 1, 1, 1, 1, 1, 1, 1, 1, 1, 1, 1, 1, 1, 1, 1, 1, 1, 1, 1,\n",
       "       1, 1, 1, 1, 1, 1, 1, 1, 1, 1, 1, 1, 1, 1, 1, 1, 1, 1, 1, 1, 1, 1,\n",
       "       1, 1, 1, 1, 1, 1, 1, 1, 1, 1, 1, 1, 1, 1, 1, 1, 1, 1, 1, 0, 0, 0,\n",
       "       0, 0, 0, 0, 0, 0, 0, 0, 0, 0, 0, 0, 0, 1, 1, 1, 1, 1, 1, 1, 1, 1,\n",
       "       1, 1, 1, 0, 0, 0, 0, 0, 0, 0, 0, 0, 0, 0, 0, 0, 0, 0, 0, 0, 0, 0,\n",
       "       0, 0, 0, 0, 0, 0, 0, 0, 0, 0, 0, 0, 0, 0, 0, 0, 0, 0, 0, 0, 1, 1,\n",
       "       1, 1, 1, 1, 1, 1, 1, 0, 0, 0, 0, 0, 0, 0, 1, 1, 1, 1, 1, 1, 1, 1,\n",
       "       1, 2, 2, 2, 1, 1, 1, 1, 1, 1, 0, 0, 0, 0, 0, 0, 0, 0, 0, 0, 0, 0,\n",
       "       0, 1, 1, 1, 1, 1, 1, 1, 1, 1, 1, 1, 1, 0, 0, 0, 0, 0, 0, 0, 0, 0,\n",
       "       0, 0, 0, 0, 1, 1, 1, 1, 1, 1, 1, 1, 1, 1, 1, 1, 1, 1, 1, 1, 1, 1,\n",
       "       1, 1, 1, 0, 0, 0, 1, 1, 0, 0, 0, 0, 0, 1, 1, 1, 1, 1, 1, 1, 1, 1,\n",
       "       1, 1, 1, 1, 1, 1, 1, 1, 1, 1, 1, 1, 0, 0, 0, 0, 1, 1, 0, 0, 0, 0,\n",
       "       0, 1, 1, 1, 1, 1, 1, 1, 1, 1, 1, 0, 0, 0, 0, 0, 0, 0, 0, 0, 0, 0,\n",
       "       0, 0, 0, 0, 0, 0, 0, 0, 0, 0, 0, 0, 0, 0, 0, 0, 0, 0, 0, 0, 0, 0,\n",
       "       0, 0, 0, 0, 0, 0, 0, 0, 0, 0, 0, 1, 1, 1, 1, 1, 1, 1, 1, 1, 1, 1,\n",
       "       1, 1, 1, 1, 1, 1, 1, 0, 0, 1, 1, 1, 1, 1, 1, 1])"
      ]
     },
     "execution_count": 29,
     "metadata": {},
     "output_type": "execute_result"
    }
   ],
   "source": [
    "y_kmeans.labels_ # Our predicted values of y"
   ]
  },
  {
   "cell_type": "code",
   "execution_count": null,
   "metadata": {},
   "outputs": [],
   "source": [
    "#Plot showing how the datas  were clustered around their centroids.\n",
    "plt.figure(figsize=(10,8))\n",
    "plt.scatter(X[y_kmeans.labels_ ==0, 0],  X[y_kmeans.labels_ ==0, 1], s=100, c='red', label= 'cluster 1')\n",
    "plt.scatter(X[y_kmeans.labels_ ==1, 0],  X[y_kmeans.labels_ ==1, 1], s=100, c='blue', label= 'cluster 2')\n",
    "plt.scatter(X[y_kmeans.labels_ ==2, 0],  X[y_kmeans.labels_ ==2, 1], s=100, c='green', label= 'cluster 3')\n",
    "plt.scatter(kmeanModel.cluster_centers_[:, 0], kmeanModel.cluster_centers_[:, 1], s=200, c='yellow', label= 'Centroid')\n",
    "plt.legend()\n",
    "plt.xlabel('Accelerator')\n",
    "plt.ylabel('Gyroscope')\n",
    "plt.title('Clustering')\n",
    "plt.show()"
   ]
  },
  {
   "cell_type": "markdown",
   "metadata": {},
   "source": [
    "The three activities that took place is showing different things. From the first cluster, we could see  that there is a small amount of forces applied followed by the second cluster and the last is the third cluster. \n",
    "\n",
    "Secondly, we could see their displacement which I can now called the activities of each clusters. All the three clusters shows a very high displacement, which means probably the first cluster  is when the boy/girl was avoiding people walking road, and the third cluster might be as a result of road bumbs. But if we could take time to study what has happened in the second cluster we will see that alot of displacement actually took place. And some of the things that must have happened are.\n",
    "\n",
    "i. Maybe the boy/girl is just learning how to ride a bicycle.\n",
    "\n",
    "ii. Maybe the bicycle is not balance on the road dew to the fact that stabilizer is not probably fixed, and the parent have to put the bicycle down inorder to get it fix .\n",
    "\n",
    "iii. Bike Low Technology\n"
   ]
  },
  {
   "cell_type": "code",
   "execution_count": null,
   "metadata": {},
   "outputs": [],
   "source": [
    "# Before we jumped into conclusion, it's better we visuliaze the predicted values.\n",
    "plt.figure(figsize=(10,6))\n",
    "plt.hist(y_kmeans.labels_,  color = \"Red\", lw=0, )\n",
    "plt.title('X-test prediction')\n",
    "plt.show()\n",
    "\n",
    "#As we have said, the third cluster has the highest number of clustering."
   ]
  },
  {
   "cell_type": "markdown",
   "metadata": {},
   "source": [
    "## Observations"
   ]
  },
  {
   "cell_type": "markdown",
   "metadata": {},
   "source": [
    "Like I listed above. There are so much of displacement that took place in the second cluster. \n",
    "The first thing is that, suppose the boy/girl is just learning how to ride a bicycle, he or she might find it so difficult to ride. Parents of this categories of children might not enjoy riding the bicycle together with them. Or probably children riding this particular product always sustains injury on the road and many parents might have witness this terrible scenerios. One of the thing that could happen is that the children might talk to their friends about it, either in school or elsewhere. And those friends would definitely tell their parents not to get them that particular bike products. These might have been one of the reason that is affecting the sales.\n",
    "      \n",
    "Secondly, maybe the bicycle is not balance on the road dew to the fact that stabilizer is not probably fixed. Not every parents are capable to fix bicycle and the stabilizer very well especially the singles parents because they don't have enough tools. Some that has tools sometimes might find it difficult to understand the assemble manual that came with the product. And when a bicycle is not probably fix, children won't be able to enjoys their ride.\n",
    "\n",
    "\n",
    "Another thing is low technology.  It sounds embarracing for any parent to start fixing a bicycle for their children on the road. All these might have been the major cause of this problem.\n",
    "\n",
    "There are alot of competitors out there, which are seriously looking for the way to mazimax their profits everyday. And the best way to move ahead of them is to improve the technology of the product and also improve the sales stragegies every six month."
   ]
  },
  {
   "cell_type": "markdown",
   "metadata": {},
   "source": [
    "## Solution And  Conclusion"
   ]
  },
  {
   "cell_type": "markdown",
   "metadata": {},
   "source": [
    "i. I would suggest the company to provide a learning videos and fixing videos for every parents buying this product. And this should be flexible, not something that would send to emails which would require a download. The videos must be able to transfer directly to either there whatzapp or any easiest paltform for them to watch as soon as they get home.\n",
    "\n",
    "ii. Another thing they could do is to employ an engineers to different stations where this products have been distributed. They help fix the bike and make a free delivery to the owner the  within 24hours without extra charges.\n",
    "\n",
    "\n",
    "iii. Improve their bicycle technology for it to be balance on the road.  After improving the technology of the bike,  they should make it avoidable for an average person to buy.\n",
    "\n",
    "\n",
    "In conclusion, I suggest they should identify  where their most profitable clients are, and start and start this new stragies with them. \n",
    "\n",
    "\n"
   ]
  }
 ],
 "metadata": {
  "kernelspec": {
   "display_name": "Python 3",
   "language": "python",
   "name": "python3"
  },
  "language_info": {
   "codemirror_mode": {
    "name": "ipython",
    "version": 3
   },
   "file_extension": ".py",
   "mimetype": "text/x-python",
   "name": "python",
   "nbconvert_exporter": "python",
   "pygments_lexer": "ipython3",
   "version": "3.7.4"
  }
 },
 "nbformat": 4,
 "nbformat_minor": 2
}
